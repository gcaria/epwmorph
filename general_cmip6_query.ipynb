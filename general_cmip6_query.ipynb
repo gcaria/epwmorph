{
  "nbformat": 4,
  "nbformat_minor": 0,
  "metadata": {
    "colab": {
      "name": "general_cmip6_query.ipynb",
      "provenance": [],
      "authorship_tag": "ABX9TyOCqfTghgNYrR93JYitE1wc",
      "include_colab_link": true
    },
    "kernelspec": {
      "name": "python3",
      "display_name": "Python 3"
    },
    "widgets": {
      "application/vnd.jupyter.widget-state+json": {
        "1dc9e6f30a854423bb3c93f80df701c2": {
          "model_module": "@jupyter-widgets/controls",
          "model_name": "HBoxModel",
          "state": {
            "_view_name": "HBoxView",
            "_dom_classes": [],
            "_model_name": "HBoxModel",
            "_view_module": "@jupyter-widgets/controls",
            "_model_module_version": "1.5.0",
            "_view_count": null,
            "_view_module_version": "1.5.0",
            "box_style": "",
            "layout": "IPY_MODEL_652a8d7094904ca88c5fc6da3f296981",
            "_model_module": "@jupyter-widgets/controls",
            "children": [
              "IPY_MODEL_4bcf635dc89e43d79a0ecbf54e6a67b3",
              "IPY_MODEL_838b5c030bfb40aa886f69b52ec08416"
            ]
          }
        },
        "652a8d7094904ca88c5fc6da3f296981": {
          "model_module": "@jupyter-widgets/base",
          "model_name": "LayoutModel",
          "state": {
            "_view_name": "LayoutView",
            "grid_template_rows": null,
            "right": null,
            "justify_content": null,
            "_view_module": "@jupyter-widgets/base",
            "overflow": null,
            "_model_module_version": "1.2.0",
            "_view_count": null,
            "flex_flow": null,
            "width": null,
            "min_width": null,
            "border": null,
            "align_items": null,
            "bottom": null,
            "_model_module": "@jupyter-widgets/base",
            "top": null,
            "grid_column": null,
            "overflow_y": null,
            "overflow_x": null,
            "grid_auto_flow": null,
            "grid_area": null,
            "grid_template_columns": null,
            "flex": null,
            "_model_name": "LayoutModel",
            "justify_items": null,
            "grid_row": null,
            "max_height": null,
            "align_content": null,
            "visibility": null,
            "align_self": null,
            "height": null,
            "min_height": null,
            "padding": null,
            "grid_auto_rows": null,
            "grid_gap": null,
            "max_width": null,
            "order": null,
            "_view_module_version": "1.2.0",
            "grid_template_areas": null,
            "object_position": null,
            "object_fit": null,
            "grid_auto_columns": null,
            "margin": null,
            "display": null,
            "left": null
          }
        },
        "4bcf635dc89e43d79a0ecbf54e6a67b3": {
          "model_module": "@jupyter-widgets/controls",
          "model_name": "FloatProgressModel",
          "state": {
            "_view_name": "ProgressView",
            "style": "IPY_MODEL_4c487ed9fe55464db56d63dc1d9bab6d",
            "_dom_classes": [],
            "description": "100%",
            "_model_name": "FloatProgressModel",
            "bar_style": "success",
            "max": 55,
            "_view_module": "@jupyter-widgets/controls",
            "_model_module_version": "1.5.0",
            "value": 55,
            "_view_count": null,
            "_view_module_version": "1.5.0",
            "orientation": "horizontal",
            "min": 0,
            "description_tooltip": null,
            "_model_module": "@jupyter-widgets/controls",
            "layout": "IPY_MODEL_e2a25edcae314ae7be2a26b3fdf6955d"
          }
        },
        "838b5c030bfb40aa886f69b52ec08416": {
          "model_module": "@jupyter-widgets/controls",
          "model_name": "HTMLModel",
          "state": {
            "_view_name": "HTMLView",
            "style": "IPY_MODEL_bac69eb926b64d67a9f31d5a046a5fec",
            "_dom_classes": [],
            "description": "",
            "_model_name": "HTMLModel",
            "placeholder": "​",
            "_view_module": "@jupyter-widgets/controls",
            "_model_module_version": "1.5.0",
            "value": " 55/55 [02:40&lt;00:00,  2.92s/it]",
            "_view_count": null,
            "_view_module_version": "1.5.0",
            "description_tooltip": null,
            "_model_module": "@jupyter-widgets/controls",
            "layout": "IPY_MODEL_0faa962e72674c3dae6f190133ba472a"
          }
        },
        "4c487ed9fe55464db56d63dc1d9bab6d": {
          "model_module": "@jupyter-widgets/controls",
          "model_name": "ProgressStyleModel",
          "state": {
            "_view_name": "StyleView",
            "_model_name": "ProgressStyleModel",
            "description_width": "initial",
            "_view_module": "@jupyter-widgets/base",
            "_model_module_version": "1.5.0",
            "_view_count": null,
            "_view_module_version": "1.2.0",
            "bar_color": null,
            "_model_module": "@jupyter-widgets/controls"
          }
        },
        "e2a25edcae314ae7be2a26b3fdf6955d": {
          "model_module": "@jupyter-widgets/base",
          "model_name": "LayoutModel",
          "state": {
            "_view_name": "LayoutView",
            "grid_template_rows": null,
            "right": null,
            "justify_content": null,
            "_view_module": "@jupyter-widgets/base",
            "overflow": null,
            "_model_module_version": "1.2.0",
            "_view_count": null,
            "flex_flow": null,
            "width": null,
            "min_width": null,
            "border": null,
            "align_items": null,
            "bottom": null,
            "_model_module": "@jupyter-widgets/base",
            "top": null,
            "grid_column": null,
            "overflow_y": null,
            "overflow_x": null,
            "grid_auto_flow": null,
            "grid_area": null,
            "grid_template_columns": null,
            "flex": null,
            "_model_name": "LayoutModel",
            "justify_items": null,
            "grid_row": null,
            "max_height": null,
            "align_content": null,
            "visibility": null,
            "align_self": null,
            "height": null,
            "min_height": null,
            "padding": null,
            "grid_auto_rows": null,
            "grid_gap": null,
            "max_width": null,
            "order": null,
            "_view_module_version": "1.2.0",
            "grid_template_areas": null,
            "object_position": null,
            "object_fit": null,
            "grid_auto_columns": null,
            "margin": null,
            "display": null,
            "left": null
          }
        },
        "bac69eb926b64d67a9f31d5a046a5fec": {
          "model_module": "@jupyter-widgets/controls",
          "model_name": "DescriptionStyleModel",
          "state": {
            "_view_name": "StyleView",
            "_model_name": "DescriptionStyleModel",
            "description_width": "",
            "_view_module": "@jupyter-widgets/base",
            "_model_module_version": "1.5.0",
            "_view_count": null,
            "_view_module_version": "1.2.0",
            "_model_module": "@jupyter-widgets/controls"
          }
        },
        "0faa962e72674c3dae6f190133ba472a": {
          "model_module": "@jupyter-widgets/base",
          "model_name": "LayoutModel",
          "state": {
            "_view_name": "LayoutView",
            "grid_template_rows": null,
            "right": null,
            "justify_content": null,
            "_view_module": "@jupyter-widgets/base",
            "overflow": null,
            "_model_module_version": "1.2.0",
            "_view_count": null,
            "flex_flow": null,
            "width": null,
            "min_width": null,
            "border": null,
            "align_items": null,
            "bottom": null,
            "_model_module": "@jupyter-widgets/base",
            "top": null,
            "grid_column": null,
            "overflow_y": null,
            "overflow_x": null,
            "grid_auto_flow": null,
            "grid_area": null,
            "grid_template_columns": null,
            "flex": null,
            "_model_name": "LayoutModel",
            "justify_items": null,
            "grid_row": null,
            "max_height": null,
            "align_content": null,
            "visibility": null,
            "align_self": null,
            "height": null,
            "min_height": null,
            "padding": null,
            "grid_auto_rows": null,
            "grid_gap": null,
            "max_width": null,
            "order": null,
            "_view_module_version": "1.2.0",
            "grid_template_areas": null,
            "object_position": null,
            "object_fit": null,
            "grid_auto_columns": null,
            "margin": null,
            "display": null,
            "left": null
          }
        }
      }
    }
  },
  "cells": [
    {
      "cell_type": "markdown",
      "metadata": {
        "id": "view-in-github",
        "colab_type": "text"
      },
      "source": [
        "<a href=\"https://colab.research.google.com/github/justinfmccarty/epwmorph/blob/main/general_cmip6_query.ipynb\" target=\"_parent\"><img src=\"https://colab.research.google.com/assets/colab-badge.svg\" alt=\"Open In Colab\"/></a>"
      ]
    },
    {
      "cell_type": "code",
      "metadata": {
        "id": "_uOWATIt99uR"
      },
      "source": [
        "! pip install --upgrade xesmf xarray zarr gcsfs cftime nc-time-axis\r\n",
        "! pip install xclim\r\n",
        "! pip install intake-esm\r\n",
        "! pip install gcsfs "
      ],
      "execution_count": null,
      "outputs": []
    },
    {
      "cell_type": "code",
      "metadata": {
        "colab": {
          "base_uri": "https://localhost:8080/"
        },
        "id": "DtY0g0P2-C1_",
        "outputId": "795cea5f-ed6c-4e80-869a-65207cbc01b5"
      },
      "source": [
        "from matplotlib import pyplot as plt\r\n",
        "import numpy as np\r\n",
        "import pandas as pd\r\n",
        "import xarray as xr\r\n",
        "from xclim import ensembles\r\n",
        "# import xesmf as xe\r\n",
        "# import cartopy\r\n",
        "from dask.diagnostics import progress\r\n",
        "from tqdm.autonotebook import tqdm  # Fancy progress bars for our loops!\r\n",
        "import intake\r\n",
        "import dask\r\n",
        "%matplotlib inline\r\n",
        "plt.rcParams['figure.figsize'] = 12, 6\r\n",
        "%config InlineBackend.figure_format = 'retina' "
      ],
      "execution_count": 3,
      "outputs": [
        {
          "output_type": "stream",
          "text": [
            "/usr/local/lib/python3.6/dist-packages/ipykernel_launcher.py:9: TqdmExperimentalWarning: Using `tqdm.autonotebook.tqdm` in notebook mode. Use `tqdm.tqdm` instead to force console mode (e.g. in jupyter console)\n",
            "  if __name__ == '__main__':\n"
          ],
          "name": "stderr"
        }
      ]
    },
    {
      "cell_type": "code",
      "metadata": {
        "colab": {
          "base_uri": "https://localhost:8080/"
        },
        "id": "5ZjjIuIb-Dwz",
        "outputId": "f6db136a-56e4-4f0d-a62b-c26963b1ac09"
      },
      "source": [
        "col = intake.open_esm_datastore(\"https://storage.googleapis.com/cmip6/pangeo-cmip6.json\")"
      ],
      "execution_count": 4,
      "outputs": [
        {
          "output_type": "stream",
          "text": [
            "/usr/local/lib/python3.6/dist-packages/IPython/core/interactiveshell.py:2882: DtypeWarning: Columns (10) have mixed types.Specify dtype option on import or set low_memory=False.\n",
            "  exec(code_obj, self.user_global_ns, self.user_ns)\n"
          ],
          "name": "stderr"
        }
      ]
    },
    {
      "cell_type": "code",
      "metadata": {
        "id": "ZAabzsDw_ooD"
      },
      "source": [
        "cat = col.search(experiment_id=['ssp585','historical'],  # pick the `historical` forcing experiment\r\n",
        "                 table_id='Amon',             # choose to look at atmospheric variables (A) saved at monthly resolution (mon)\r\n",
        "                 variable_id='tasmax',           # choose to look at near-surface air temperature (tas) as our variable\r\n",
        "                 member_id = 'r1i1p1f1')      # arbitrarily pick one realization for each model (i.e. just one set of initial conditions)"
      ],
      "execution_count": 5,
      "outputs": []
    },
    {
      "cell_type": "code",
      "metadata": {
        "id": "ta5AlPbH_s7M"
      },
      "source": [
        "time_slice = slice('1950','2100') # specific years that bracket our period of interest\r\n",
        "latitude = -122.36 \r\n",
        "longitude = 49.0253"
      ],
      "execution_count": 6,
      "outputs": []
    },
    {
      "cell_type": "code",
      "metadata": {
        "id": "Q9iEAUqS-Ga2",
        "colab": {
          "base_uri": "https://localhost:8080/",
          "height": 143,
          "referenced_widgets": [
            "1dc9e6f30a854423bb3c93f80df701c2",
            "652a8d7094904ca88c5fc6da3f296981",
            "4bcf635dc89e43d79a0ecbf54e6a67b3",
            "838b5c030bfb40aa886f69b52ec08416",
            "4c487ed9fe55464db56d63dc1d9bab6d",
            "e2a25edcae314ae7be2a26b3fdf6955d",
            "bac69eb926b64d67a9f31d5a046a5fec",
            "0faa962e72674c3dae6f190133ba472a"
          ]
        },
        "outputId": "dda336c7-b7e8-4acf-bd9a-37d8fbcfcb01"
      },
      "source": [
        "# convert data catalog into a dictionary of xarray datasets\r\n",
        "dset_dict = cat.to_dataset_dict(zarr_kwargs={'consolidated': True, 'decode_times': False})\r\n",
        "\r\n",
        "ds_dict = {}\r\n",
        "for name, ds in tqdm(dset_dict.items()):\r\n",
        "    # rename spatial dimensions if necessary\r\n",
        "    if ('longitude' in ds.dims) and ('latitude' in ds.dims):\r\n",
        "        ds = ds.rename({'longitude':'lon', 'latitude': 'lat'}) # some models labelled dimensions differently...\r\n",
        "        \r\n",
        "    ds = xr.decode_cf(ds) # temporary hack, not sure why I need this but has to do with calendar-aware metadata on the time variable\r\n",
        "    ds = ds.sel(time=time_slice) # subset the data for the time period of interest\r\n",
        "    # if 'lat' in ds.coords:\r\n",
        "    #   ds = ds.sel(lat=latitude, lon=longitude, method='nearest')\r\n",
        "    # else:\r\n",
        "    #   ds = ds.sel(\r\n",
        "    #       latitude=latitude, longitude=longitude, method='nearest')\r\n",
        "    ds = ds.sel(lat=latitude, lon=longitude, method='nearest')\r\n",
        "    # drop redundant variables (like \"height: 2m\")\r\n",
        "    for coord in ds.coords:\r\n",
        "        if coord not in ['lat','lon','time']:\r\n",
        "            ds = ds.drop(coord)\r\n",
        "\r\n",
        "    # Add variable array to dictionary\r\n",
        "    ds_dict[name] = ds"
      ],
      "execution_count": 7,
      "outputs": [
        {
          "output_type": "stream",
          "text": [
            "\n",
            "--> The keys in the returned dictionary of datasets are constructed as follows:\n",
            "\t'activity_id.institution_id.source_id.experiment_id.table_id.grid_label'\n"
          ],
          "name": "stdout"
        },
        {
          "output_type": "display_data",
          "data": {
            "text/html": [
              "\n",
              "    <div>\n",
              "        <style>\n",
              "            /* Turns off some styling */\n",
              "            progress {\n",
              "                /* gets rid of default border in Firefox and Opera. */\n",
              "                border: none;\n",
              "                /* Needs to be in here for Safari polyfill so background images work as expected. */\n",
              "                background-size: auto;\n",
              "            }\n",
              "            .progress-bar-interrupted, .progress-bar-interrupted::-webkit-progress-bar {\n",
              "                background: #F44336;\n",
              "            }\n",
              "        </style>\n",
              "      <progress value='55' class='' max='55' style='width:300px; height:20px; vertical-align: middle;'></progress>\n",
              "      100.00% [55/55 00:01<00:00]\n",
              "    </div>\n",
              "    "
            ],
            "text/plain": [
              "<IPython.core.display.HTML object>"
            ]
          },
          "metadata": {
            "tags": []
          }
        },
        {
          "output_type": "display_data",
          "data": {
            "application/vnd.jupyter.widget-view+json": {
              "model_id": "1dc9e6f30a854423bb3c93f80df701c2",
              "version_minor": 0,
              "version_major": 2
            },
            "text/plain": [
              "HBox(children=(FloatProgress(value=0.0, max=55.0), HTML(value='')))"
            ]
          },
          "metadata": {
            "tags": []
          }
        },
        {
          "output_type": "stream",
          "text": [
            "\n"
          ],
          "name": "stdout"
        }
      ]
    },
    {
      "cell_type": "code",
      "metadata": {
        "id": "VuAdzCQZ_6Dr"
      },
      "source": [
        "#splice together the hist and spp\r\n",
        "\r\n",
        "ssp_dict = {}\r\n",
        "for name, ds in ds_dict.items():\r\n",
        "    if 'ssp' not in name: continue\r\n",
        "        \r\n",
        "    add_hist_ds = None\r\n",
        "    \r\n",
        "    # Loop through dictionary to find matching historical simulation\r\n",
        "    for hist_name, hist_ds in ds_dict.items():\r\n",
        "        model_name = name.split(\".\")[2] # extract model name from name of simulation\r\n",
        "        \r\n",
        "        # find historical simulation that matches SSP simulation (same model)\r\n",
        "        if (model_name in hist_name) and ('historical' in hist_name):\r\n",
        "            add_hist_ds = hist_ds\r\n",
        "    \r\n",
        "    # if we found one, slice it together with the SSP and add it to the dictionary\r\n",
        "    if add_hist_ds is not None:\r\n",
        "        ds_ssp = xr.concat([add_hist_ds, ds],dim='time')\r\n",
        "        # ds_ssp = ds_ssp.sel(time=slice('2065','2095'))\r\n",
        "        ssp_dict[name] = ds_ssp"
      ],
      "execution_count": 8,
      "outputs": []
    },
    {
      "cell_type": "code",
      "metadata": {
        "colab": {
          "base_uri": "https://localhost:8080/"
        },
        "id": "Ql7kec2NDj4P",
        "outputId": "a5aa7ff7-8080-4f3a-d3eb-176e8cdbc0de"
      },
      "source": [
        "with progress.ProgressBar():\r\n",
        "  dsets_aligned_ = dask.compute(ssp_dict)[0]"
      ],
      "execution_count": 9,
      "outputs": [
        {
          "output_type": "stream",
          "text": [
            "[########################################] | 100% Completed |  1min 34.4s\n"
          ],
          "name": "stdout"
        }
      ]
    },
    {
      "cell_type": "code",
      "metadata": {
        "id": "zzma9rBgGxUW"
      },
      "source": [
        "source_ids = list(dsets_aligned_.keys())\r\n",
        "source_da = xr.DataArray(source_ids, dims='source_id', name='source_id',\r\n",
        "                         coords={'source_id': source_ids})\r\n",
        "\r\n",
        "big_ds = xr.concat([ds_ssp.reset_coords(drop=True)\r\n",
        "                    for ds in dsets_aligned_.values()],\r\n",
        "                    dim=source_da)\r\n",
        "\r\n",
        "big_ds_lite = big_ds#.sel(time=slice('1950','2024'))\r\n",
        "\r\n",
        "var = 'tasmax'\r\n",
        "\r\n",
        "x = getattr(big_ds_lite, var)\r\n",
        "ens = ensembles.create_ensemble(x)"
      ],
      "execution_count": 28,
      "outputs": []
    },
    {
      "cell_type": "code",
      "metadata": {
        "id": "efaitbwuJq1e"
      },
      "source": [
        "percentile_list = [15, 50, 85]\r\n",
        "ens_perc = ensembles.ensemble_percentiles(ens, values=percentile_list, split=False)\r\n",
        "ens_stats = ensembles.ensemble_mean_std_max_min(ens)"
      ],
      "execution_count": null,
      "outputs": []
    },
    {
      "cell_type": "markdown",
      "metadata": {
        "id": "w1RUIlrj_u1U"
      },
      "source": [
        "# Above for Faster GRab"
      ]
    },
    {
      "cell_type": "code",
      "metadata": {
        "colab": {
          "base_uri": "https://localhost:8080/"
        },
        "id": "B0uUt_G2-iUu",
        "outputId": "58a41a45-0c66-4d8a-d831-ae0f0912935b"
      },
      "source": [
        "def drop_all_bounds(ds):\r\n",
        "    drop_vars = [vname for vname in ds.coords\r\n",
        "                 if (('_bounds') in vname ) or ('_bnds') in vname]\r\n",
        "    return ds.drop(drop_vars)\r\n",
        "\r\n",
        "def open_dset(df):\r\n",
        "    # assert len(df) == 1\r\n",
        "    ds = xr.open_zarr(fsspec.get_mapper(df.zstore.values[0]), consolidated=True)\r\n",
        "    \r\n",
        "    if 'lat' in ds.coords:\r\n",
        "      ds = ds.sel(\r\n",
        "          lat=50, lon=-121,method='nearest')\r\n",
        "    else:\r\n",
        "      ds = ds.sel(\r\n",
        "          latitude=50, longitude=-121,method='nearest')\r\n",
        "\r\n",
        "\r\n",
        "    ds.coords['year'] = ds.time.dt.year\r\n",
        "    ds.coords['time'] = xr.cftime_range(start=str(ds.time.dt.year.values[0]), \r\n",
        "                                    periods=len(ds.time.dt.year.values), \r\n",
        "                                    freq=\"MS\", calendar=\"noleap\")\r\n",
        "    ds = ds.sel(time=slice('1950','2100'))\r\n",
        "    return drop_all_bounds(ds)\r\n",
        "\r\n",
        "def open_delayed(df):\r\n",
        "    return dask.delayed(open_dset)(df)\r\n",
        "\r\n",
        "from collections import defaultdict\r\n",
        "dsets = defaultdict(dict)\r\n",
        "\r\n",
        "for group, df in tqdm.tqdm(col_subset.df.groupby(by=['source_id', 'experiment_id'])):\r\n",
        "    # print(group)\r\n",
        "    dsets[group[0]][group[1]] = open_delayed(df)\r\n",
        "\r\n",
        "with progress.ProgressBar():\r\n",
        "    dsets_ = dask.compute(dict(dsets))[0]\r\n",
        "\r\n",
        "# calculate global means\r\n",
        "\r\n",
        "def get_lat_name(ds):\r\n",
        "    for lat_name in ['lat', 'latitude']:\r\n",
        "        if lat_name in ds.coords:\r\n",
        "            return lat_name\r\n",
        "    raise RuntimeError(\"Couldn't find a latitude coordinate\")\r\n",
        "\r\n",
        "def global_mean(ds):\r\n",
        "    lat = ds[get_lat_name(ds)]\r\n",
        "    weight = np.cos(np.deg2rad(lat))\r\n",
        "    weight /= weight.mean()\r\n",
        "    other_dims = set(ds.dims) - {'time'}\r\n",
        "    return (ds * weight).mean(other_dims)\r\n",
        "\r\n",
        "expt_da = xr.DataArray(expts, dims='experiment_id', name='experiment_id',\r\n",
        "                       coords={'experiment_id': expts})\r\n",
        "\r\n",
        "dsets_aligned = {}\r\n",
        "\r\n",
        "for k, v in tqdm.tqdm(dsets_.items()):\r\n",
        "    expt_dsets = v.values()\r\n",
        "    if any([d is None for d in expt_dsets]):\r\n",
        "        print(f\"Missing experiment for {k}\")\r\n",
        "        continue\r\n",
        "\r\n",
        "    \r\n",
        "    for ds in expt_dsets:\r\n",
        "        ds.coords['year'] = ds.time.dt.year\r\n",
        "\r\n",
        "    # workaround for\r\n",
        "    # https://github.com/pydata/xarray/issues/2237#issuecomment-620961663\r\n",
        "    dsets_ann_mean = [v[expt]\r\n",
        "                      for expt in expts]\r\n",
        "\r\n",
        "    # align everything with the 4xCO2 experiment\r\n",
        "    dsets_aligned[k] = xr.concat(dsets_ann_mean, join='outer',\r\n",
        "                                 dim='historical')\r\n",
        "\r\n",
        "with progress.ProgressBar():\r\n",
        "    dsets_aligned_ = dask.compute(dsets_aligned)[0]\r\n"
      ],
      "execution_count": null,
      "outputs": [
        {
          "output_type": "stream",
          "text": [
            "100%|██████████| 49/49 [00:00<00:00, 4357.49it/s]"
          ],
          "name": "stderr"
        },
        {
          "output_type": "stream",
          "text": [
            "[                                        ] | 0% Completed |  0.1s"
          ],
          "name": "stdout"
        },
        {
          "output_type": "stream",
          "text": [
            "\n"
          ],
          "name": "stderr"
        },
        {
          "output_type": "stream",
          "text": [
            "[########################################] | 100% Completed | 14.6s\n"
          ],
          "name": "stdout"
        },
        {
          "output_type": "stream",
          "text": [
            "100%|██████████| 49/49 [00:00<00:00, 141.08it/s]\n"
          ],
          "name": "stderr"
        },
        {
          "output_type": "stream",
          "text": [
            "[########################################] | 100% Completed | 48.6s\n"
          ],
          "name": "stdout"
        }
      ]
    },
    {
      "cell_type": "code",
      "metadata": {
        "colab": {
          "base_uri": "https://localhost:8080/"
        },
        "id": "h79fbIYg-1vf",
        "outputId": "47664963-8eea-47eb-e8f7-81c0ed1d570d"
      },
      "source": [
        "source_ids = list(dsets_aligned_.keys())\r\n",
        "source_da = xr.DataArray(source_ids, dims='source_id', name='source_id',\r\n",
        "                         coords={'source_id': source_ids})\r\n",
        "\r\n",
        "big_ds = xr.concat([ds.reset_coords(drop=True)\r\n",
        "                    for ds in dsets_aligned_.values()],\r\n",
        "                    dim=source_da)\r\n",
        "\r\n",
        "big_ds_lite = big_ds.sel(time=slice('1950','2024'))\r\n",
        "\r\n",
        "vari = list(big_ds_lite.data_vars.keys())[2]\r\n",
        "print(vari)\r\n",
        "\r\n",
        "x = getattr(big_ds_lite, 'tas')\r\n",
        "ens = ensembles.create_ensemble(x)\r\n",
        "\r\n",
        "percentile_list = [15, 50, 85]\r\n",
        "ens_perc = ensembles.ensemble_percentiles(ens, values=percentile_list, split=False)\r\n",
        "ens_stats = ensembles.ensemble_mean_std_max_min(ens)"
      ],
      "execution_count": null,
      "outputs": [
        {
          "output_type": "stream",
          "text": [
            "tas\n"
          ],
          "name": "stdout"
        },
        {
          "output_type": "stream",
          "text": [
            "/usr/local/lib/python3.6/dist-packages/xclim/ensembles/_base.py:241: FutureWarning: ``output_sizes`` should be given in the ``dask_gufunc_kwargs`` parameter. It will be removed as direct parameter in a future version.\n",
            "  output_sizes={\"percentiles\": len(values)},\n"
          ],
          "name": "stderr"
        }
      ]
    },
    {
      "cell_type": "markdown",
      "metadata": {
        "id": "qvB-VpeaBdJE"
      },
      "source": [
        "### Read EPW\r\n"
      ]
    },
    {
      "cell_type": "code",
      "metadata": {
        "id": "8vNa-bojTK-p"
      },
      "source": [
        "import pandas as pd"
      ],
      "execution_count": null,
      "outputs": []
    },
    {
      "cell_type": "code",
      "metadata": {
        "colab": {
          "base_uri": "https://localhost:8080/",
          "height": 112
        },
        "id": "Wfd2DRziBefy",
        "outputId": "546bf5e9-4c97-4e10-f5bd-f8298070e6f1"
      },
      "source": [
        "path1 = '/content/CAN_BC_Bella.Bella.AP.715820_TMYx.epw'\r\n",
        "path2 = '/content/CAN_BC_Ballenas.Island.717690_TMYx.epw'\r\n",
        "\r\n",
        "def query_epw_period(epw_orig_file):\r\n",
        "  record = pd.read_csv(epw_orig_file,skiprows=3).iloc[1,1]\r\n",
        "  record_years_start = record.split('=')[2].split(';')[0].split('-')[0]\r\n",
        "  record_years_end = record.split('=')[2].split(';')[0].split('-')[1]\r\n",
        "  return record_years_start, record_years_end\r\n",
        "\r\n",
        "def epw_details(path):\r\n",
        "# query_epw_period(path)\r\n",
        "  name = pd.read_csv(path,header=None,nrows=1).iloc[0,1]\r\n",
        "  latidude = pd.read_csv(path,header=None,nrows=1).iloc[0,7]\r\n",
        "  longitude = pd.read_csv(path,header=None,nrows=1).iloc[0,6]\r\n",
        "  utc = pd.read_csv(path,header=None,nrows=1).iloc[0,8]\r\n",
        "  elevation = pd.read_csv(path,header=None,nrows=1).iloc[0,9]\r\n",
        "\r\n",
        "df = pd.DataFrame()\r\n",
        "\r\n",
        "pathlist = [path1,path2]\r\n",
        "for path in pathlist:\r\n",
        "  data = pd.read_csv(path,header=None,nrows=1,usecols=[1,2,3,4,5,6,7,8,9]).rename(columns={1:'location',\r\n",
        "                                                                                          2:'province',\r\n",
        "                                                                                          3:'country',\r\n",
        "                                                                                          4:'type',\r\n",
        "                                                                                          5:'usaf',\r\n",
        "                                                                                          6:'longitude',\r\n",
        "                                                                                          7:'latitude',\r\n",
        "                                                                                          8:'utc',\r\n",
        "                                                                                          9:'elevation'})\r\n",
        "  df = df.append(data,ignore_index=True)\r\n",
        "df"
      ],
      "execution_count": null,
      "outputs": [
        {
          "output_type": "execute_result",
          "data": {
            "text/html": [
              "<div>\n",
              "<style scoped>\n",
              "    .dataframe tbody tr th:only-of-type {\n",
              "        vertical-align: middle;\n",
              "    }\n",
              "\n",
              "    .dataframe tbody tr th {\n",
              "        vertical-align: top;\n",
              "    }\n",
              "\n",
              "    .dataframe thead th {\n",
              "        text-align: right;\n",
              "    }\n",
              "</style>\n",
              "<table border=\"1\" class=\"dataframe\">\n",
              "  <thead>\n",
              "    <tr style=\"text-align: right;\">\n",
              "      <th></th>\n",
              "      <th>location</th>\n",
              "      <th>province</th>\n",
              "      <th>country</th>\n",
              "      <th>type</th>\n",
              "      <th>usaf</th>\n",
              "      <th>longitude</th>\n",
              "      <th>latitude</th>\n",
              "      <th>utc</th>\n",
              "      <th>elevation</th>\n",
              "    </tr>\n",
              "  </thead>\n",
              "  <tbody>\n",
              "    <tr>\n",
              "      <th>0</th>\n",
              "      <td>Bella Bella AP</td>\n",
              "      <td>BC</td>\n",
              "      <td>CAN</td>\n",
              "      <td>ISD-TMYx</td>\n",
              "      <td>715820</td>\n",
              "      <td>52.1850</td>\n",
              "      <td>-128.1567</td>\n",
              "      <td>-8.0</td>\n",
              "      <td>43.0</td>\n",
              "    </tr>\n",
              "    <tr>\n",
              "      <th>1</th>\n",
              "      <td>Ballenas Island</td>\n",
              "      <td>BC</td>\n",
              "      <td>CAN</td>\n",
              "      <td>ISD-TMYx</td>\n",
              "      <td>717690</td>\n",
              "      <td>49.3503</td>\n",
              "      <td>-124.1603</td>\n",
              "      <td>-8.0</td>\n",
              "      <td>10.0</td>\n",
              "    </tr>\n",
              "  </tbody>\n",
              "</table>\n",
              "</div>"
            ],
            "text/plain": [
              "          location province country  ...  latitude  utc  elevation\n",
              "0   Bella Bella AP       BC     CAN  ... -128.1567 -8.0       43.0\n",
              "1  Ballenas Island       BC     CAN  ... -124.1603 -8.0       10.0\n",
              "\n",
              "[2 rows x 9 columns]"
            ]
          },
          "metadata": {
            "tags": []
          },
          "execution_count": 98
        }
      ]
    },
    {
      "cell_type": "code",
      "metadata": {
        "id": "S81JTtBlORCW"
      },
      "source": [
        "def epw_to_dataframe(weather_path):\r\n",
        "    epw_labels = ['year', 'month', 'day', 'hour', 'minute', 'datasource', 'drybulb_C', 'dewpoint_C', 'relhum_percent',\r\n",
        "                  'atmos_Pa', 'exthorrad_Whm2', 'extdirrad_Whm2', 'horirsky_Whm2', 'glohorrad_Whm2', 'dirnorrad_Whm2',\r\n",
        "                  'difhorrad_Whm2', 'glohorillum_lux', 'dirnorillum_lux', 'difhorillum_lux', 'zenlum_lux', 'winddir_deg',\r\n",
        "                  'windspd_ms', 'totskycvr_tenths', 'opaqskycvr_tenths', 'visibility_km', 'ceiling_hgt_m',\r\n",
        "                  'presweathobs', 'presweathcodes', 'precip_wtr_mm', 'aerosol_opt_thousandths', 'snowdepth_cm',\r\n",
        "                  'days_last_snow', 'Albedo', 'liq_precip_depth_mm', 'liq_precip_rate_Hour']\r\n",
        "    return pd.DataFrame(pd.read_csv(weather_path, skiprows=8, header=None, names=epw_labels).drop('datasource', axis=1))\r\n"
      ],
      "execution_count": null,
      "outputs": []
    },
    {
      "cell_type": "code",
      "metadata": {
        "colab": {
          "base_uri": "https://localhost:8080/"
        },
        "id": "4cOI_Si6OWyF",
        "outputId": "cbcd3f8f-e6ad-4bc0-c4c3-a4a5cb5f522d"
      },
      "source": [
        "# list(range(len(pd.DataFrame(pd.read_csv('/content/population_centers.csv')))))\r\n",
        "epw_to_dataframe('/content/CAN_BC_Abbotsford.Intl.AP.711080_TMYx.epw')['hour']"
      ],
      "execution_count": null,
      "outputs": [
        {
          "output_type": "execute_result",
          "data": {
            "text/plain": [
              "0        1\n",
              "1        2\n",
              "2        3\n",
              "3        4\n",
              "4        5\n",
              "        ..\n",
              "8755    20\n",
              "8756    21\n",
              "8757    22\n",
              "8758    23\n",
              "8759    24\n",
              "Name: hour, Length: 8760, dtype: int64"
            ]
          },
          "metadata": {
            "tags": []
          },
          "execution_count": 8
        }
      ]
    }
  ]
}