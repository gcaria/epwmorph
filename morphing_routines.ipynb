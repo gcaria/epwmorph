{
  "nbformat": 4,
  "nbformat_minor": 0,
  "metadata": {
    "colab": {
      "name": "morphing routines.ipynb",
      "provenance": [],
      "collapsed_sections": [
        "jvOJeWS4AWed"
      ],
      "toc_visible": true,
      "authorship_tag": "ABX9TyM7PYNedE4fh2r1hVsBNrOC",
      "include_colab_link": true
    },
    "kernelspec": {
      "name": "python3",
      "display_name": "Python 3"
    }
  },
  "cells": [
    {
      "cell_type": "markdown",
      "metadata": {
        "id": "view-in-github",
        "colab_type": "text"
      },
      "source": [
        "<a href=\"https://colab.research.google.com/github/justinfmccarty/epwmorph/blob/main/morphing_routines.ipynb\" target=\"_parent\"><img src=\"https://colab.research.google.com/assets/colab-badge.svg\" alt=\"Open In Colab\"/></a>"
      ]
    },
    {
      "cell_type": "code",
      "metadata": {
        "id": "vGQFSSvZiYKn",
        "colab": {
          "base_uri": "https://localhost:8080/"
        },
        "outputId": "0d5317c7-68a8-4871-b22e-e7a0d4d29d0e"
      },
      "source": [
        "!pip install meteocalc\r\n",
        "!pip install skyfield"
      ],
      "execution_count": null,
      "outputs": [
        {
          "output_type": "stream",
          "text": [
            "Collecting meteocalc\n",
            "  Downloading https://files.pythonhosted.org/packages/6c/f7/95473a929f0a02547461fa3698b7f8082ff40445ba5e21601f5d9a5e48ec/meteocalc-1.1.0.tar.gz\n",
            "Building wheels for collected packages: meteocalc\n",
            "  Building wheel for meteocalc (setup.py) ... \u001b[?25l\u001b[?25hdone\n",
            "  Created wheel for meteocalc: filename=meteocalc-1.1.0-cp36-none-any.whl size=8196 sha256=866737f2ebb97cf3de948447d31d66c896b1b20ce5f0ac321bea4a407795d386\n",
            "  Stored in directory: /root/.cache/pip/wheels/9e/34/13/83d36ecc28837e3c2a5b696542e697538e7c1025382f4ded55\n",
            "Successfully built meteocalc\n",
            "Installing collected packages: meteocalc\n",
            "Successfully installed meteocalc-1.1.0\n",
            "Collecting skyfield\n",
            "\u001b[?25l  Downloading https://files.pythonhosted.org/packages/83/0c/df77ee78c99cc640ae6760f42f61e5f63a206d70143ab322e8bb70be6fe7/skyfield-1.34.tar.gz (381kB)\n",
            "\u001b[K     |████████████████████████████████| 389kB 5.6MB/s \n",
            "\u001b[?25hRequirement already satisfied: certifi>=2017.4.17 in /usr/local/lib/python3.6/dist-packages (from skyfield) (2020.12.5)\n",
            "Collecting jplephem>=2.13\n",
            "\u001b[?25l  Downloading https://files.pythonhosted.org/packages/c9/f0/e57456436531333455f40864622c5ae359654ccede8fe1156c3c2ac6c492/jplephem-2.15.tar.gz (40kB)\n",
            "\u001b[K     |████████████████████████████████| 40kB 5.2MB/s \n",
            "\u001b[?25hRequirement already satisfied: numpy in /usr/local/lib/python3.6/dist-packages (from skyfield) (1.19.4)\n",
            "Collecting sgp4>=2.2\n",
            "\u001b[?25l  Downloading https://files.pythonhosted.org/packages/39/12/b56274117e7d3e538b633ddf1043e43664571f6ee11cfd7f46fc7dd68d48/sgp4-2.14-cp36-cp36m-manylinux2010_x86_64.whl (255kB)\n",
            "\u001b[K     |████████████████████████████████| 256kB 16.8MB/s \n",
            "\u001b[?25hBuilding wheels for collected packages: skyfield, jplephem\n",
            "  Building wheel for skyfield (setup.py) ... \u001b[?25l\u001b[?25hdone\n",
            "  Created wheel for skyfield: filename=skyfield-1.34-cp36-none-any.whl size=421399 sha256=cda2b530803b091191772e6bb392094bf129d119651068baa3953e88d16b7c31\n",
            "  Stored in directory: /root/.cache/pip/wheels/48/e1/ad/9e7673f3ea6061030e82535ce33a14d79fd3b54290835c60c8\n",
            "  Building wheel for jplephem (setup.py) ... \u001b[?25l\u001b[?25hdone\n",
            "  Created wheel for jplephem: filename=jplephem-2.15-cp36-none-any.whl size=46018 sha256=0230fae990c88ef95f101c7e49ae3828eee2904842a79286d19aef96c827a77a\n",
            "  Stored in directory: /root/.cache/pip/wheels/01/71/9c/beaa33beb607ef67b62765324a10cd3584e30fbeef8856b7a8\n",
            "Successfully built skyfield jplephem\n",
            "Installing collected packages: jplephem, sgp4, skyfield\n",
            "Successfully installed jplephem-2.15 sgp4-2.14 skyfield-1.34\n"
          ],
          "name": "stdout"
        }
      ]
    },
    {
      "cell_type": "code",
      "metadata": {
        "id": "o85pRyq8VxJI"
      },
      "source": [
        "import pandas as pd\r\n",
        "# import metpy.calc as mpcalc\r\n",
        "# from metpy.units import units\r\n",
        "import numpy as np\r\n",
        "from datetime import timedelta\r\n",
        "import datetime as dt\r\n",
        "import math\r\n",
        "from meteocalc import dew_point as calcdewpt\r\n",
        "\r\n",
        "from skyfield import api, almanac"
      ],
      "execution_count": null,
      "outputs": []
    },
    {
      "cell_type": "markdown",
      "metadata": {
        "id": "5WSxv3yAI7xT"
      },
      "source": [
        "### Configs"
      ]
    },
    {
      "cell_type": "code",
      "metadata": {
        "id": "H34xnXiMI-Yx"
      },
      "source": [
        "latitude = 49.264703\r\n",
        "longitude = -123.148943\r\n",
        "location = 'Vancouver'\r\n",
        "year = 2050"
      ],
      "execution_count": null,
      "outputs": []
    },
    {
      "cell_type": "markdown",
      "metadata": {
        "id": "R9OhnsP_JMLU"
      },
      "source": [
        "### Initial Data"
      ]
    },
    {
      "cell_type": "code",
      "metadata": {
        "id": "8sGoqCpHVfFz"
      },
      "source": [
        "def epw_to_dataframe(weather_path):\r\n",
        "    epw_labels = ['year', 'month', 'day', 'hour', 'minute', 'datasource', 'drybulb_C', 'dewpoint_C', 'relhum_percent',\r\n",
        "                  'atmos_Pa', 'exthorrad_Whm2', 'extdirrad_Whm2', 'horirsky_Whm2', 'glohorrad_Whm2',\r\n",
        "                  'dirnorrad_Whm2', 'difhorrad_Whm2', 'glohorillum_lux', 'dirnorillum_lux', 'difhorillum_lux',\r\n",
        "                  'zenlum_lux', 'winddir_deg', 'windspd_ms', 'totskycvr_tenths', 'opaqskycvr_tenths', 'visibility_km',\r\n",
        "                  'ceiling_hgt_m', 'presweathobs', 'presweathcodes', 'precip_wtr_mm', 'aerosol_opt_thousandths',\r\n",
        "                  'snowdepth_cm', 'days_last_snow', 'Albedo', 'liq_precip_depth_mm', 'liq_precip_rate_Hour']\r\n",
        "\r\n",
        "    df = pd.DataFrame(pd.read_csv(weather_path, skiprows=8, header=None, names=epw_labels).drop('datasource', axis=1))\r\n",
        "    return df\r\n",
        "\r\n"
      ],
      "execution_count": null,
      "outputs": []
    },
    {
      "cell_type": "code",
      "metadata": {
        "colab": {
          "base_uri": "https://localhost:8080/",
          "height": 167
        },
        "id": "dYy-eLcYVkon",
        "outputId": "98a44fd7-ee43-4090-f336-517566b39d90"
      },
      "source": [
        "df = epw_to_dataframe('/content/CAN_BC_Vancouver.Intl.AP.718920_CWEC2016.epw')\r\n",
        "# returns datetime objects\r\n",
        "df.index = pd.to_datetime(df.apply(lambda row: dt.datetime(2011, \r\n",
        "                                                           int(row.month), \r\n",
        "                                                           int(row.day), \r\n",
        "                                                           int(row.hour)-1,\r\n",
        "                                                           int(row.minute)), axis=1))\r\n",
        "df.head(2)"
      ],
      "execution_count": null,
      "outputs": [
        {
          "output_type": "execute_result",
          "data": {
            "text/html": [
              "<div>\n",
              "<style scoped>\n",
              "    .dataframe tbody tr th:only-of-type {\n",
              "        vertical-align: middle;\n",
              "    }\n",
              "\n",
              "    .dataframe tbody tr th {\n",
              "        vertical-align: top;\n",
              "    }\n",
              "\n",
              "    .dataframe thead th {\n",
              "        text-align: right;\n",
              "    }\n",
              "</style>\n",
              "<table border=\"1\" class=\"dataframe\">\n",
              "  <thead>\n",
              "    <tr style=\"text-align: right;\">\n",
              "      <th></th>\n",
              "      <th>year</th>\n",
              "      <th>month</th>\n",
              "      <th>day</th>\n",
              "      <th>hour</th>\n",
              "      <th>minute</th>\n",
              "      <th>drybulb_C</th>\n",
              "      <th>dewpoint_C</th>\n",
              "      <th>relhum_percent</th>\n",
              "      <th>atmos_Pa</th>\n",
              "      <th>exthorrad_Whm2</th>\n",
              "      <th>extdirrad_Whm2</th>\n",
              "      <th>horirsky_Whm2</th>\n",
              "      <th>glohorrad_Whm2</th>\n",
              "      <th>dirnorrad_Whm2</th>\n",
              "      <th>difhorrad_Whm2</th>\n",
              "      <th>glohorillum_lux</th>\n",
              "      <th>dirnorillum_lux</th>\n",
              "      <th>difhorillum_lux</th>\n",
              "      <th>zenlum_lux</th>\n",
              "      <th>winddir_deg</th>\n",
              "      <th>windspd_ms</th>\n",
              "      <th>totskycvr_tenths</th>\n",
              "      <th>opaqskycvr_tenths</th>\n",
              "      <th>visibility_km</th>\n",
              "      <th>ceiling_hgt_m</th>\n",
              "      <th>presweathobs</th>\n",
              "      <th>presweathcodes</th>\n",
              "      <th>precip_wtr_mm</th>\n",
              "      <th>aerosol_opt_thousandths</th>\n",
              "      <th>snowdepth_cm</th>\n",
              "      <th>days_last_snow</th>\n",
              "      <th>Albedo</th>\n",
              "      <th>liq_precip_depth_mm</th>\n",
              "      <th>liq_precip_rate_Hour</th>\n",
              "    </tr>\n",
              "  </thead>\n",
              "  <tbody>\n",
              "    <tr>\n",
              "      <th>2011-01-01 00:00:00</th>\n",
              "      <td>2011</td>\n",
              "      <td>1</td>\n",
              "      <td>1</td>\n",
              "      <td>1</td>\n",
              "      <td>0</td>\n",
              "      <td>-1.8</td>\n",
              "      <td>-4.5</td>\n",
              "      <td>80</td>\n",
              "      <td>102160</td>\n",
              "      <td>0</td>\n",
              "      <td>0</td>\n",
              "      <td>238</td>\n",
              "      <td>0</td>\n",
              "      <td>0</td>\n",
              "      <td>0</td>\n",
              "      <td>0</td>\n",
              "      <td>0</td>\n",
              "      <td>0</td>\n",
              "      <td>0</td>\n",
              "      <td>0</td>\n",
              "      <td>0.0</td>\n",
              "      <td>0</td>\n",
              "      <td>0</td>\n",
              "      <td>48.3</td>\n",
              "      <td>77770</td>\n",
              "      <td>0</td>\n",
              "      <td>999999990</td>\n",
              "      <td>0</td>\n",
              "      <td>0.085</td>\n",
              "      <td>0</td>\n",
              "      <td>88</td>\n",
              "      <td>0.2</td>\n",
              "      <td>0.0</td>\n",
              "      <td>0.0</td>\n",
              "    </tr>\n",
              "    <tr>\n",
              "      <th>2011-01-01 01:00:00</th>\n",
              "      <td>2011</td>\n",
              "      <td>1</td>\n",
              "      <td>1</td>\n",
              "      <td>2</td>\n",
              "      <td>0</td>\n",
              "      <td>-3.0</td>\n",
              "      <td>-5.3</td>\n",
              "      <td>82</td>\n",
              "      <td>102010</td>\n",
              "      <td>0</td>\n",
              "      <td>0</td>\n",
              "      <td>233</td>\n",
              "      <td>0</td>\n",
              "      <td>0</td>\n",
              "      <td>0</td>\n",
              "      <td>0</td>\n",
              "      <td>0</td>\n",
              "      <td>0</td>\n",
              "      <td>0</td>\n",
              "      <td>0</td>\n",
              "      <td>0.0</td>\n",
              "      <td>0</td>\n",
              "      <td>0</td>\n",
              "      <td>48.3</td>\n",
              "      <td>77770</td>\n",
              "      <td>0</td>\n",
              "      <td>999999990</td>\n",
              "      <td>0</td>\n",
              "      <td>0.085</td>\n",
              "      <td>0</td>\n",
              "      <td>88</td>\n",
              "      <td>0.2</td>\n",
              "      <td>0.0</td>\n",
              "      <td>0.0</td>\n",
              "    </tr>\n",
              "  </tbody>\n",
              "</table>\n",
              "</div>"
            ],
            "text/plain": [
              "                     year  month  ...  liq_precip_depth_mm  liq_precip_rate_Hour\n",
              "2011-01-01 00:00:00  2011      1  ...                  0.0                   0.0\n",
              "2011-01-01 01:00:00  2011      1  ...                  0.0                   0.0\n",
              "\n",
              "[2 rows x 34 columns]"
            ]
          },
          "metadata": {
            "tags": []
          },
          "execution_count": 107
        }
      ]
    },
    {
      "cell_type": "code",
      "metadata": {
        "id": "9eS1ZWJEByc7"
      },
      "source": [
        "df[['glohorrad_Whm2', 'dirnorrad_Whm2', 'difhorrad_Whm2']].head(24)"
      ],
      "execution_count": null,
      "outputs": []
    },
    {
      "cell_type": "code",
      "metadata": {
        "id": "joBduwdLInvg"
      },
      "source": [
        "future_df = df[['month','day','hour','minute']].copy()\r\n",
        "future_df['year'] = year"
      ],
      "execution_count": null,
      "outputs": []
    },
    {
      "cell_type": "markdown",
      "metadata": {
        "id": "mr0k0WEj2fIN"
      },
      "source": [
        "## Utilities"
      ]
    },
    {
      "cell_type": "code",
      "metadata": {
        "id": "zEOxi1jl2f_B"
      },
      "source": [
        "# the following are recreation of PVLIB \r\n",
        "# https://pvlib-python.readthedocs.io/en/stable/_modules/pvlib/solarposition.html\r\n",
        "# or from ASU Solar Power Labs https://www.pveducation.org/pvcdrom/properties-of-sunlight/solar-time \r\n",
        "\r\n",
        "# def calc_simple_day_angle(dayofyear,offset=1):\r\n",
        "#   return ((2*np.pi)/365)*(dayofyear-offset)\r\n",
        "\r\n",
        "def calc_simple_day_angle(dayofyear,offset=1):\r\n",
        "  return 2 * np.pi * (dayofyear-1) / 365\r\n",
        "\r\n",
        "# def calc_bday(dayangle):\r\n",
        "#   return dayangle - ((2*np.pi)/365) * 80\r\n",
        "\r\n",
        "def calc_bday(dayofyear):\r\n",
        "  return (360/365)*(dayofyear-81)\r\n",
        "\r\n",
        "def calc_equation_of_time(bday):\r\n",
        "  return 9.87*np.sin(np.deg2rad(2*bday))-7.53*np.cos(np.deg2rad(bday))-1.5*np.sin(np.deg2rad(bday))\r\n",
        "\r\n",
        "def calc_local_time_meridian(utc_offset):\r\n",
        "  # requires the utc offset for local time zone\r\n",
        "  # https://en.wikipedia.org/wiki/List_of_UTC_time_offsets\r\n",
        "  return 15*utc_offset\r\n",
        "\r\n",
        "def calc_time_correction(longitude, local_time_meridian, equation_of_time):\r\n",
        "  return 4 * (longitude - local_time_meridian) + equation_of_time\r\n",
        "\r\n",
        "def calc_local_solar_time(local_time, time_correction):\r\n",
        "  return local_time + (time_correction / 60)\r\n",
        "\r\n",
        "def calc_hour_angle(solar_time):\r\n",
        "  return (360/24) * (solar_time-12)\r\n",
        "\r\n",
        "def calc_declination(dayofyear):\r\n",
        "  return 23.45*np.sin(np.deg2rad((360/365)*dayofyear-81))\r\n",
        "\r\n",
        "def calc_solar_altitude(longitude, latitude, utc_offset, dayofyear, local_time):\r\n",
        "  dayangle = calc_simple_day_angle(dayofyear,offset=1)\r\n",
        "  bday = calc_bday(dayangle)\r\n",
        "  local_time_meridian = calc_local_time_meridian(utc_offset)\r\n",
        "  equation_of_time = calc_equation_of_time(bday)\r\n",
        "  time_correction = calc_time_correction(longitude, local_time_meridian, equation_of_time)\r\n",
        "  solar_time = calc_local_solar_time(local_time, time_correction)\r\n",
        "  hour_angle = calc_hour_angle(solar_time)\r\n",
        "  declination = calc_declination(dayofyear)\r\n",
        "  return np.rad2deg(np.arcsin(np.sin(np.deg2rad(latitude))*np.sin(np.deg2rad(declination)) \\\r\n",
        "                   +np.cos(np.deg2rad(latitude))*np.cos(np.deg2rad(declination)) \\\r\n",
        "                   *np.cos(np.deg2rad(hour_angle))))\r\n",
        "\r\n",
        "def calc_zenith(solar_altitude):\r\n",
        "  return 90 - solar_altitude\r\n",
        "\r\n",
        "def calc_rel_air_mass(zenith):\r\n",
        "  z = np.where(zenith > 90, np.nan, zenith)\r\n",
        "  zenith_rad = np.radians(z)\r\n",
        "  return np.cos(zenith_rad) + 0.50572 * ((6.07995 + (90 - z)) ** - 1.6364)\r\n",
        "\r\n",
        "def calc_atmos_precip_water(dewpt):\r\n",
        "  return math.exp(0.07 * dewpt - 0.075)\r\n",
        "\r\n",
        "def calc_exnor(dayofyear):\r\n",
        "  corr_factor = 1 + 0.03344 * np.cos(360 * dayofyear / 365)\r\n",
        "  return corr_factor * 1367\r\n",
        "\r\n",
        "def calc_atmos_brightness(fut_dfhor, rel_air_mass, extr_norrad):\r\n",
        "  return fut_dfhor * (rel_air_mass / extr_norrad)\r\n",
        "\r\n",
        "def calc_atmos_clearness(fut_dfhor, fut_dnor, zenith):\r\n",
        "  z = np.where(zenith > 90, np.nan, zenith)\r\n",
        "  zenith_rad = np.radians(z)\r\n",
        "  return ((fut_dfhor + fut_dnor) / (fut_dfhor + 1.041 * zenith_rad**3)) / (1 + 1.041 * zenith_rad**3)\r\n",
        "\r\n",
        "def define_clearness_bin(atmos_clearness):\r\n",
        "  if atmos_clearness\r\n",
        "\r\n",
        "def uas_vas_2_sfcwind(uas,vas,calm_wind_thresh=0.5,out='SPD'):\r\n",
        "  # taken from https://xclim.readthedocs.io/en/stable/_modules/xclim/indices/_conversion.html#uas_vas_2_sfcwind\r\n",
        "  # adapted for no xarray\r\n",
        "\r\n",
        "  # Wind speed is the hypotenuse of \"uas\" and \"vas\"\r\n",
        "  wind = np.hypot(uas, vas)\r\n",
        "\r\n",
        "  # Calculate the angle\r\n",
        "  windfromdir_math = np.degrees(np.arctan2(vas, uas))\r\n",
        "\r\n",
        "  # Convert the angle from the mathematical standard to the meteorological standard\r\n",
        "  windfromdir = (270 - windfromdir_math) % 360.0\r\n",
        "\r\n",
        "  # According to the meteorological standard, calm winds must have a direction of 0°\r\n",
        "  # while northerly winds have a direction of 360°\r\n",
        "  # On the Beaufort scale, calm winds are defined as < 0.5 m/s\r\n",
        "  windfromdir = np.where(windfromdir.round() == 0, 360, windfromdir)\r\n",
        "  windfromdir = np.where(wind < calm_wind_thresh, 0, windfromdir)\r\n",
        "  if out=='SPD':\r\n",
        "    return wind\r\n",
        "  elif out=='DIR':\r\n",
        "    return windfromdir"
      ],
      "execution_count": 336,
      "outputs": []
    },
    {
      "cell_type": "markdown",
      "metadata": {
        "id": "Bzr4OLlGmp0X"
      },
      "source": [
        "## Dry Bulb Temperature (dbt)"
      ]
    },
    {
      "cell_type": "code",
      "metadata": {
        "id": "V2L6prVtmzFe"
      },
      "source": [
        "\r\n",
        "\r\n",
        "fut_tas = pd.Series([-5,3,5,9,13,15,17,19,24,15,11,-1])\r\n",
        "fut_tmax = pd.Series([3,13,15,19,22,25,27,29,33,25,19,10])\r\n",
        "fut_tmin = pd.Series([-6,1,3,6,9,10,11,10,18,13,8,-4])\r\n",
        "hist_tas = pd.Series([-7,0,2,6,10,12,15,18,21,14,6,-3])\r\n",
        "hist_tmax = pd.Series([2,11,10,14,20,22,25,27,26,18,13,5])\r\n",
        "hist_tmin = pd.Series([-12,-5,-3,0,1,5,6,10,12,11,0,-10])\r\n",
        "\r\n",
        "\r\n",
        "def means(series):\r\n",
        "  max = series.resample('D').max().resample('M').mean().reset_index(drop=True)\r\n",
        "  min = series.resample('D').min().resample('M').mean().reset_index(drop=True)\r\n",
        "  mean = series.resample('D').mean().resample('M').mean().reset_index(drop=True)\r\n",
        "  return max, min, mean\r\n",
        "\r\n",
        "def change(fut_tas,hist_tas,fut_tmax,hist_tmax,fut_tmin,hist_tmin):\r\n",
        "  tas = fut_tas-hist_tas\r\n",
        "  tmax = fut_tmax-hist_tmax\r\n",
        "  tmin = fut_tmin-hist_tmin\r\n",
        "  return tas, tmax, tmin\r\n",
        "\r\n",
        "def morph_dbt(df, fut_tas,hist_tas,fut_tmax,hist_tmax,fut_tmin,hist_tmin):\r\n",
        "  months = list(range(1, 12 + 1, 1))\r\n",
        "  dbt_max_mean, dbt_min_mean, dbt_mean = means(df['drybulb_C'])\r\n",
        "  tas_change, tmax_change, tmin_change = change(fut_tas, hist_tas,\r\n",
        "                                                fut_tmax, hist_tmax,\r\n",
        "                                                fut_tmin, hist_tmin)\r\n",
        "  tas_change = dict(zip(months, tas_change)) \r\n",
        "  dbt_scale = dict(zip(months, (tmax_change - tmin_change) / (dbt_max_mean - dbt_min_mean)))\r\n",
        "  dbt_mean = dict(zip(months, dbt_mean))\r\n",
        "  return round(df.apply(lambda x: x['drybulb_C'] + tas_change[x['month']] + dbt_scale[x['month']] * (x['drybulb_C'] - dbt_mean[x['month']]),axis=1).astype(float),1).rename(\"drybulb_C\")\r\n",
        "\r\n",
        "new_dbt = morph_dbt(df, fut_tas,hist_tas,fut_tmax,hist_tmax,fut_tmin,hist_tmin)"
      ],
      "execution_count": null,
      "outputs": []
    },
    {
      "cell_type": "code",
      "metadata": {
        "id": "MYfL9COUJZiE"
      },
      "source": [
        "future_df['drybulb_C'] = new_dbt"
      ],
      "execution_count": null,
      "outputs": []
    },
    {
      "cell_type": "markdown",
      "metadata": {
        "id": "dlWMtesNjRRw"
      },
      "source": [
        "## Relative Humidity (relhum)"
      ]
    },
    {
      "cell_type": "code",
      "metadata": {
        "id": "S36kWTnJjSde"
      },
      "source": [
        "fut_rh = pd.Series([35,45,55,55,78,77,95,65,70,60,80,70])\r\n",
        "hist_rh = pd.Series([40,60,54,50,76,70,88,61,72,64,85,75])\r\n",
        "\r\n",
        "def morph_relhum(df, fut_relhum, hist_relhum):\r\n",
        "    # requires fut_ and hist_ inputs to be monthly climatologies\r\n",
        "    months = list(range(1,12+1,1))\r\n",
        "    relhum_change = dict(zip(months, fut_relhum - hist_relhum))\r\n",
        "    return df.apply(lambda x: x['relhum_percent'] + relhum_change[x['month']],axis=1).rename(\"relhum_percent\")\r\n",
        "\r\n",
        "new_rh = np.clip(morph_relhum(df, fut_rh, hist_rh),0,100).astype(int)"
      ],
      "execution_count": null,
      "outputs": []
    },
    {
      "cell_type": "code",
      "metadata": {
        "id": "1BgNghQMJiAd"
      },
      "source": [
        "future_df['relhum_percent'] = new_rh"
      ],
      "execution_count": null,
      "outputs": []
    },
    {
      "cell_type": "markdown",
      "metadata": {
        "id": "aXOV0YhXZF3Q"
      },
      "source": [
        "## Pressure (pr)"
      ]
    },
    {
      "cell_type": "code",
      "metadata": {
        "id": "W3pjGO3IZGp8"
      },
      "source": [
        "fut_pr = pd.Series([101860,101865,101880,101880,102160,102230,101890,101950,102110,101890,101980,102380])\r\n",
        "hist_pr = pd.Series([101890,101855,101870,101830,102100,101880,101880,101890,102160,101880,101865,102180])\r\n",
        "\r\n",
        "def morph_pr(df, fut_pr, hist_pr):\r\n",
        "    # requires fut_ and hist_ inputs to be monthly climatologies\r\n",
        "    months = list(range(1,12+1,1))\r\n",
        "    pr_change = dict(zip(months, fut_pr - hist_pr))\r\n",
        "    return df.apply(lambda x: x['atmos_Pa'] + pr_change[x['month']],axis=1).rename(\"atmos_Pa\")\r\n",
        "\r\n",
        "new_pr = morph_pr(df, fut_pr, hist_pr).astype(int)"
      ],
      "execution_count": null,
      "outputs": []
    },
    {
      "cell_type": "code",
      "metadata": {
        "id": "FYPhuLtyJpha"
      },
      "source": [
        "future_df['atmos_Pa'] = new_pr"
      ],
      "execution_count": null,
      "outputs": []
    },
    {
      "cell_type": "markdown",
      "metadata": {
        "id": "UpHOC7_yic4J"
      },
      "source": [
        "## Dew Point (dewpt)"
      ]
    },
    {
      "cell_type": "code",
      "metadata": {
        "id": "Wd8KKR-Zid_Y"
      },
      "source": [
        "# def calc_sat_pr(pressure, dbt, rel_hum):\r\n",
        "#     # pressure units in in Pa\r\n",
        "#     # pressure units out in Pa\r\n",
        "#     # temp units in C\r\n",
        "#     mixing = mpcalc.mixing_ratio_from_relative_humidity(pressure*units.Pa,\r\n",
        "#                                                         dbt*units.degC,\r\n",
        "#                                                         rel_hum*units.percent)\r\n",
        "#     return mpcalc.vapor_pressure(pressure*units.Pa, mixing)\r\n",
        "\r\n",
        "# def calc_partial_water_pr(pressure, dbt, rel_hum):\r\n",
        "#     # pressure units in in Pa\r\n",
        "#     # pressure units out in kPa\r\n",
        "#     # temp units in C\r\n",
        "#     # rel hum in %\r\n",
        "#     return (rel_hum * calc_sat_pr(pressure, dbt, rel_hum)) / 1000\r\n",
        "\r\n",
        "# def morph_dewpt(epw_dewpt, epw_pressure, epw_dbt, epw_rh):\r\n",
        "#     pw = calc_partial_water_pr(epw_pressure, epw_dbt, epw_rh)\r\n",
        "#     if epw_dewpt>=0:\r\n",
        "#         epw_dewpt_fut = 6.54 + 14.526 + np.log(pw) + 0.7389 * np.log(pw)**2 + 0.09486 * np.log(pw)**3 + 0.4569 * pw**0.1984\r\n",
        "#     else:\r\n",
        "#         epw_dewpt_fut = 6.09 + 12.608 * np.log(pw) + 0.4959 * np.log(pw)**2\r\n",
        "#     return epw_dewpt_fut\r\n",
        "\r\n",
        "# TODO THe above can be used to more accuratley account for colder temperatures in dew point calc\r\n",
        "\r\n",
        "def morph_dewpt(fut_dbt,fut_rh):\r\n",
        "  df = pd.concat([fut_dbt,fut_rh],axis=1)\r\n",
        "  return round(df.apply(lambda x: calcdewpt(x[0], x[1]),axis=1).astype(float),1)\r\n",
        "\r\n",
        "new_dewpt = morph_dewpt(new_dbt,new_rh)"
      ],
      "execution_count": null,
      "outputs": []
    },
    {
      "cell_type": "code",
      "metadata": {
        "id": "8-h_vhlIJxDq"
      },
      "source": [
        "future_df['dewpoint_C'] = new_dewpt"
      ],
      "execution_count": null,
      "outputs": []
    },
    {
      "cell_type": "markdown",
      "metadata": {
        "id": "jvOJeWS4AWed"
      },
      "source": [
        "### Working On Dewpoint V2"
      ]
    },
    {
      "cell_type": "code",
      "metadata": {
        "id": "ghJoN51d-cxN"
      },
      "source": [
        "df_new = pd.concat([new_dbt,new_rh,new_pr,new_dewpt],axis=1)"
      ],
      "execution_count": null,
      "outputs": []
    },
    {
      "cell_type": "code",
      "metadata": {
        "id": "rPt8O0fs-4uz"
      },
      "source": [
        "df_old = df[['drybulb_C','atmos_Pa','relhum_percent','dewpoint_C']].copy()\r\n",
        "# df_old['dewpt2'] = df_old.apply(lambda x: calcdewpt(x['drybulb_C'], x['relhum_percent']),axis=1)\r\n",
        "old_dbt = df_old['drybulb_C']\r\n",
        "old_rh = df_old['relhum_percent']\r\n",
        "df_old['dpt2'] = round(morph_dewpt(old_dbt,old_rh).astype(float),1)\r\n"
      ],
      "execution_count": null,
      "outputs": []
    },
    {
      "cell_type": "code",
      "metadata": {
        "id": "dxHhb8dUm_nG"
      },
      "source": [
        "def calcdew_above(pw):\r\n",
        "  return 6.54 + 14.526 + np.log(pw) + 0.7389 * np.log(pw)**2 + 0.09486 * np.log(pw)**3 + 0.4569 * pw**0.1984\r\n",
        "\r\n",
        "def calcdew_sub(pw):\r\n",
        "  return 6.09 + 12.608 * np.log(pw) + 0.4959 * np.log(pw)**2"
      ],
      "execution_count": null,
      "outputs": []
    },
    {
      "cell_type": "code",
      "metadata": {
        "colab": {
          "base_uri": "https://localhost:8080/",
          "height": 362
        },
        "id": "ReWsUeMRbOcg",
        "outputId": "a4415db3-662e-4b3a-b893-f0854c88a843"
      },
      "source": [
        "# calc_partial_water_pr(df_new['atmos_Pa'][2], df_new['drybulb_C'][2], df_new['relhum_percent'][2])\r\n",
        "df_new['dewpt'] = df_new.apply(lambda x: calcdewpt(x['drybulb_C'], x['relhum_percent']),axis=1)\r\n",
        "df_new['vapor'] = df_new.apply(lambda x: calc_sat_pr(x['atmos_Pa'], x['drybulb_C'], x['relhum_percent']),axis=1)\r\n",
        "df_new['partial'] = df_new.apply(lambda x: calc_partial_water_pr(x['atmos_Pa'], x['drybulb_C'], x['relhum_percent']),axis=1)"
      ],
      "execution_count": null,
      "outputs": [
        {
          "output_type": "error",
          "ename": "NameError",
          "evalue": "ignored",
          "traceback": [
            "\u001b[0;31m---------------------------------------------------------------------------\u001b[0m",
            "\u001b[0;31mNameError\u001b[0m                                 Traceback (most recent call last)",
            "\u001b[0;32m<ipython-input-13-eb49082b0f14>\u001b[0m in \u001b[0;36m<module>\u001b[0;34m()\u001b[0m\n\u001b[1;32m      1\u001b[0m \u001b[0;31m# calc_partial_water_pr(df_new['atmos_Pa'][2], df_new['drybulb_C'][2], df_new['relhum_percent'][2])\u001b[0m\u001b[0;34m\u001b[0m\u001b[0;34m\u001b[0m\u001b[0;34m\u001b[0m\u001b[0m\n\u001b[1;32m      2\u001b[0m \u001b[0mdf_new\u001b[0m\u001b[0;34m[\u001b[0m\u001b[0;34m'dewpt'\u001b[0m\u001b[0;34m]\u001b[0m \u001b[0;34m=\u001b[0m \u001b[0mdf_new\u001b[0m\u001b[0;34m.\u001b[0m\u001b[0mapply\u001b[0m\u001b[0;34m(\u001b[0m\u001b[0;32mlambda\u001b[0m \u001b[0mx\u001b[0m\u001b[0;34m:\u001b[0m \u001b[0mcalcdewpt\u001b[0m\u001b[0;34m(\u001b[0m\u001b[0mx\u001b[0m\u001b[0;34m[\u001b[0m\u001b[0;34m'drybulb_C'\u001b[0m\u001b[0;34m]\u001b[0m\u001b[0;34m,\u001b[0m \u001b[0mx\u001b[0m\u001b[0;34m[\u001b[0m\u001b[0;34m'relhum_percent'\u001b[0m\u001b[0;34m]\u001b[0m\u001b[0;34m)\u001b[0m\u001b[0;34m,\u001b[0m\u001b[0maxis\u001b[0m\u001b[0;34m=\u001b[0m\u001b[0;36m1\u001b[0m\u001b[0;34m)\u001b[0m\u001b[0;34m\u001b[0m\u001b[0;34m\u001b[0m\u001b[0m\n\u001b[0;32m----> 3\u001b[0;31m \u001b[0mdf_new\u001b[0m\u001b[0;34m[\u001b[0m\u001b[0;34m'vapor'\u001b[0m\u001b[0;34m]\u001b[0m \u001b[0;34m=\u001b[0m \u001b[0mdf_new\u001b[0m\u001b[0;34m.\u001b[0m\u001b[0mapply\u001b[0m\u001b[0;34m(\u001b[0m\u001b[0;32mlambda\u001b[0m \u001b[0mx\u001b[0m\u001b[0;34m:\u001b[0m \u001b[0mcalc_sat_pr\u001b[0m\u001b[0;34m(\u001b[0m\u001b[0mx\u001b[0m\u001b[0;34m[\u001b[0m\u001b[0;34m'atmos_Pa'\u001b[0m\u001b[0;34m]\u001b[0m\u001b[0;34m,\u001b[0m \u001b[0mx\u001b[0m\u001b[0;34m[\u001b[0m\u001b[0;34m'drybulb_C'\u001b[0m\u001b[0;34m]\u001b[0m\u001b[0;34m,\u001b[0m \u001b[0mx\u001b[0m\u001b[0;34m[\u001b[0m\u001b[0;34m'relhum_percent'\u001b[0m\u001b[0;34m]\u001b[0m\u001b[0;34m)\u001b[0m\u001b[0;34m,\u001b[0m\u001b[0maxis\u001b[0m\u001b[0;34m=\u001b[0m\u001b[0;36m1\u001b[0m\u001b[0;34m)\u001b[0m\u001b[0;34m\u001b[0m\u001b[0;34m\u001b[0m\u001b[0m\n\u001b[0m\u001b[1;32m      4\u001b[0m \u001b[0mdf_new\u001b[0m\u001b[0;34m[\u001b[0m\u001b[0;34m'partial'\u001b[0m\u001b[0;34m]\u001b[0m \u001b[0;34m=\u001b[0m \u001b[0mdf_new\u001b[0m\u001b[0;34m.\u001b[0m\u001b[0mapply\u001b[0m\u001b[0;34m(\u001b[0m\u001b[0;32mlambda\u001b[0m \u001b[0mx\u001b[0m\u001b[0;34m:\u001b[0m \u001b[0mcalc_partial_water_pr\u001b[0m\u001b[0;34m(\u001b[0m\u001b[0mx\u001b[0m\u001b[0;34m[\u001b[0m\u001b[0;34m'atmos_Pa'\u001b[0m\u001b[0;34m]\u001b[0m\u001b[0;34m,\u001b[0m \u001b[0mx\u001b[0m\u001b[0;34m[\u001b[0m\u001b[0;34m'drybulb_C'\u001b[0m\u001b[0;34m]\u001b[0m\u001b[0;34m,\u001b[0m \u001b[0mx\u001b[0m\u001b[0;34m[\u001b[0m\u001b[0;34m'relhum_percent'\u001b[0m\u001b[0;34m]\u001b[0m\u001b[0;34m)\u001b[0m\u001b[0;34m,\u001b[0m\u001b[0maxis\u001b[0m\u001b[0;34m=\u001b[0m\u001b[0;36m1\u001b[0m\u001b[0;34m)\u001b[0m\u001b[0;34m\u001b[0m\u001b[0;34m\u001b[0m\u001b[0m\n",
            "\u001b[0;32m/usr/local/lib/python3.6/dist-packages/pandas/core/frame.py\u001b[0m in \u001b[0;36mapply\u001b[0;34m(self, func, axis, raw, result_type, args, **kwds)\u001b[0m\n\u001b[1;32m   7550\u001b[0m             \u001b[0mkwds\u001b[0m\u001b[0;34m=\u001b[0m\u001b[0mkwds\u001b[0m\u001b[0;34m,\u001b[0m\u001b[0;34m\u001b[0m\u001b[0;34m\u001b[0m\u001b[0m\n\u001b[1;32m   7551\u001b[0m         )\n\u001b[0;32m-> 7552\u001b[0;31m         \u001b[0;32mreturn\u001b[0m \u001b[0mop\u001b[0m\u001b[0;34m.\u001b[0m\u001b[0mget_result\u001b[0m\u001b[0;34m(\u001b[0m\u001b[0;34m)\u001b[0m\u001b[0;34m\u001b[0m\u001b[0;34m\u001b[0m\u001b[0m\n\u001b[0m\u001b[1;32m   7553\u001b[0m \u001b[0;34m\u001b[0m\u001b[0m\n\u001b[1;32m   7554\u001b[0m     \u001b[0;32mdef\u001b[0m \u001b[0mapplymap\u001b[0m\u001b[0;34m(\u001b[0m\u001b[0mself\u001b[0m\u001b[0;34m,\u001b[0m \u001b[0mfunc\u001b[0m\u001b[0;34m)\u001b[0m \u001b[0;34m->\u001b[0m \u001b[0;34m\"DataFrame\"\u001b[0m\u001b[0;34m:\u001b[0m\u001b[0;34m\u001b[0m\u001b[0;34m\u001b[0m\u001b[0m\n",
            "\u001b[0;32m/usr/local/lib/python3.6/dist-packages/pandas/core/apply.py\u001b[0m in \u001b[0;36mget_result\u001b[0;34m(self)\u001b[0m\n\u001b[1;32m    183\u001b[0m             \u001b[0;32mreturn\u001b[0m \u001b[0mself\u001b[0m\u001b[0;34m.\u001b[0m\u001b[0mapply_raw\u001b[0m\u001b[0;34m(\u001b[0m\u001b[0;34m)\u001b[0m\u001b[0;34m\u001b[0m\u001b[0;34m\u001b[0m\u001b[0m\n\u001b[1;32m    184\u001b[0m \u001b[0;34m\u001b[0m\u001b[0m\n\u001b[0;32m--> 185\u001b[0;31m         \u001b[0;32mreturn\u001b[0m \u001b[0mself\u001b[0m\u001b[0;34m.\u001b[0m\u001b[0mapply_standard\u001b[0m\u001b[0;34m(\u001b[0m\u001b[0;34m)\u001b[0m\u001b[0;34m\u001b[0m\u001b[0;34m\u001b[0m\u001b[0m\n\u001b[0m\u001b[1;32m    186\u001b[0m \u001b[0;34m\u001b[0m\u001b[0m\n\u001b[1;32m    187\u001b[0m     \u001b[0;32mdef\u001b[0m \u001b[0mapply_empty_result\u001b[0m\u001b[0;34m(\u001b[0m\u001b[0mself\u001b[0m\u001b[0;34m)\u001b[0m\u001b[0;34m:\u001b[0m\u001b[0;34m\u001b[0m\u001b[0;34m\u001b[0m\u001b[0m\n",
            "\u001b[0;32m/usr/local/lib/python3.6/dist-packages/pandas/core/apply.py\u001b[0m in \u001b[0;36mapply_standard\u001b[0;34m(self)\u001b[0m\n\u001b[1;32m    274\u001b[0m \u001b[0;34m\u001b[0m\u001b[0m\n\u001b[1;32m    275\u001b[0m     \u001b[0;32mdef\u001b[0m \u001b[0mapply_standard\u001b[0m\u001b[0;34m(\u001b[0m\u001b[0mself\u001b[0m\u001b[0;34m)\u001b[0m\u001b[0;34m:\u001b[0m\u001b[0;34m\u001b[0m\u001b[0;34m\u001b[0m\u001b[0m\n\u001b[0;32m--> 276\u001b[0;31m         \u001b[0mresults\u001b[0m\u001b[0;34m,\u001b[0m \u001b[0mres_index\u001b[0m \u001b[0;34m=\u001b[0m \u001b[0mself\u001b[0m\u001b[0;34m.\u001b[0m\u001b[0mapply_series_generator\u001b[0m\u001b[0;34m(\u001b[0m\u001b[0;34m)\u001b[0m\u001b[0;34m\u001b[0m\u001b[0;34m\u001b[0m\u001b[0m\n\u001b[0m\u001b[1;32m    277\u001b[0m \u001b[0;34m\u001b[0m\u001b[0m\n\u001b[1;32m    278\u001b[0m         \u001b[0;31m# wrap results\u001b[0m\u001b[0;34m\u001b[0m\u001b[0;34m\u001b[0m\u001b[0;34m\u001b[0m\u001b[0m\n",
            "\u001b[0;32m/usr/local/lib/python3.6/dist-packages/pandas/core/apply.py\u001b[0m in \u001b[0;36mapply_series_generator\u001b[0;34m(self)\u001b[0m\n\u001b[1;32m    303\u001b[0m                 \u001b[0;32mfor\u001b[0m \u001b[0mi\u001b[0m\u001b[0;34m,\u001b[0m \u001b[0mv\u001b[0m \u001b[0;32min\u001b[0m \u001b[0menumerate\u001b[0m\u001b[0;34m(\u001b[0m\u001b[0mseries_gen\u001b[0m\u001b[0;34m)\u001b[0m\u001b[0;34m:\u001b[0m\u001b[0;34m\u001b[0m\u001b[0;34m\u001b[0m\u001b[0m\n\u001b[1;32m    304\u001b[0m                     \u001b[0;31m# ignore SettingWithCopy here in case the user mutates\u001b[0m\u001b[0;34m\u001b[0m\u001b[0;34m\u001b[0m\u001b[0;34m\u001b[0m\u001b[0m\n\u001b[0;32m--> 305\u001b[0;31m                     \u001b[0mresults\u001b[0m\u001b[0;34m[\u001b[0m\u001b[0mi\u001b[0m\u001b[0;34m]\u001b[0m \u001b[0;34m=\u001b[0m \u001b[0mself\u001b[0m\u001b[0;34m.\u001b[0m\u001b[0mf\u001b[0m\u001b[0;34m(\u001b[0m\u001b[0mv\u001b[0m\u001b[0;34m)\u001b[0m\u001b[0;34m\u001b[0m\u001b[0;34m\u001b[0m\u001b[0m\n\u001b[0m\u001b[1;32m    306\u001b[0m                     \u001b[0;32mif\u001b[0m \u001b[0misinstance\u001b[0m\u001b[0;34m(\u001b[0m\u001b[0mresults\u001b[0m\u001b[0;34m[\u001b[0m\u001b[0mi\u001b[0m\u001b[0;34m]\u001b[0m\u001b[0;34m,\u001b[0m \u001b[0mABCSeries\u001b[0m\u001b[0;34m)\u001b[0m\u001b[0;34m:\u001b[0m\u001b[0;34m\u001b[0m\u001b[0;34m\u001b[0m\u001b[0m\n\u001b[1;32m    307\u001b[0m                         \u001b[0;31m# If we have a view on v, we need to make a copy because\u001b[0m\u001b[0;34m\u001b[0m\u001b[0;34m\u001b[0m\u001b[0;34m\u001b[0m\u001b[0m\n",
            "\u001b[0;32m<ipython-input-13-eb49082b0f14>\u001b[0m in \u001b[0;36m<lambda>\u001b[0;34m(x)\u001b[0m\n\u001b[1;32m      1\u001b[0m \u001b[0;31m# calc_partial_water_pr(df_new['atmos_Pa'][2], df_new['drybulb_C'][2], df_new['relhum_percent'][2])\u001b[0m\u001b[0;34m\u001b[0m\u001b[0;34m\u001b[0m\u001b[0;34m\u001b[0m\u001b[0m\n\u001b[1;32m      2\u001b[0m \u001b[0mdf_new\u001b[0m\u001b[0;34m[\u001b[0m\u001b[0;34m'dewpt'\u001b[0m\u001b[0;34m]\u001b[0m \u001b[0;34m=\u001b[0m \u001b[0mdf_new\u001b[0m\u001b[0;34m.\u001b[0m\u001b[0mapply\u001b[0m\u001b[0;34m(\u001b[0m\u001b[0;32mlambda\u001b[0m \u001b[0mx\u001b[0m\u001b[0;34m:\u001b[0m \u001b[0mcalcdewpt\u001b[0m\u001b[0;34m(\u001b[0m\u001b[0mx\u001b[0m\u001b[0;34m[\u001b[0m\u001b[0;34m'drybulb_C'\u001b[0m\u001b[0;34m]\u001b[0m\u001b[0;34m,\u001b[0m \u001b[0mx\u001b[0m\u001b[0;34m[\u001b[0m\u001b[0;34m'relhum_percent'\u001b[0m\u001b[0;34m]\u001b[0m\u001b[0;34m)\u001b[0m\u001b[0;34m,\u001b[0m\u001b[0maxis\u001b[0m\u001b[0;34m=\u001b[0m\u001b[0;36m1\u001b[0m\u001b[0;34m)\u001b[0m\u001b[0;34m\u001b[0m\u001b[0;34m\u001b[0m\u001b[0m\n\u001b[0;32m----> 3\u001b[0;31m \u001b[0mdf_new\u001b[0m\u001b[0;34m[\u001b[0m\u001b[0;34m'vapor'\u001b[0m\u001b[0;34m]\u001b[0m \u001b[0;34m=\u001b[0m \u001b[0mdf_new\u001b[0m\u001b[0;34m.\u001b[0m\u001b[0mapply\u001b[0m\u001b[0;34m(\u001b[0m\u001b[0;32mlambda\u001b[0m \u001b[0mx\u001b[0m\u001b[0;34m:\u001b[0m \u001b[0mcalc_sat_pr\u001b[0m\u001b[0;34m(\u001b[0m\u001b[0mx\u001b[0m\u001b[0;34m[\u001b[0m\u001b[0;34m'atmos_Pa'\u001b[0m\u001b[0;34m]\u001b[0m\u001b[0;34m,\u001b[0m \u001b[0mx\u001b[0m\u001b[0;34m[\u001b[0m\u001b[0;34m'drybulb_C'\u001b[0m\u001b[0;34m]\u001b[0m\u001b[0;34m,\u001b[0m \u001b[0mx\u001b[0m\u001b[0;34m[\u001b[0m\u001b[0;34m'relhum_percent'\u001b[0m\u001b[0;34m]\u001b[0m\u001b[0;34m)\u001b[0m\u001b[0;34m,\u001b[0m\u001b[0maxis\u001b[0m\u001b[0;34m=\u001b[0m\u001b[0;36m1\u001b[0m\u001b[0;34m)\u001b[0m\u001b[0;34m\u001b[0m\u001b[0;34m\u001b[0m\u001b[0m\n\u001b[0m\u001b[1;32m      4\u001b[0m \u001b[0mdf_new\u001b[0m\u001b[0;34m[\u001b[0m\u001b[0;34m'partial'\u001b[0m\u001b[0;34m]\u001b[0m \u001b[0;34m=\u001b[0m \u001b[0mdf_new\u001b[0m\u001b[0;34m.\u001b[0m\u001b[0mapply\u001b[0m\u001b[0;34m(\u001b[0m\u001b[0;32mlambda\u001b[0m \u001b[0mx\u001b[0m\u001b[0;34m:\u001b[0m \u001b[0mcalc_partial_water_pr\u001b[0m\u001b[0;34m(\u001b[0m\u001b[0mx\u001b[0m\u001b[0;34m[\u001b[0m\u001b[0;34m'atmos_Pa'\u001b[0m\u001b[0;34m]\u001b[0m\u001b[0;34m,\u001b[0m \u001b[0mx\u001b[0m\u001b[0;34m[\u001b[0m\u001b[0;34m'drybulb_C'\u001b[0m\u001b[0;34m]\u001b[0m\u001b[0;34m,\u001b[0m \u001b[0mx\u001b[0m\u001b[0;34m[\u001b[0m\u001b[0;34m'relhum_percent'\u001b[0m\u001b[0;34m]\u001b[0m\u001b[0;34m)\u001b[0m\u001b[0;34m,\u001b[0m\u001b[0maxis\u001b[0m\u001b[0;34m=\u001b[0m\u001b[0;36m1\u001b[0m\u001b[0;34m)\u001b[0m\u001b[0;34m\u001b[0m\u001b[0;34m\u001b[0m\u001b[0m\n",
            "\u001b[0;31mNameError\u001b[0m: name 'calc_sat_pr' is not defined"
          ]
        }
      ]
    },
    {
      "cell_type": "code",
      "metadata": {
        "id": "Og0sC8l7l2uH"
      },
      "source": [
        "df_new['old_dp'] = df['dewpoint_C']\r\n"
      ],
      "execution_count": null,
      "outputs": []
    },
    {
      "cell_type": "code",
      "metadata": {
        "id": "UsctpUSamT2S"
      },
      "source": [
        "df_new['dewpoint_met'] = np.where(df_new['old_dp']>=0,\r\n",
        "                                  df_new['partial'].apply(lambda x: calcdew_above(x.magnitude)),\r\n",
        "                                  df_new['partial'].apply(lambda x: calcdew_sub(x.magnitude)))\r\n",
        "df_new.iloc[3000:3024]"
      ],
      "execution_count": null,
      "outputs": []
    },
    {
      "cell_type": "code",
      "metadata": {
        "id": "L8qDGKuPiCaD"
      },
      "source": [
        "df_old = df[['drybulb_C','atmos_Pa','relhum_percent','dewpoint_C']].copy()\r\n",
        "df_old['dewpt2'] = df_old.apply(lambda x: calcdewpt(x['drybulb_C'], x['relhum_percent']),axis=1)\r\n",
        "# df_old['vapor'] = df_old.apply(lambda x: calc_sat_pr(x['atmos_Pa'], x['drybulb_C'], x['relhum_percent']),axis=1)\r\n",
        "# df_old['partial'] = (df_old['vapor']*(df_old['relhum_percent']/100))\r\n",
        "\r\n",
        "# df_old['dewpoint_met'] = np.where(df_old['dewpoint_C']>=0,\r\n",
        "#                                   df_old['partial'].apply(lambda x: calcdew_above(x.magnitude)),\r\n",
        "#                                   df_old['partial'].apply(lambda x: calcdew_sub(x.magnitude)))\r\n"
      ],
      "execution_count": null,
      "outputs": []
    },
    {
      "cell_type": "markdown",
      "metadata": {
        "id": "QOMyc0hnAbLp"
      },
      "source": [
        "## Global Horizontal Radiation (glohor)"
      ]
    },
    {
      "cell_type": "code",
      "metadata": {
        "id": "aTW_kxpFBrRH"
      },
      "source": [
        "fut_glohor = pd.Series([33,64,111,190,220,280,230,210,140,85,38,24]) #watt per m2\r\n",
        "hist_glohor = pd.Series([36,67,109,184,208,244,243,218,146,87,39,26]) #watt per m2\r\n",
        "\r\n",
        "def morph_glohor(df, hist_glohor, fut_glohor):\r\n",
        "  df['single'] = 1\r\n",
        "  months = list(range(1,12+1,1))\r\n",
        "\r\n",
        "  month_hours = dict(zip(months, df['single'].resample('M').sum().tolist())) #hours\r\n",
        "  month_glohor = dict(zip(months, df['glohorrad_Whm2'].resample('M').sum().tolist())) #watt-hours per m2 \r\n",
        "  month_glohor_mean_list = []\r\n",
        "  for key in month_hours:\r\n",
        "    mean = (month_glohor[key])/month_hours[key]\r\n",
        "    month_glohor_mean_list.append(mean)\r\n",
        "  month_glohor_mean_list = dict(zip(months, month_glohor_mean_list)) #watt per m2 \r\n",
        "\r\n",
        "  glohor_change = dict(zip(months, fut_glohor - hist_glohor))\r\n",
        "  glohor_scale_list = []\r\n",
        "  for key in month_glohor_mean_list:\r\n",
        "    glohor_scale = 1 + (glohor_change[key]/month_glohor_mean_list[key])\r\n",
        "    glohor_scale_list.append(glohor_scale)\r\n",
        "  glohor_scale_list = dict(zip(months, glohor_scale_list))\r\n",
        "\r\n",
        "  return df.apply(lambda x: x['glohorrad_Whm2'] * glohor_scale_list[x['month']],axis=1).rename(\"glohorrad_Whm2\").astype(int)\r\n",
        "\r\n",
        "new_glohor = morph_glohor(df, hist_glohor, fut_glohor)"
      ],
      "execution_count": null,
      "outputs": []
    },
    {
      "cell_type": "code",
      "metadata": {
        "id": "-_JkFTP2KK-5"
      },
      "source": [
        "future_df['glohorrad_Whm2'] = new_glohor"
      ],
      "execution_count": null,
      "outputs": []
    },
    {
      "cell_type": "markdown",
      "metadata": {
        "id": "zLweIDi7DNaS"
      },
      "source": [
        "## Diffuse Horizontal Radiation (dfhor)"
      ]
    },
    {
      "cell_type": "markdown",
      "metadata": {
        "id": "KzRKxA49MvgQ"
      },
      "source": [
        "#### Clearness, Sunrise, Sunset"
      ]
    },
    {
      "cell_type": "code",
      "metadata": {
        "id": "5zKzfZjODQ8l"
      },
      "source": [
        "#define the clearness index\r\n",
        "\r\n",
        "hours = list(range(1,8760+1,1))\r\n",
        "days = list(range(1,365+1,1))\r\n",
        "months = list(range(1,12+1,1))\r\n",
        "\r\n",
        "def calc_clearness_hourly(new_glohor, exthor):\r\n",
        "  return pd.Series(new_glohor / exthor).rename(\"clearness\").fillna(0)\r\n",
        "\r\n",
        "def calc_clearness_daily(new_glohor, exthor):\r\n",
        "  daily = pd.Series(new_glohor.resample('D').sum() / exthor.resample('D').sum())\r\n",
        "  return daily.rename(\"clearness\").fillna(0)\r\n",
        "\r\n",
        "\r\n",
        "clearness = calc_clearness_hourly(future_df['glohorrad_Whm2'], df['exthorrad_Whm2'])\r\n",
        "clearness_daily = calc_clearness_daily(future_df['glohorrad_Whm2'], df['exthorrad_Whm2'])\r\n",
        "\r\n",
        "clearness_list = dict(zip(hours, clearness.tolist()))\r\n",
        "clearness_day_list = dict(zip(days,clearness_daily.tolist()))"
      ],
      "execution_count": null,
      "outputs": []
    },
    {
      "cell_type": "code",
      "metadata": {
        "id": "lNVmCTmWNEHP"
      },
      "source": [
        "future_df['hourly_clearness'] = clearness\r\n",
        "future_df['dayofyear'] = future_df.index.dayofyear\r\n",
        "future_df['daily_clearness'] = future_df['dayofyear'].map(clearness_day_list)"
      ],
      "execution_count": null,
      "outputs": []
    },
    {
      "cell_type": "code",
      "metadata": {
        "colab": {
          "base_uri": "https://localhost:8080/"
        },
        "id": "Z_d0LQTEsVE6",
        "outputId": "ce3773ff-4a8d-4168-d63b-87b0796a8c93"
      },
      "source": [
        "#define sunrise sunset\r\n",
        "def calc_rise_set(df, latitude, longitude):\r\n",
        "  ts = api.load.timescale()\r\n",
        "  eph = api.load('de421.bsp')\r\n",
        "\r\n",
        "  location = api.Topos(latitude, longitude)\r\n",
        "\r\n",
        "  t0 = ts.utc(2011-1, 12, 31, 0)\r\n",
        "  t1 = ts.utc(2011+1, 1, 2, 0)\r\n",
        "\r\n",
        "  t, y = almanac.find_discrete(t0, t1, almanac.sunrise_sunset(eph, location))\r\n",
        "  times = pd.Series(t.utc_datetime()).rename('datetimes')\r\n",
        "  times = times + timedelta(hours=-8, minutes=0)\r\n",
        "  keys = pd.Series(y).rename('Rise_Set')\r\n",
        "  keys = pd.Series(np.where(keys==0,'Sunset','Sunrise')).rename('Rise_Set')\r\n",
        "  join = pd.concat([times,keys],axis=1)\r\n",
        "  join.set_index(join['datetimes'], inplace=True)\r\n",
        "  join['year'] = join['datetimes'].dt.year\r\n",
        "  join['month'] = join['datetimes'].dt.month\r\n",
        "  join['day'] = join['datetimes'].dt.day\r\n",
        "  join['hour'] = join['datetimes'].dt.hour\r\n",
        "  join['minute'] = 0\r\n",
        "  join = join[join['year']==2011]\r\n",
        "  join['Timestamp'] = join.apply(lambda row: dt.datetime(row.year, row.month, row.day, row.hour),axis=1)\r\n",
        "  join.set_index('Timestamp', inplace=True)\r\n",
        "\r\n",
        "  join_sub = pd.DataFrame(join['Rise_Set'])\r\n",
        "  join_sub['dtime']=join.index\r\n",
        "  df['dtime']=df.index\r\n",
        "  df = df.merge(join_sub,how='left', left_on='dtime', right_on='dtime')\r\n",
        "  df['Rise_Set'] = df['Rise_Set'].fillna('Neither')\r\n",
        "  df.set_index(df['dtime'], inplace=True)\r\n",
        "  return df['Rise_Set']\r\n",
        "\r\n",
        "rise_set = calc_rise_set(df, latitude, longitude)"
      ],
      "execution_count": null,
      "outputs": [
        {
          "output_type": "stream",
          "text": [
            "[#################################] 100% de421.bsp\n"
          ],
          "name": "stderr"
        }
      ]
    },
    {
      "cell_type": "code",
      "metadata": {
        "id": "t4w2FuQ7Nvum"
      },
      "source": [
        "future_df['rise_set'] = rise_set\r\n",
        "future_df['row_number'] = future_df.reset_index(drop=True).index.tolist()"
      ],
      "execution_count": null,
      "outputs": []
    },
    {
      "cell_type": "code",
      "metadata": {
        "id": "5iSu1sc3vesr"
      },
      "source": [
        "# this correct lead-lag in the hourly clearness index\r\n",
        "\r\n",
        "def persistence(hourly_clearness, rise_set, row_number):\r\n",
        "  if rise_set=='Sunrise':\r\n",
        "    return hourly_clearness[row_number+1]\r\n",
        "  elif rise_set=='Sunset':\r\n",
        "    return hourly_clearness[row_number-1]\r\n",
        "  else:\r\n",
        "    clearness = np.where(row_number<8759,\r\n",
        "                         hourly_clearness[row_number-1] + hourly_clearness[row_number]/2,\r\n",
        "                         0)\r\n",
        "    return clearness\r\n",
        "\r\n",
        "\r\n",
        "\r\n",
        "future_df['persisted_index'] = future_df.apply(lambda x: persistence(clearness,\r\n",
        "                                                       x['rise_set'],\r\n",
        "                                                       x['row_number']), axis=1)"
      ],
      "execution_count": null,
      "outputs": []
    },
    {
      "cell_type": "code",
      "metadata": {
        "id": "bGHjL1UHQHRL"
      },
      "source": [
        "def solar_geometry(df):\r\n",
        "  df['simple_day_angle'] = df.apply(lambda x: calc_simple_day_angle(x['dayofyear']),axis=1)\r\n",
        "  df['bday'] = df.apply(lambda x: calc_bday(x['simple_day_angle']),axis=1)\r\n",
        "  df['equation_of_time'] = df.apply(lambda x: calc_equation_of_time(x['bday']),axis=1)\r\n",
        "  df['local_time_meridian'] = df.apply(lambda x: calc_local_time_meridian(-8),axis=1)\r\n",
        "  df['time_correction'] = df.apply(lambda x: calc_time_correction(longitude,\r\n",
        "                                                                              x['local_time_meridian'],\r\n",
        "                                                                              x['equation_of_time']),axis=1)\r\n",
        "  df['local_solar_time'] = df.apply(lambda x: calc_local_solar_time(x['hour'],\r\n",
        "                                                                                x['time_correction']),axis=1)\r\n",
        "  df['hour_angle'] = df.apply(lambda x: calc_hour_angle(x['local_solar_time']),axis=1)\r\n",
        "  df['declination'] = df.apply(lambda x: calc_declination(x['dayofyear']),axis=1)\r\n",
        "  df['solar_alt'] = df.apply(lambda x: calc_solar_altitude(longitude,\r\n",
        "                                                            latitude,\r\n",
        "                                                            -8,\r\n",
        "                                                            x['dayofyear'],\r\n",
        "                                                            x['hour']),axis=1)\r\n",
        "  return df"
      ],
      "execution_count": null,
      "outputs": []
    },
    {
      "cell_type": "code",
      "metadata": {
        "colab": {
          "base_uri": "https://localhost:8080/",
          "height": 167
        },
        "id": "dt-zfP9FQIfH",
        "outputId": "1274afdf-902d-486d-e9ad-5f9b8133ffd3"
      },
      "source": [
        "future_df = solar_geometry(future_df)\r\n",
        "future_df.head(2)"
      ],
      "execution_count": null,
      "outputs": [
        {
          "output_type": "execute_result",
          "data": {
            "text/html": [
              "<div>\n",
              "<style scoped>\n",
              "    .dataframe tbody tr th:only-of-type {\n",
              "        vertical-align: middle;\n",
              "    }\n",
              "\n",
              "    .dataframe tbody tr th {\n",
              "        vertical-align: top;\n",
              "    }\n",
              "\n",
              "    .dataframe thead th {\n",
              "        text-align: right;\n",
              "    }\n",
              "</style>\n",
              "<table border=\"1\" class=\"dataframe\">\n",
              "  <thead>\n",
              "    <tr style=\"text-align: right;\">\n",
              "      <th></th>\n",
              "      <th>month</th>\n",
              "      <th>day</th>\n",
              "      <th>hour</th>\n",
              "      <th>minute</th>\n",
              "      <th>exthorrad_Whm2</th>\n",
              "      <th>extdirrad_Whm2</th>\n",
              "      <th>year</th>\n",
              "      <th>drybulb_C</th>\n",
              "      <th>relhum_percent</th>\n",
              "      <th>atmos_Pa</th>\n",
              "      <th>dewpoint_C</th>\n",
              "      <th>glohorrad_Whm2</th>\n",
              "      <th>hourly_clearness</th>\n",
              "      <th>dayofyear</th>\n",
              "      <th>daily_clearness</th>\n",
              "      <th>rise_set</th>\n",
              "      <th>row_number</th>\n",
              "      <th>persisted_index</th>\n",
              "      <th>simple_day_angle</th>\n",
              "      <th>bday</th>\n",
              "      <th>equation_of_time</th>\n",
              "      <th>local_time_meridian</th>\n",
              "      <th>time_correction</th>\n",
              "      <th>local_solar_time</th>\n",
              "      <th>hour_angle</th>\n",
              "      <th>declination</th>\n",
              "      <th>solar_alt</th>\n",
              "      <th>difhorrad_Whm2</th>\n",
              "      <th>dirnorrad_Whm2</th>\n",
              "      <th>totskycvr_tenths</th>\n",
              "      <th>present_osc</th>\n",
              "      <th>present_tsc</th>\n",
              "    </tr>\n",
              "  </thead>\n",
              "  <tbody>\n",
              "    <tr>\n",
              "      <th>2011-01-01 00:00:00</th>\n",
              "      <td>1</td>\n",
              "      <td>1</td>\n",
              "      <td>1</td>\n",
              "      <td>0</td>\n",
              "      <td>0</td>\n",
              "      <td>0</td>\n",
              "      <td>2050</td>\n",
              "      <td>6.0</td>\n",
              "      <td>75</td>\n",
              "      <td>102130</td>\n",
              "      <td>1.9</td>\n",
              "      <td>0</td>\n",
              "      <td>0.0</td>\n",
              "      <td>1</td>\n",
              "      <td>0.592134</td>\n",
              "      <td>Neither</td>\n",
              "      <td>0</td>\n",
              "      <td>0.0</td>\n",
              "      <td>0.0</td>\n",
              "      <td>-79.890411</td>\n",
              "      <td>-3.256235</td>\n",
              "      <td>-120</td>\n",
              "      <td>-15.852007</td>\n",
              "      <td>0.7358</td>\n",
              "      <td>-168.963002</td>\n",
              "      <td>-23.094715</td>\n",
              "      <td>-62.422671</td>\n",
              "      <td>0</td>\n",
              "      <td>0</td>\n",
              "      <td>0</td>\n",
              "      <td>0</td>\n",
              "      <td>0</td>\n",
              "    </tr>\n",
              "    <tr>\n",
              "      <th>2011-01-01 01:00:00</th>\n",
              "      <td>1</td>\n",
              "      <td>1</td>\n",
              "      <td>2</td>\n",
              "      <td>0</td>\n",
              "      <td>0</td>\n",
              "      <td>0</td>\n",
              "      <td>2050</td>\n",
              "      <td>6.0</td>\n",
              "      <td>77</td>\n",
              "      <td>101980</td>\n",
              "      <td>2.3</td>\n",
              "      <td>0</td>\n",
              "      <td>0.0</td>\n",
              "      <td>1</td>\n",
              "      <td>0.592134</td>\n",
              "      <td>Neither</td>\n",
              "      <td>1</td>\n",
              "      <td>0.0</td>\n",
              "      <td>0.0</td>\n",
              "      <td>-79.890411</td>\n",
              "      <td>-3.256235</td>\n",
              "      <td>-120</td>\n",
              "      <td>-15.852007</td>\n",
              "      <td>1.7358</td>\n",
              "      <td>-153.963002</td>\n",
              "      <td>-23.094715</td>\n",
              "      <td>-56.779554</td>\n",
              "      <td>0</td>\n",
              "      <td>0</td>\n",
              "      <td>0</td>\n",
              "      <td>0</td>\n",
              "      <td>0</td>\n",
              "    </tr>\n",
              "  </tbody>\n",
              "</table>\n",
              "</div>"
            ],
            "text/plain": [
              "                     month  day  ...  present_osc  present_tsc\n",
              "2011-01-01 00:00:00      1    1  ...            0            0\n",
              "2011-01-01 01:00:00      1    1  ...            0            0\n",
              "\n",
              "[2 rows x 32 columns]"
            ]
          },
          "metadata": {
            "tags": []
          },
          "execution_count": 226
        }
      ]
    },
    {
      "cell_type": "markdown",
      "metadata": {
        "id": "aWo72xHkM3o0"
      },
      "source": [
        "#### Calculate *diffhor*"
      ]
    },
    {
      "cell_type": "code",
      "metadata": {
        "id": "X57temwyWdEx"
      },
      "source": [
        "def calc_diffhor(df):\r\n",
        "  return df.apply(lambda x: x['glohorrad_Whm2'] * (1/(1+math.exp(-5.38 + 6.63 * x['hourly_clearness'] + 0.006 * x['local_solar_time'] - 0.007 * x['solar_alt'] + 1.75 * x['daily_clearness'] + 1.31 * x['persisted_index']))),axis=1).astype(int)\r\n",
        "\r\n",
        "new_diffhor = calc_diffhor(future_df)"
      ],
      "execution_count": null,
      "outputs": []
    },
    {
      "cell_type": "code",
      "metadata": {
        "id": "QTJ70rPBR-Fg"
      },
      "source": [
        "future_df['difhorrad_Whm2'] = new_diffhor"
      ],
      "execution_count": null,
      "outputs": []
    },
    {
      "cell_type": "markdown",
      "metadata": {
        "id": "-sLeyiJJsV3K"
      },
      "source": [
        "### Failed Sunrise\r\n",
        "the following was a failed and innefficient way to define sunrise/sunset"
      ]
    },
    {
      "cell_type": "code",
      "metadata": {
        "colab": {
          "base_uri": "https://localhost:8080/"
        },
        "id": "a-MPMFFFAzF3",
        "outputId": "dc1461b9-23e6-42d6-ddf7-d0bf087df7c9"
      },
      "source": [
        "\r\n",
        "ts = api.load.timescale()\r\n",
        "eph = api.load('de421.bsp')"
      ],
      "execution_count": null,
      "outputs": [
        {
          "output_type": "stream",
          "text": [
            "[#################################] 100% de421.bsp\n"
          ],
          "name": "stderr"
        }
      ]
    },
    {
      "cell_type": "code",
      "metadata": {
        "colab": {
          "base_uri": "https://localhost:8080/"
        },
        "id": "Uz_QAMWGAxuO",
        "outputId": "9b7505b4-922e-4b1b-9f67-a7aa2e122d2f"
      },
      "source": [
        "latitude = 49.264703\r\n",
        "longitude = -123.148943\r\n",
        "\r\n",
        "def change_coords(lat,lon):\r\n",
        "  if lat >= 0:\r\n",
        "    lat_dir = 'N'\r\n",
        "  else:\r\n",
        "    lat_dir = 'S'\r\n",
        "  if lon >= 0:\r\n",
        "    lon_dir = 'E'\r\n",
        "  else:\r\n",
        "    lon_dir = 'W'\r\n",
        "\r\n",
        "location = api.Topos(latitude, longitude)\r\n",
        "location"
      ],
      "execution_count": null,
      "outputs": [
        {
          "output_type": "execute_result",
          "data": {
            "text/plain": [
              "<Topos Earth latitude 49deg 15' 52.9\" N longitude -123deg 08' 56.2\" E>"
            ]
          },
          "metadata": {
            "tags": []
          },
          "execution_count": 203
        }
      ]
    },
    {
      "cell_type": "code",
      "metadata": {
        "colab": {
          "base_uri": "https://localhost:8080/"
        },
        "id": "i441IEZfI7vi",
        "outputId": "5d673e50-42fe-46ce-95db-942f6a44ad0b"
      },
      "source": [
        "t0 = ts.utc(2021, 1, 1, 0)\r\n",
        "t1 = ts.utc(2021, 1, 1, 23)\r\n",
        "\r\n",
        "f = almanac.dark_twilight_day(eph, location)\r\n",
        "t, y = almanac.find_discrete(t0, t1, f)\r\n",
        "\r\n",
        "# print(t.utc_iso()[4], y[4]) #start of day\r\n",
        "\r\n",
        "# print(t.utc_iso()[0], y[0]) #start of night\r\n",
        "\r\n",
        "# t.utc_datetime()[4] + timedelta(hours=-8, minutes=0)\r\n",
        "# t.utc_datetime()[0] + timedelta(hours=-8, minutes=0)\r\n",
        "for ti, yi in zip(t, y):\r\n",
        "    print(yi, '<>', ti.utc_iso(), '<>', almanac.TWILIGHTS[yi])"
      ],
      "execution_count": null,
      "outputs": [
        {
          "output_type": "stream",
          "text": [
            "3 <> 2021-01-01T00:24:15Z <> Civil twilight\n",
            "2 <> 2021-01-01T01:01:41Z <> Nautical twilight\n",
            "1 <> 2021-01-01T01:42:20Z <> Astronomical twilight\n",
            "0 <> 2021-01-01T02:21:03Z <> Night\n",
            "1 <> 2021-01-01T14:11:09Z <> Astronomical twilight\n",
            "2 <> 2021-01-01T14:49:50Z <> Nautical twilight\n",
            "3 <> 2021-01-01T15:30:26Z <> Civil twilight\n",
            "4 <> 2021-01-01T16:07:48Z <> Day\n"
          ],
          "name": "stdout"
        }
      ]
    },
    {
      "cell_type": "code",
      "metadata": {
        "id": "_XKS6hdgTA8r"
      },
      "source": [
        "for i in list(range(1,23+1,1)):\r\n",
        "  print(i)\r\n",
        "  t0 = ts.utc(2021, 1, 1, i)\r\n",
        "  t1 = ts.utc(2021, 1, 1, i+1)\r\n",
        "\r\n",
        "  f = almanac.dark_twilight_day(eph, location)\r\n",
        "  t, y = almanac.find_discrete(t0, t1, f)\r\n",
        "  \r\n",
        "  if y.size == 0:\r\n",
        "    print('No')\r\n",
        "    pass\r\n",
        "  else:\r\n",
        "    if almanac.TWILIGHTS[y[0]]=='Day':\r\n",
        "      print('Yes')\r\n",
        "      rise = t.utc_datetime()[0] + timedelta(hours=-8, minutes=0)\r\n",
        "      print('Sunrise is at {HOUR}:{MIN}'.format(HOUR=rise.hour,MIN=rise.minute))\r\n",
        "    else:\r\n",
        "      print('No')\r\n",
        "\r\n"
      ],
      "execution_count": null,
      "outputs": []
    },
    {
      "cell_type": "code",
      "metadata": {
        "id": "ei_76sPjUkJn"
      },
      "source": [
        "for i in list(range(1,23+1,1)):\r\n",
        "  print(i)\r\n",
        "  t0 = ts.utc(2021, 1, 1, i)\r\n",
        "  t1 = ts.utc(2021, 1, 1, i+1)\r\n",
        "\r\n",
        "  f = almanac.dark_twilight_day(eph, location)\r\n",
        "  t, y = almanac.find_discrete(t0, t1, f)\r\n",
        "  \r\n",
        "  if y.size == 0:\r\n",
        "    print('No')\r\n",
        "    pass\r\n",
        "  else:\r\n",
        "    if almanac.TWILIGHTS[y[0]]=='Night':\r\n",
        "      print('Yes')\r\n",
        "      sunset = t.utc_datetime()[0] + timedelta(hours=-8, minutes=0)\r\n",
        "      print('Sunset is at {HOUR}:{MIN}'.format(HOUR=sunset.hour,MIN=sunset.minute))\r\n",
        "    else:\r\n",
        "      print('No')"
      ],
      "execution_count": null,
      "outputs": []
    },
    {
      "cell_type": "code",
      "metadata": {
        "id": "m-inN7PpQeHH"
      },
      "source": [
        "# this was super innefficient \r\n",
        "\r\n",
        "def (year, month, day, hour):\r\n",
        "  t0 = ts.utc(year, month, day, hour)\r\n",
        "  t1 = ts.utc(year, month, day, hour+1)\r\n",
        "\r\n",
        "  f = almanac.dark_twilight_day(eph, location)\r\n",
        "  t, y = almanac.find_discrete(t0, t1, f)\r\n",
        "  \r\n",
        "  if y.size == 0:\r\n",
        "    return 'FALSE'\r\n",
        "  elif almanac.TWILIGHTS[y[0]]=='Day':\r\n",
        "    return 'TRUE'\r\n",
        "  else:\r\n",
        "    return 'FALSE'\r\n",
        "\r\n",
        "idx = df.index + timedelta(hours=-8, minutes=0)\r\n",
        "solar_df = pd.DataFrame()\r\n",
        "solar_df['datetimes'] = idx\r\n",
        "solar_df = solar_df.set_index(solar_df['datetimes'])\r\n",
        "solar_df['year'] = solar_df['datetimes'].dt.year\r\n",
        "solar_df['month'] = solar_df['datetimes'].dt.month\r\n",
        "solar_df['day'] = solar_df['datetimes'].dt.day\r\n",
        "solar_df['hour'] = solar_df['datetimes'].dt.hour\r\n",
        "solar_df['minute'] = solar_df['datetimes'].dt.minute\r\n",
        "solar_df['sunrise'] = solar_df.apply(lambda x: check_sunrise(x['year'],x['month'],x['day'],x['hour']),axis=1)"
      ],
      "execution_count": null,
      "outputs": []
    },
    {
      "cell_type": "code",
      "metadata": {
        "colab": {
          "base_uri": "https://localhost:8080/"
        },
        "id": "BzYFu7tjO3rm",
        "outputId": "71b8840c-79ae-4a1a-f8ac-c0225ed09abf"
      },
      "source": [
        "t.utc_datetime()[0].hour + 1\r\n",
        "\r\n",
        "def check_sunset(year,month,day,hour):\r\n",
        "  t0 = ts.utc(year, month, day, hour)\r\n",
        "  t1 = ts.utc(year, month, day, hour+1)\r\n",
        "\r\n",
        "  f = almanac.dark_twilight_day(eph, location)\r\n",
        "  t, y = almanac.find_discrete(t0, t1, f)"
      ],
      "execution_count": null,
      "outputs": [
        {
          "output_type": "execute_result",
          "data": {
            "text/plain": [
              "1"
            ]
          },
          "metadata": {
            "tags": []
          },
          "execution_count": 272
        }
      ]
    },
    {
      "cell_type": "markdown",
      "metadata": {
        "id": "8yGBh6M_CP-x"
      },
      "source": [
        "## Direct Normal Radiation (dnor)"
      ]
    },
    {
      "cell_type": "code",
      "metadata": {
        "id": "NRChI50eDEvg"
      },
      "source": [
        "def calc_dirnor(df):\r\n",
        "  return df.apply(lambda x: (x['glohorrad_Whm2'] - x['difhorrad_Whm2'])/np.sin(np.deg2rad(x['solar_alt'])),axis=1).astype(int)\r\n",
        "\r\n",
        "new_dirnor = calc_dirnor(future_df)"
      ],
      "execution_count": null,
      "outputs": []
    },
    {
      "cell_type": "code",
      "metadata": {
        "id": "M5-bwFjyHSi_"
      },
      "source": [
        "future_df['dirnorrad_Whm2'] = new_dirnor"
      ],
      "execution_count": null,
      "outputs": []
    },
    {
      "cell_type": "markdown",
      "metadata": {
        "id": "_FVjOoo5XvGQ"
      },
      "source": [
        "## Total Sky Cover (tsc)"
      ]
    },
    {
      "cell_type": "code",
      "metadata": {
        "id": "4yTzdgxcXxLm"
      },
      "source": [
        "hist_clt = pd.Series([77.42974091,75.87249756,67.61535645,71.07409668,59.77767181,54.62646484,51.94243622,46.48913956,54.77412796,66.72571564,75.65497589,81.23233032])\r\n",
        "fut_clt = pd.Series([81.37533951,79.21534348,66.08791351,58.96732521,56.43816757,55.67134857,38.2667293,46.55263901,49.36717606,66.99471092,77.30912781,77.71963882])\r\n",
        "\r\n",
        "def calc_tsc(df, hist_clt, fut_clt):\r\n",
        "  months = list(range(1,12+1,1))\r\n",
        "  cc_change = dict(zip(months,((fut_clt - hist_clt)/10).astype(int)))\r\n",
        "  return np.clip(df.apply(lambda x: x['totskycvr_tenths'] + cc_change[x['month']],axis=1).rename(\"totskycvr_tenths\"),0,10).astype(int)\r\n",
        "\r\n",
        "new_tsc = calc_tsc(df, hist_clt, fut_clt)"
      ],
      "execution_count": null,
      "outputs": []
    },
    {
      "cell_type": "code",
      "metadata": {
        "id": "KD_9JH80ayuc"
      },
      "source": [
        "future_df['totskycvr_tenths'] = new_tsc"
      ],
      "execution_count": null,
      "outputs": []
    },
    {
      "cell_type": "code",
      "metadata": {
        "colab": {
          "base_uri": "https://localhost:8080/"
        },
        "id": "5y_m35B_eU95",
        "outputId": "08760cea-cd93-44a1-ae7a-2f84f2460c95"
      },
      "source": [
        "future_df.apply()"
      ],
      "execution_count": null,
      "outputs": [
        {
          "output_type": "execute_result",
          "data": {
            "text/plain": [
              "2011-01-01 00:00:00     0\n",
              "2011-01-01 01:00:00     0\n",
              "2011-01-01 02:00:00     0\n",
              "2011-01-01 03:00:00     0\n",
              "2011-01-01 04:00:00     0\n",
              "                       ..\n",
              "2011-12-31 19:00:00    10\n",
              "2011-12-31 20:00:00    10\n",
              "2011-12-31 21:00:00    10\n",
              "2011-12-31 22:00:00    10\n",
              "2011-12-31 23:00:00    10\n",
              "Name: totskycvr_tenths, Length: 8760, dtype: int64"
            ]
          },
          "metadata": {
            "tags": []
          },
          "execution_count": 239
        }
      ]
    },
    {
      "cell_type": "markdown",
      "metadata": {
        "id": "PHt5kGS5S-9c"
      },
      "source": [
        "## Opaque Sky Cover (osc)"
      ]
    },
    {
      "cell_type": "code",
      "metadata": {
        "id": "edJmMqhhh_JJ"
      },
      "source": [
        "future_df['present_osc'] = df['opaqskycvr_tenths']\r\n",
        "future_df['present_tsc'] = df['totskycvr_tenths']\r\n",
        "\r\n",
        "def calc_osc(df):\r\n",
        "  def calc(present_tsc, totskycvr_tenths, present_osc):\r\n",
        "    if present_tsc==0:\r\n",
        "      return 0\r\n",
        "    else:\r\n",
        "      return (totskycvr_tenths * present_osc) / present_tsc\r\n",
        "  return df.apply(lambda x: calc(x['present_tsc'],\r\n",
        "                                   x['totskycvr_tenths'],\r\n",
        "                                   x['present_osc']),axis=1).astype(int)\r\n",
        "new_osc = calc_osc(future_df)"
      ],
      "execution_count": null,
      "outputs": []
    },
    {
      "cell_type": "code",
      "metadata": {
        "id": "AcS1o3OPjBLP"
      },
      "source": [
        "future_df['opaqskycvr_tenths'] = new_osc"
      ],
      "execution_count": null,
      "outputs": []
    },
    {
      "cell_type": "markdown",
      "metadata": {
        "id": "wXTwe77ojOuy"
      },
      "source": [
        "## Wind Speed (wspd)"
      ]
    },
    {
      "cell_type": "code",
      "metadata": {
        "id": "ZfR7kp7bspCE"
      },
      "source": [
        "uas_vas = pd.DataFrame(pd.read_csv('/content/uas+vas.csv'))\r\n",
        "\r\n",
        "hist_uas_vas = uas_vas[['uas_hist','vas_hist','date_hist']].dropna().rename(columns={'uas_hist':'uas','vas_hist':'vas'})\r\n",
        "hist_uas_vas['Datetime'] = pd.to_datetime(hist_uas_vas['date_hist'])\r\n",
        "hist_uas_vas = hist_uas_vas.set_index('Datetime')\r\n",
        "hist_uas_vas = hist_uas_vas.drop(['date_hist'],axis=1)\r\n",
        "\r\n",
        "fut_uas_vas = uas_vas[['uas_fut','vas_fut','date_fut']].dropna().rename(columns={'uas_fut':'uas','vas_fut':'vas'})\r\n",
        "fut_uas_vas['Datetime'] = pd.to_datetime(fut_uas_vas['date_fut'])\r\n",
        "fut_uas_vas = fut_uas_vas.set_index('Datetime')\r\n",
        "fut_uas_vas = fut_uas_vas.drop(['date_fut'],axis=1)\r\n",
        "\r\n",
        "hist_uas_vas_m = hist_uas_vas.groupby(hist_uas_vas.index.month).mean()\r\n",
        "fut_uas_vas_m = fut_uas_vas.groupby(fut_uas_vas.index.month).mean()\r\n",
        "\r\n",
        "hist_uas_vas_m['spd'] = hist_uas_vas_m.apply(lambda x: uas_vas_2_sfcwind(x['uas'],x['vas'],out='SPD'),axis=1)\r\n",
        "hist_uas_vas_m['dir'] = hist_uas_vas_m.apply(lambda x: uas_vas_2_sfcwind(x['uas'],x['vas'],out='DIR'),axis=1)\r\n",
        "\r\n",
        "fut_uas_vas_m['spd'] = fut_uas_vas_m.apply(lambda x: uas_vas_2_sfcwind(x['uas'],x['vas'],out='SPD'),axis=1)\r\n",
        "fut_uas_vas_m['dir'] = fut_uas_vas_m.apply(lambda x: uas_vas_2_sfcwind(x['uas'],x['vas'],out='DIR'),axis=1)"
      ],
      "execution_count": null,
      "outputs": []
    },
    {
      "cell_type": "code",
      "metadata": {
        "colab": {
          "base_uri": "https://localhost:8080/"
        },
        "id": "xIhWZgLWVWYI",
        "outputId": "22af9b55-9cad-42af-ba32-451a43e11f49"
      },
      "source": [
        "fut_spd = fut_uas_vas_m['spd']\r\n",
        "hist_spd = hist_uas_vas_m['spd']\r\n",
        "\r\n",
        "def morph_wspd(df, fut_spd, hist_spd):\r\n",
        "    # requires fut_ and hist_ inputs to be monthly climatologies\r\n",
        "    months = list(range(1,12+1,1))\r\n",
        "    rel_change = 100 * ((fut_spd - hist_spd) / hist_spd)\r\n",
        "    scale_factor_wspd = dict(zip(months, 1 + (rel_change/100)))\r\n",
        "    return df.apply(lambda x: x['windspd_ms'] * scale_factor_wspd[x['month']],axis=1).rename(\"windspd_ms\").astype(float)\r\n",
        "\r\n",
        "new_wspd = morph_wspd(df, fut_spd, hist_spd).astype(int)\r\n"
      ],
      "execution_count": 367,
      "outputs": [
        {
          "output_type": "execute_result",
          "data": {
            "text/plain": [
              "18"
            ]
          },
          "metadata": {
            "tags": []
          },
          "execution_count": 367
        }
      ]
    },
    {
      "cell_type": "code",
      "metadata": {
        "id": "p-q8YcbFYuyM"
      },
      "source": [
        "future_df['windspd_ms'] = new_wspd"
      ],
      "execution_count": 372,
      "outputs": []
    },
    {
      "cell_type": "markdown",
      "metadata": {
        "id": "o1P8z4qDEbOj"
      },
      "source": [
        "## Global Horizontal Illuminance (glohor_lux)"
      ]
    },
    {
      "cell_type": "code",
      "metadata": {
        "id": "YXd6ywDYuq0s",
        "colab": {
          "base_uri": "https://localhost:8080/"
        },
        "outputId": "a6942ee2-3a08-45ff-fa4e-ab969e92dd78"
      },
      "source": [
        "future_df['zenith'] = future_df.apply(lambda x: calc_zenith(x['solar_alt']),axis=1)\r\n",
        "future_df['rel_air_mass'] = future_df.apply(lambda x: calc_rel_air_mass(x['zenith']),axis=1)\r\n",
        "future_df['extnorrad_Whm2'] = future_df.apply(lambda x: calc_exnor(x['dayofyear']),axis=1)\r\n",
        "future_df['atmos_brightness'] =  future_df.apply(lambda x: calc_atmos_brightness(x['difhorrad_Whm2'],\r\n",
        "                                                                                 x['rel_air_mass'],\r\n",
        "                                                                                 x['extnorrad_Whm2']),axis=1)\r\n",
        "future_df['atmos_clearness'] =  future_df.apply(lambda x: calc_atmos_clearness(x['difhorrad_Whm2'],\r\n",
        "                                                                               x['dirnorrad_Whm2'],\r\n",
        "                                                                               x['zenith']),axis=1)\r\n",
        "future_df['atmos_clearness'].head(48)"
      ],
      "execution_count": 348,
      "outputs": [
        {
          "output_type": "execute_result",
          "data": {
            "text/plain": [
              "2011-01-01 00:00:00         NaN\n",
              "2011-01-01 01:00:00         NaN\n",
              "2011-01-01 02:00:00         NaN\n",
              "2011-01-01 03:00:00         NaN\n",
              "2011-01-01 04:00:00         NaN\n",
              "2011-01-01 05:00:00         NaN\n",
              "2011-01-01 06:00:00         NaN\n",
              "2011-01-01 07:00:00         NaN\n",
              "2011-01-01 08:00:00    0.000000\n",
              "2011-01-01 09:00:00    1.072709\n",
              "2011-01-01 10:00:00    2.559866\n",
              "2011-01-01 11:00:00    3.370237\n",
              "2011-01-01 12:00:00    3.920511\n",
              "2011-01-01 13:00:00    4.278253\n",
              "2011-01-01 14:00:00    2.339749\n",
              "2011-01-01 15:00:00    7.340228\n",
              "2011-01-01 16:00:00         NaN\n",
              "2011-01-01 17:00:00         NaN\n",
              "2011-01-01 18:00:00         NaN\n",
              "2011-01-01 19:00:00         NaN\n",
              "2011-01-01 20:00:00         NaN\n",
              "2011-01-01 21:00:00         NaN\n",
              "2011-01-01 22:00:00         NaN\n",
              "2011-01-01 23:00:00         NaN\n",
              "2011-01-02 00:00:00         NaN\n",
              "2011-01-02 01:00:00         NaN\n",
              "2011-01-02 02:00:00         NaN\n",
              "2011-01-02 03:00:00         NaN\n",
              "2011-01-02 04:00:00         NaN\n",
              "2011-01-02 05:00:00         NaN\n",
              "2011-01-02 06:00:00         NaN\n",
              "2011-01-02 07:00:00         NaN\n",
              "2011-01-02 08:00:00    0.000000\n",
              "2011-01-02 09:00:00    0.651711\n",
              "2011-01-02 10:00:00    1.017430\n",
              "2011-01-02 11:00:00    1.603233\n",
              "2011-01-02 12:00:00    2.067653\n",
              "2011-01-02 13:00:00    2.551128\n",
              "2011-01-02 14:00:00    4.594362\n",
              "2011-01-02 15:00:00    7.997518\n",
              "2011-01-02 16:00:00         NaN\n",
              "2011-01-02 17:00:00         NaN\n",
              "2011-01-02 18:00:00         NaN\n",
              "2011-01-02 19:00:00         NaN\n",
              "2011-01-02 20:00:00         NaN\n",
              "2011-01-02 21:00:00         NaN\n",
              "2011-01-02 22:00:00         NaN\n",
              "2011-01-02 23:00:00         NaN\n",
              "Name: atmos_clearness, dtype: float64"
            ]
          },
          "metadata": {
            "tags": []
          },
          "execution_count": 348
        }
      ]
    }
  ]
}