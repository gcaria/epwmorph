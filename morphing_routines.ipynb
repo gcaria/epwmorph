{
  "nbformat": 4,
  "nbformat_minor": 0,
  "metadata": {
    "colab": {
      "name": "morphing routines.ipynb",
      "provenance": [],
      "authorship_tag": "ABX9TyMDwk5kItRjgVB2378vCSJI",
      "include_colab_link": true
    },
    "kernelspec": {
      "name": "python3",
      "display_name": "Python 3"
    }
  },
  "cells": [
    {
      "cell_type": "markdown",
      "metadata": {
        "id": "view-in-github",
        "colab_type": "text"
      },
      "source": [
        "<a href=\"https://colab.research.google.com/github/justinfmccarty/epwmorph/blob/main/morphing_routines.ipynb\" target=\"_parent\"><img src=\"https://colab.research.google.com/assets/colab-badge.svg\" alt=\"Open In Colab\"/></a>"
      ]
    },
    {
      "cell_type": "code",
      "metadata": {
        "id": "vGQFSSvZiYKn",
        "colab": {
          "base_uri": "https://localhost:8080/"
        },
        "outputId": "f6c1edc3-dd55-4401-91ac-922e5355f2d4"
      },
      "source": [
        "!pip install meteocalc\r\n",
        "!pip install skyfield"
      ],
      "execution_count": 182,
      "outputs": [
        {
          "output_type": "stream",
          "text": [
            "Collecting skyfield\n",
            "\u001b[?25l  Downloading https://files.pythonhosted.org/packages/83/0c/df77ee78c99cc640ae6760f42f61e5f63a206d70143ab322e8bb70be6fe7/skyfield-1.34.tar.gz (381kB)\n",
            "\u001b[K     |████████████████████████████████| 389kB 9.8MB/s \n",
            "\u001b[?25hRequirement already satisfied: certifi>=2017.4.17 in /usr/local/lib/python3.6/dist-packages (from skyfield) (2020.12.5)\n",
            "Collecting jplephem>=2.13\n",
            "\u001b[?25l  Downloading https://files.pythonhosted.org/packages/c9/f0/e57456436531333455f40864622c5ae359654ccede8fe1156c3c2ac6c492/jplephem-2.15.tar.gz (40kB)\n",
            "\u001b[K     |████████████████████████████████| 40kB 5.6MB/s \n",
            "\u001b[?25hRequirement already satisfied: numpy in /usr/local/lib/python3.6/dist-packages (from skyfield) (1.19.4)\n",
            "Collecting sgp4>=2.2\n",
            "\u001b[?25l  Downloading https://files.pythonhosted.org/packages/39/12/b56274117e7d3e538b633ddf1043e43664571f6ee11cfd7f46fc7dd68d48/sgp4-2.14-cp36-cp36m-manylinux2010_x86_64.whl (255kB)\n",
            "\u001b[K     |████████████████████████████████| 256kB 14.1MB/s \n",
            "\u001b[?25hBuilding wheels for collected packages: skyfield, jplephem\n",
            "  Building wheel for skyfield (setup.py) ... \u001b[?25l\u001b[?25hdone\n",
            "  Created wheel for skyfield: filename=skyfield-1.34-cp36-none-any.whl size=421399 sha256=14fa132eec4382b8f5d660de0a3ffa52fe3fe2b44478539a68b4095aaac5c0fd\n",
            "  Stored in directory: /root/.cache/pip/wheels/48/e1/ad/9e7673f3ea6061030e82535ce33a14d79fd3b54290835c60c8\n",
            "  Building wheel for jplephem (setup.py) ... \u001b[?25l\u001b[?25hdone\n",
            "  Created wheel for jplephem: filename=jplephem-2.15-cp36-none-any.whl size=46018 sha256=077a89035b5d7d3c169c0b0c5e93ef4991aea24cb88ab6b012b9f6dff72ba87f\n",
            "  Stored in directory: /root/.cache/pip/wheels/01/71/9c/beaa33beb607ef67b62765324a10cd3584e30fbeef8856b7a8\n",
            "Successfully built skyfield jplephem\n",
            "Installing collected packages: jplephem, sgp4, skyfield\n",
            "Successfully installed jplephem-2.15 sgp4-2.14 skyfield-1.34\n"
          ],
          "name": "stdout"
        }
      ]
    },
    {
      "cell_type": "code",
      "metadata": {
        "id": "o85pRyq8VxJI"
      },
      "source": [
        "import pandas as pd\r\n",
        "# import metpy.calc as mpcalc\r\n",
        "# from metpy.units import units\r\n",
        "import numpy as np\r\n",
        "from datetime import timedelta\r\n",
        "import datetime as dt\r\n",
        "import math\r\n",
        "from meteocalc import dew_point as calcdewpt\r\n",
        "\r\n",
        "from skyfield import api, almanac"
      ],
      "execution_count": 259,
      "outputs": []
    },
    {
      "cell_type": "code",
      "metadata": {
        "id": "8sGoqCpHVfFz"
      },
      "source": [
        "def epw_to_dataframe(weather_path):\r\n",
        "    epw_labels = ['year', 'month', 'day', 'hour', 'minute', 'datasource', 'drybulb_C', 'dewpoint_C', 'relhum_percent',\r\n",
        "                  'atmos_Pa', 'exthorrad_Whm2', 'extdirrad_Whm2', 'horirsky_Whm2', 'glohorrad_Whm2',\r\n",
        "                  'dirnorrad_Whm2', 'difhorrad_Whm2', 'glohorillum_lux', 'dirnorillum_lux', 'difhorillum_lux',\r\n",
        "                  'zenlum_lux', 'winddir_deg', 'windspd_ms', 'totskycvr_tenths', 'opaqskycvr_tenths', 'visibility_km',\r\n",
        "                  'ceiling_hgt_m', 'presweathobs', 'presweathcodes', 'precip_wtr_mm', 'aerosol_opt_thousandths',\r\n",
        "                  'snowdepth_cm', 'days_last_snow', 'Albedo', 'liq_precip_depth_mm', 'liq_precip_rate_Hour']\r\n",
        "\r\n",
        "    df = pd.DataFrame(pd.read_csv(weather_path, skiprows=8, header=None, names=epw_labels).drop('datasource', axis=1))\r\n",
        "    return df\r\n",
        "\r\n"
      ],
      "execution_count": 3,
      "outputs": []
    },
    {
      "cell_type": "code",
      "metadata": {
        "colab": {
          "base_uri": "https://localhost:8080/",
          "height": 313
        },
        "id": "dYy-eLcYVkon",
        "outputId": "c13da439-e033-45c5-afe2-cb0aaf83d2cb"
      },
      "source": [
        "df = epw_to_dataframe('/content/CAN_BC_Vancouver.Intl.AP.718920_CWEC2016.epw')\r\n",
        "# returns datetime objects\r\n",
        "df.index = pd.to_datetime(df.apply(lambda row: dt.datetime(2011, \r\n",
        "                                                           int(row.month), \r\n",
        "                                                           int(row.day), \r\n",
        "                                                           int(row.hour)-1,\r\n",
        "                                                           int(row.minute)), axis=1))\r\n",
        "df.head()"
      ],
      "execution_count": 533,
      "outputs": [
        {
          "output_type": "execute_result",
          "data": {
            "text/html": [
              "<div>\n",
              "<style scoped>\n",
              "    .dataframe tbody tr th:only-of-type {\n",
              "        vertical-align: middle;\n",
              "    }\n",
              "\n",
              "    .dataframe tbody tr th {\n",
              "        vertical-align: top;\n",
              "    }\n",
              "\n",
              "    .dataframe thead th {\n",
              "        text-align: right;\n",
              "    }\n",
              "</style>\n",
              "<table border=\"1\" class=\"dataframe\">\n",
              "  <thead>\n",
              "    <tr style=\"text-align: right;\">\n",
              "      <th></th>\n",
              "      <th>year</th>\n",
              "      <th>month</th>\n",
              "      <th>day</th>\n",
              "      <th>hour</th>\n",
              "      <th>minute</th>\n",
              "      <th>drybulb_C</th>\n",
              "      <th>dewpoint_C</th>\n",
              "      <th>relhum_percent</th>\n",
              "      <th>atmos_Pa</th>\n",
              "      <th>exthorrad_Whm2</th>\n",
              "      <th>extdirrad_Whm2</th>\n",
              "      <th>horirsky_Whm2</th>\n",
              "      <th>glohorrad_Whm2</th>\n",
              "      <th>dirnorrad_Whm2</th>\n",
              "      <th>difhorrad_Whm2</th>\n",
              "      <th>glohorillum_lux</th>\n",
              "      <th>dirnorillum_lux</th>\n",
              "      <th>difhorillum_lux</th>\n",
              "      <th>zenlum_lux</th>\n",
              "      <th>winddir_deg</th>\n",
              "      <th>windspd_ms</th>\n",
              "      <th>totskycvr_tenths</th>\n",
              "      <th>opaqskycvr_tenths</th>\n",
              "      <th>visibility_km</th>\n",
              "      <th>ceiling_hgt_m</th>\n",
              "      <th>presweathobs</th>\n",
              "      <th>presweathcodes</th>\n",
              "      <th>precip_wtr_mm</th>\n",
              "      <th>aerosol_opt_thousandths</th>\n",
              "      <th>snowdepth_cm</th>\n",
              "      <th>days_last_snow</th>\n",
              "      <th>Albedo</th>\n",
              "      <th>liq_precip_depth_mm</th>\n",
              "      <th>liq_precip_rate_Hour</th>\n",
              "    </tr>\n",
              "  </thead>\n",
              "  <tbody>\n",
              "    <tr>\n",
              "      <th>2011-01-01 00:00:00</th>\n",
              "      <td>2011</td>\n",
              "      <td>1</td>\n",
              "      <td>1</td>\n",
              "      <td>1</td>\n",
              "      <td>0</td>\n",
              "      <td>-1.8</td>\n",
              "      <td>-4.5</td>\n",
              "      <td>80</td>\n",
              "      <td>102160</td>\n",
              "      <td>0</td>\n",
              "      <td>0</td>\n",
              "      <td>238</td>\n",
              "      <td>0</td>\n",
              "      <td>0</td>\n",
              "      <td>0</td>\n",
              "      <td>0</td>\n",
              "      <td>0</td>\n",
              "      <td>0</td>\n",
              "      <td>0</td>\n",
              "      <td>0</td>\n",
              "      <td>0.0</td>\n",
              "      <td>0</td>\n",
              "      <td>0</td>\n",
              "      <td>48.3</td>\n",
              "      <td>77770</td>\n",
              "      <td>0</td>\n",
              "      <td>999999990</td>\n",
              "      <td>0</td>\n",
              "      <td>0.085</td>\n",
              "      <td>0</td>\n",
              "      <td>88</td>\n",
              "      <td>0.2</td>\n",
              "      <td>0.0</td>\n",
              "      <td>0.0</td>\n",
              "    </tr>\n",
              "    <tr>\n",
              "      <th>2011-01-01 01:00:00</th>\n",
              "      <td>2011</td>\n",
              "      <td>1</td>\n",
              "      <td>1</td>\n",
              "      <td>2</td>\n",
              "      <td>0</td>\n",
              "      <td>-3.0</td>\n",
              "      <td>-5.3</td>\n",
              "      <td>82</td>\n",
              "      <td>102010</td>\n",
              "      <td>0</td>\n",
              "      <td>0</td>\n",
              "      <td>233</td>\n",
              "      <td>0</td>\n",
              "      <td>0</td>\n",
              "      <td>0</td>\n",
              "      <td>0</td>\n",
              "      <td>0</td>\n",
              "      <td>0</td>\n",
              "      <td>0</td>\n",
              "      <td>0</td>\n",
              "      <td>0.0</td>\n",
              "      <td>0</td>\n",
              "      <td>0</td>\n",
              "      <td>48.3</td>\n",
              "      <td>77770</td>\n",
              "      <td>0</td>\n",
              "      <td>999999990</td>\n",
              "      <td>0</td>\n",
              "      <td>0.085</td>\n",
              "      <td>0</td>\n",
              "      <td>88</td>\n",
              "      <td>0.2</td>\n",
              "      <td>0.0</td>\n",
              "      <td>0.0</td>\n",
              "    </tr>\n",
              "    <tr>\n",
              "      <th>2011-01-01 02:00:00</th>\n",
              "      <td>2011</td>\n",
              "      <td>1</td>\n",
              "      <td>1</td>\n",
              "      <td>3</td>\n",
              "      <td>0</td>\n",
              "      <td>-4.0</td>\n",
              "      <td>-6.0</td>\n",
              "      <td>84</td>\n",
              "      <td>101920</td>\n",
              "      <td>0</td>\n",
              "      <td>0</td>\n",
              "      <td>229</td>\n",
              "      <td>0</td>\n",
              "      <td>0</td>\n",
              "      <td>0</td>\n",
              "      <td>0</td>\n",
              "      <td>0</td>\n",
              "      <td>0</td>\n",
              "      <td>0</td>\n",
              "      <td>0</td>\n",
              "      <td>0.0</td>\n",
              "      <td>0</td>\n",
              "      <td>0</td>\n",
              "      <td>48.3</td>\n",
              "      <td>77770</td>\n",
              "      <td>0</td>\n",
              "      <td>999999990</td>\n",
              "      <td>0</td>\n",
              "      <td>0.085</td>\n",
              "      <td>0</td>\n",
              "      <td>88</td>\n",
              "      <td>0.2</td>\n",
              "      <td>0.0</td>\n",
              "      <td>0.0</td>\n",
              "    </tr>\n",
              "    <tr>\n",
              "      <th>2011-01-01 03:00:00</th>\n",
              "      <td>2011</td>\n",
              "      <td>1</td>\n",
              "      <td>1</td>\n",
              "      <td>4</td>\n",
              "      <td>0</td>\n",
              "      <td>-4.7</td>\n",
              "      <td>-6.4</td>\n",
              "      <td>86</td>\n",
              "      <td>101880</td>\n",
              "      <td>0</td>\n",
              "      <td>0</td>\n",
              "      <td>226</td>\n",
              "      <td>0</td>\n",
              "      <td>0</td>\n",
              "      <td>0</td>\n",
              "      <td>0</td>\n",
              "      <td>0</td>\n",
              "      <td>0</td>\n",
              "      <td>0</td>\n",
              "      <td>0</td>\n",
              "      <td>0.0</td>\n",
              "      <td>0</td>\n",
              "      <td>0</td>\n",
              "      <td>48.3</td>\n",
              "      <td>77770</td>\n",
              "      <td>0</td>\n",
              "      <td>999999990</td>\n",
              "      <td>0</td>\n",
              "      <td>0.085</td>\n",
              "      <td>0</td>\n",
              "      <td>88</td>\n",
              "      <td>0.2</td>\n",
              "      <td>0.0</td>\n",
              "      <td>0.0</td>\n",
              "    </tr>\n",
              "    <tr>\n",
              "      <th>2011-01-01 04:00:00</th>\n",
              "      <td>2011</td>\n",
              "      <td>1</td>\n",
              "      <td>1</td>\n",
              "      <td>5</td>\n",
              "      <td>0</td>\n",
              "      <td>-5.2</td>\n",
              "      <td>-6.7</td>\n",
              "      <td>88</td>\n",
              "      <td>101880</td>\n",
              "      <td>0</td>\n",
              "      <td>0</td>\n",
              "      <td>224</td>\n",
              "      <td>0</td>\n",
              "      <td>0</td>\n",
              "      <td>0</td>\n",
              "      <td>0</td>\n",
              "      <td>0</td>\n",
              "      <td>0</td>\n",
              "      <td>0</td>\n",
              "      <td>0</td>\n",
              "      <td>0.0</td>\n",
              "      <td>0</td>\n",
              "      <td>0</td>\n",
              "      <td>48.3</td>\n",
              "      <td>77770</td>\n",
              "      <td>0</td>\n",
              "      <td>999999990</td>\n",
              "      <td>0</td>\n",
              "      <td>0.085</td>\n",
              "      <td>0</td>\n",
              "      <td>88</td>\n",
              "      <td>0.2</td>\n",
              "      <td>0.0</td>\n",
              "      <td>0.0</td>\n",
              "    </tr>\n",
              "  </tbody>\n",
              "</table>\n",
              "</div>"
            ],
            "text/plain": [
              "                     year  month  ...  liq_precip_depth_mm  liq_precip_rate_Hour\n",
              "2011-01-01 00:00:00  2011      1  ...                  0.0                   0.0\n",
              "2011-01-01 01:00:00  2011      1  ...                  0.0                   0.0\n",
              "2011-01-01 02:00:00  2011      1  ...                  0.0                   0.0\n",
              "2011-01-01 03:00:00  2011      1  ...                  0.0                   0.0\n",
              "2011-01-01 04:00:00  2011      1  ...                  0.0                   0.0\n",
              "\n",
              "[5 rows x 34 columns]"
            ]
          },
          "metadata": {
            "tags": []
          },
          "execution_count": 533
        }
      ]
    },
    {
      "cell_type": "markdown",
      "metadata": {
        "id": "mr0k0WEj2fIN"
      },
      "source": [
        "## Utilities"
      ]
    },
    {
      "cell_type": "code",
      "metadata": {
        "id": "zEOxi1jl2f_B"
      },
      "source": [
        "# the following are recreation of PVLIB \r\n",
        "# https://pvlib-python.readthedocs.io/en/stable/_modules/pvlib/solarposition.html\r\n",
        "# or from ASU Solar Power Labs https://www.pveducation.org/pvcdrom/properties-of-sunlight/solar-time \r\n",
        "def simple_day_angle(dayofyear,offset=1):\r\n",
        "  return ((2*np.pi)/365)*(dayofyear-offset)\r\n",
        "\r\n",
        "def bday(dayangle):\r\n",
        "  return dayangle - ((2*np.pi)/365) * 80\r\n",
        "\r\n",
        "def equation_of_time(bday):\r\n",
        "  return 9.87*np.sin(2*dbay)-7.53*np.cos(bday)-1.5*np.sin(bday)\r\n",
        "\r\n",
        "def local_time_meridian(utc_offset):\r\n",
        "  # requires the utc offset for local time zone\r\n",
        "  # https://en.wikipedia.org/wiki/List_of_UTC_time_offsets\r\n",
        "  return 15*utc_offset\r\n",
        "\r\n",
        "def time_correction(longitude, local_time_meridian, equation_of_time):\r\n",
        "  return 4 * (longitude - local_time_meridian) + equation_of_time\r\n",
        "\r\n",
        "def local_solar_time(local_time, time_correction):\r\n",
        "  return local_time + (time_correction / 60)\r\n"
      ],
      "execution_count": 149,
      "outputs": []
    },
    {
      "cell_type": "markdown",
      "metadata": {
        "id": "Bzr4OLlGmp0X"
      },
      "source": [
        "## Dry Bulb Temperature (dbt)"
      ]
    },
    {
      "cell_type": "code",
      "metadata": {
        "id": "V2L6prVtmzFe"
      },
      "source": [
        "\r\n",
        "\r\n",
        "fut_tas = pd.Series([-5,3,5,9,13,15,17,19,24,15,11,-1])\r\n",
        "fut_tmax = pd.Series([3,13,15,19,22,25,27,29,33,25,19,10])\r\n",
        "fut_tmin = pd.Series([-6,1,3,6,9,10,11,10,18,13,8,-4])\r\n",
        "hist_tas = pd.Series([-7,0,2,6,10,12,15,18,21,14,6,-3])\r\n",
        "hist_tmax = pd.Series([2,11,10,14,20,22,25,27,26,18,13,5])\r\n",
        "hist_tmin = pd.Series([-12,-5,-3,0,1,5,6,10,12,11,0,-10])\r\n",
        "\r\n",
        "\r\n",
        "def means(series):\r\n",
        "  max = series.resample('D').max().resample('M').mean().reset_index(drop=True)\r\n",
        "  min = series.resample('D').min().resample('M').mean().reset_index(drop=True)\r\n",
        "  mean = series.resample('D').mean().resample('M').mean().reset_index(drop=True)\r\n",
        "  return max, min, mean\r\n",
        "\r\n",
        "def change(fut_tas,hist_tas,fut_tmax,hist_tmax,fut_tmin,hist_tmin):\r\n",
        "  tas = fut_tas-hist_tas\r\n",
        "  tmax = fut_tmax-hist_tmax\r\n",
        "  tmin = fut_tmin-hist_tmin\r\n",
        "  return tas, tmax, tmin\r\n",
        "\r\n",
        "def morph_dbt(df, fut_tas,hist_tas,fut_tmax,hist_tmax,fut_tmin,hist_tmin):\r\n",
        "  months = list(range(1, 12 + 1, 1))\r\n",
        "  dbt_max_mean, dbt_min_mean, dbt_mean = means(df['drybulb_C'])\r\n",
        "  tas_change, tmax_change, tmin_change = change(fut_tas, hist_tas,\r\n",
        "                                                fut_tmax, hist_tmax,\r\n",
        "                                                fut_tmin, hist_tmin)\r\n",
        "  tas_change = dict(zip(months, tas_change)) \r\n",
        "  dbt_scale = dict(zip(months, (tmax_change - tmin_change) / (dbt_max_mean - dbt_min_mean)))\r\n",
        "  dbt_mean = dict(zip(months, dbt_mean))\r\n",
        "  return df.apply(lambda x: x['drybulb_C'] + tas_change[x['month']] + dbt_scale[x['month']] * (x['drybulb_C'] - dbt_mean[x['month']]),axis=1).rename(\"drybulb_C\")\r\n",
        "\r\n",
        "new_dbt = morph_dbt(df, fut_tas,hist_tas,fut_tmax,hist_tmax,fut_tmin,hist_tmin)\r\n"
      ],
      "execution_count": 150,
      "outputs": []
    },
    {
      "cell_type": "markdown",
      "metadata": {
        "id": "dlWMtesNjRRw"
      },
      "source": [
        "## Relative Humidity (relhum)"
      ]
    },
    {
      "cell_type": "code",
      "metadata": {
        "id": "S36kWTnJjSde"
      },
      "source": [
        "fut_rh = pd.Series([35,45,55,55,78,77,95,65,70,60,80,70])\r\n",
        "hist_rh = pd.Series([40,60,54,50,76,70,88,61,72,64,85,75])\r\n",
        "\r\n",
        "def morph_relhum(df, fut_relhum, hist_relhum):\r\n",
        "    # requires fut_ and hist_ inputs to be monthly climatologies\r\n",
        "    months = list(range(1,12+1,1))\r\n",
        "    relhum_change = dict(zip(months, fut_relhum - hist_relhum))\r\n",
        "    return df.apply(lambda x: x['relhum_percent'] + relhum_change[x['month']],axis=1).rename(\"relhum_percent\")\r\n",
        "\r\n",
        "new_rh = np.clip(morph_relhum(df, fut_rh, hist_rh),0,100).astype(int)"
      ],
      "execution_count": 151,
      "outputs": []
    },
    {
      "cell_type": "markdown",
      "metadata": {
        "id": "aXOV0YhXZF3Q"
      },
      "source": [
        "## Pressure (pr)"
      ]
    },
    {
      "cell_type": "code",
      "metadata": {
        "id": "W3pjGO3IZGp8"
      },
      "source": [
        "fut_pr = pd.Series([101860,101865,101880,101880,102160,102230,101890,101950,102110,101890,101980,102380])\r\n",
        "hist_pr = pd.Series([101890,101855,101870,101830,102100,101880,101880,101890,102160,101880,101865,102180])\r\n",
        "\r\n",
        "def morph_pr(df, fut_pr, hist_pr):\r\n",
        "    # requires fut_ and hist_ inputs to be monthly climatologies\r\n",
        "    months = list(range(1,12+1,1))\r\n",
        "    pr_change = dict(zip(months, fut_pr - hist_pr))\r\n",
        "    return df.apply(lambda x: x['atmos_Pa'] + pr_change[x['month']],axis=1).rename(\"atmos_Pa\")\r\n",
        "\r\n",
        "new_pr = morph_pr(df, fut_pr, hist_pr)"
      ],
      "execution_count": 152,
      "outputs": []
    },
    {
      "cell_type": "markdown",
      "metadata": {
        "id": "UpHOC7_yic4J"
      },
      "source": [
        "## Dew Point (dewpt)"
      ]
    },
    {
      "cell_type": "code",
      "metadata": {
        "id": "Wd8KKR-Zid_Y"
      },
      "source": [
        "# def calc_sat_pr(pressure, dbt, rel_hum):\r\n",
        "#     # pressure units in in Pa\r\n",
        "#     # pressure units out in Pa\r\n",
        "#     # temp units in C\r\n",
        "#     mixing = mpcalc.mixing_ratio_from_relative_humidity(pressure*units.Pa,\r\n",
        "#                                                         dbt*units.degC,\r\n",
        "#                                                         rel_hum*units.percent)\r\n",
        "#     return mpcalc.vapor_pressure(pressure*units.Pa, mixing)\r\n",
        "\r\n",
        "# def calc_partial_water_pr(pressure, dbt, rel_hum):\r\n",
        "#     # pressure units in in Pa\r\n",
        "#     # pressure units out in kPa\r\n",
        "#     # temp units in C\r\n",
        "#     # rel hum in %\r\n",
        "#     return (rel_hum * calc_sat_pr(pressure, dbt, rel_hum)) / 1000\r\n",
        "\r\n",
        "# def morph_dewpt(epw_dewpt, epw_pressure, epw_dbt, epw_rh):\r\n",
        "#     pw = calc_partial_water_pr(epw_pressure, epw_dbt, epw_rh)\r\n",
        "#     if epw_dewpt>=0:\r\n",
        "#         epw_dewpt_fut = 6.54 + 14.526 + np.log(pw) + 0.7389 * np.log(pw)**2 + 0.09486 * np.log(pw)**3 + 0.4569 * pw**0.1984\r\n",
        "#     else:\r\n",
        "#         epw_dewpt_fut = 6.09 + 12.608 * np.log(pw) + 0.4959 * np.log(pw)**2\r\n",
        "#     return epw_dewpt_fut\r\n",
        "\r\n",
        "# TODO THe above can be used to more accuratley account for colder temperatures in dew point calc\r\n",
        "\r\n",
        "def morph_dewpt(fut_dbt,fut_rh):\r\n",
        "  df = pd.concat([fut_dbt,fut_rh],axis=1)\r\n",
        "  return round(df.apply(lambda x: calcdewpt(x[0], x[1]),axis=1).astype(float),1)\r\n",
        "\r\n",
        "new_dewpt = morph_dewpt(new_dbt,new_rh)"
      ],
      "execution_count": 153,
      "outputs": []
    },
    {
      "cell_type": "markdown",
      "metadata": {
        "id": "jvOJeWS4AWed"
      },
      "source": [
        "### Working On Dewpoint V2"
      ]
    },
    {
      "cell_type": "code",
      "metadata": {
        "id": "ghJoN51d-cxN"
      },
      "source": [
        "df_new = pd.concat([new_dbt,new_rh,new_pr,new_dewpt],axis=1)"
      ],
      "execution_count": 541,
      "outputs": []
    },
    {
      "cell_type": "code",
      "metadata": {
        "id": "rPt8O0fs-4uz"
      },
      "source": [
        "df_old = df[['drybulb_C','atmos_Pa','relhum_percent','dewpoint_C']].copy()\r\n",
        "# df_old['dewpt2'] = df_old.apply(lambda x: calcdewpt(x['drybulb_C'], x['relhum_percent']),axis=1)\r\n",
        "old_dbt = df_old['drybulb_C']\r\n",
        "old_rh = df_old['relhum_percent']\r\n",
        "df_old['dpt2'] = round(morph_dewpt(old_dbt,old_rh).astype(float),1)\r\n"
      ],
      "execution_count": null,
      "outputs": []
    },
    {
      "cell_type": "code",
      "metadata": {
        "id": "dxHhb8dUm_nG"
      },
      "source": [
        "def calcdew_above(pw):\r\n",
        "  return 6.54 + 14.526 + np.log(pw) + 0.7389 * np.log(pw)**2 + 0.09486 * np.log(pw)**3 + 0.4569 * pw**0.1984\r\n",
        "\r\n",
        "def calcdew_sub(pw):\r\n",
        "  return 6.09 + 12.608 * np.log(pw) + 0.4959 * np.log(pw)**2"
      ],
      "execution_count": 107,
      "outputs": []
    },
    {
      "cell_type": "code",
      "metadata": {
        "id": "ReWsUeMRbOcg"
      },
      "source": [
        "# calc_partial_water_pr(df_new['atmos_Pa'][2], df_new['drybulb_C'][2], df_new['relhum_percent'][2])\r\n",
        "df_new['dewpt'] = df_new.apply(lambda x: calcdewpt(x['drybulb_C'], x['relhum_percent']),axis=1)\r\n",
        "df_new['vapor'] = df_new.apply(lambda x: calc_sat_pr(x['atmos_Pa'], x['drybulb_C'], x['relhum_percent']),axis=1)\r\n",
        "df_new['partial'] = df_new.apply(lambda x: calc_partial_water_pr(x['atmos_Pa'], x['drybulb_C'], x['relhum_percent']),axis=1)"
      ],
      "execution_count": 101,
      "outputs": []
    },
    {
      "cell_type": "code",
      "metadata": {
        "id": "Og0sC8l7l2uH"
      },
      "source": [
        "df_new['old_dp'] = df['dewpoint_C']\r\n"
      ],
      "execution_count": null,
      "outputs": []
    },
    {
      "cell_type": "code",
      "metadata": {
        "id": "UsctpUSamT2S"
      },
      "source": [
        "df_new['dewpoint_met'] = np.where(df_new['old_dp']>=0,\r\n",
        "                                  df_new['partial'].apply(lambda x: calcdew_above(x.magnitude)),\r\n",
        "                                  df_new['partial'].apply(lambda x: calcdew_sub(x.magnitude)))\r\n",
        "df_new.iloc[3000:3024]"
      ],
      "execution_count": null,
      "outputs": []
    },
    {
      "cell_type": "code",
      "metadata": {
        "id": "L8qDGKuPiCaD"
      },
      "source": [
        "df_old = df[['drybulb_C','atmos_Pa','relhum_percent','dewpoint_C']].copy()\r\n",
        "df_old['dewpt2'] = df_old.apply(lambda x: calcdewpt(x['drybulb_C'], x['relhum_percent']),axis=1)\r\n",
        "# df_old['vapor'] = df_old.apply(lambda x: calc_sat_pr(x['atmos_Pa'], x['drybulb_C'], x['relhum_percent']),axis=1)\r\n",
        "# df_old['partial'] = (df_old['vapor']*(df_old['relhum_percent']/100))\r\n",
        "\r\n",
        "# df_old['dewpoint_met'] = np.where(df_old['dewpoint_C']>=0,\r\n",
        "#                                   df_old['partial'].apply(lambda x: calcdew_above(x.magnitude)),\r\n",
        "#                                   df_old['partial'].apply(lambda x: calcdew_sub(x.magnitude)))\r\n"
      ],
      "execution_count": null,
      "outputs": []
    },
    {
      "cell_type": "markdown",
      "metadata": {
        "id": "QOMyc0hnAbLp"
      },
      "source": [
        "## Global Horizontal Radiation (glhor)"
      ]
    },
    {
      "cell_type": "code",
      "metadata": {
        "id": "aTW_kxpFBrRH"
      },
      "source": [
        "fut_glhor = pd.Series([33,64,111,190,220,280,230,210,140,85,38,24]) #watt per m2\r\n",
        "hist_glhor = pd.Series([36,67,109,184,208,244,243,218,146,87,39,26]) #watt per m2\r\n",
        "\r\n",
        "def morph_glohr(df, hist_glhor, fut_glhor):\r\n",
        "  df['single'] = 1\r\n",
        "  months = list(range(1,12+1,1))\r\n",
        "\r\n",
        "  month_hours = dict(zip(months, df['single'].resample('M').sum().tolist())) #hours\r\n",
        "  month_glhor = dict(zip(months, df['glohorrad_Whm2'].resample('M').sum().tolist())) #watt-hours per m2 \r\n",
        "  month_glhor_mean_list = []\r\n",
        "  for key in month_hours:\r\n",
        "    mean = (month_glhor[key])/month_hours[key]\r\n",
        "    month_glhor_mean_list.append(mean)\r\n",
        "  month_glhor_mean_list = dict(zip(months, month_glhor_mean_list)) #watt per m2 \r\n",
        "\r\n",
        "  glhor_change = dict(zip(months, fut_glhor - hist_glhor))\r\n",
        "  glhor_scale_list = []\r\n",
        "  for key in month_glhor_mean_list:\r\n",
        "    glhor_scale = 1 + (glhor_change[key]/month_glhor_mean_list[key])\r\n",
        "    glhor_scale_list.append(glhor_scale)\r\n",
        "  glhor_scale_list = dict(zip(months, glhor_scale_list))\r\n",
        "\r\n",
        "  return df.apply(lambda x: x['glohorrad_Whm2'] * glhor_scale_list[x['month']],axis=1).rename(\"glohorrad_Whm2\")\r\n",
        "\r\n",
        "new_glohr = morph_glohr(df, hist_glhor, fut_glhor)"
      ],
      "execution_count": 154,
      "outputs": []
    },
    {
      "cell_type": "markdown",
      "metadata": {
        "id": "zLweIDi7DNaS"
      },
      "source": [
        "## Diffuse Horizontal Radiation (dfhor)"
      ]
    },
    {
      "cell_type": "code",
      "metadata": {
        "id": "5zKzfZjODQ8l"
      },
      "source": [
        "hours = list(range(1,8760+1,1))\r\n",
        "days = list(range(1,365+1,1))\r\n",
        "months = list(range(1,12+1,1))\r\n",
        "\r\n",
        "clearness = pd.Series(new_glohr / df['exthorrad_Whm2']).rename(\"clearness\").fillna(0)\r\n",
        "clearness_daily = clearness.resample('D').sum()\r\n",
        "\r\n",
        "clearness_list = dict(zip(hours, clearness.tolist()))\r\n",
        "clearness_day_list = dict(zip(days,clearness_daily.tolist()))"
      ],
      "execution_count": 177,
      "outputs": []
    },
    {
      "cell_type": "code",
      "metadata": {
        "id": "Z_d0LQTEsVE6"
      },
      "source": [
        "#define sunrise sunset\r\n",
        "latitude = 49.264703\r\n",
        "longitude = -123.148943\r\n",
        "\r\n",
        "ts = api.load.timescale()\r\n",
        "eph = api.load('de421.bsp')\r\n",
        "\r\n",
        "location = api.Topos(latitude, longitude)\r\n",
        "\r\n",
        "t0 = ts.utc(2011-1, 12, 31, 0)\r\n",
        "t1 = ts.utc(2011+1, 1, 2, 0)\r\n",
        "\r\n",
        "t, y = almanac.find_discrete(t0, t1, almanac.sunrise_sunset(eph, location))\r\n",
        "og = df.copy()\r\n",
        "times = pd.Series(t.utc_datetime()).rename('datetimes')\r\n",
        "times = times + timedelta(hours=-8, minutes=0)\r\n",
        "keys = pd.Series(y).rename('Rise_Set')\r\n",
        "keys = pd.Series(np.where(keys==0,'Sunset','Sunrise')).rename('Rise_Set')\r\n",
        "join = pd.concat([times,keys],axis=1)\r\n",
        "join.set_index(join['datetimes'], inplace=True)\r\n",
        "join['year'] = join['datetimes'].dt.year\r\n",
        "join['month'] = join['datetimes'].dt.month\r\n",
        "join['day'] = join['datetimes'].dt.day\r\n",
        "join['hour'] = join['datetimes'].dt.hour\r\n",
        "join['minute'] = 0\r\n",
        "join = join[join['year']==2011]\r\n",
        "join['Timestamp'] = join.apply(lambda row: dt.datetime(row.year, row.month, row.day, row.hour),axis=1)\r\n",
        "join.set_index('Timestamp', inplace=True)\r\n",
        "\r\n",
        "join_sub = pd.DataFrame(join['Rise_Set'])\r\n",
        "join_sub['dtime']=join.index\r\n",
        "og['dtime']=og.index\r\n",
        "og = og.merge(join_sub,how='left', left_on='dtime', right_on='dtime')\r\n",
        "og['Rise_Set'] = og['Rise_Set'].fillna('Neither')\r\n",
        "og.set_index(og['dtime'], inplace=True)\r\n",
        "rise_set = og['Rise_Set']"
      ],
      "execution_count": 566,
      "outputs": []
    },
    {
      "cell_type": "code",
      "metadata": {
        "colab": {
          "base_uri": "https://localhost:8080/"
        },
        "id": "5iSu1sc3vesr",
        "outputId": "0760b3c9-4b21-47a8-8768-6c6c0ae4721b"
      },
      "source": [
        "rise_set"
      ],
      "execution_count": 567,
      "outputs": [
        {
          "output_type": "execute_result",
          "data": {
            "text/plain": [
              "dtime\n",
              "2011-01-01 00:00:00    Neither\n",
              "2011-01-01 01:00:00    Neither\n",
              "2011-01-01 02:00:00    Neither\n",
              "2011-01-01 03:00:00    Neither\n",
              "2011-01-01 04:00:00    Neither\n",
              "                        ...   \n",
              "2011-12-31 19:00:00    Neither\n",
              "2011-12-31 20:00:00    Neither\n",
              "2011-12-31 21:00:00    Neither\n",
              "2011-12-31 22:00:00    Neither\n",
              "2011-12-31 23:00:00    Neither\n",
              "Name: Rise_Set, Length: 8760, dtype: object"
            ]
          },
          "metadata": {
            "tags": []
          },
          "execution_count": 567
        }
      ]
    },
    {
      "cell_type": "markdown",
      "metadata": {
        "id": "-sLeyiJJsV3K"
      },
      "source": [
        "## Failed Sunrise\r\n",
        "the following was a failed and innefficient way to define sunrise/sunset"
      ]
    },
    {
      "cell_type": "code",
      "metadata": {
        "colab": {
          "base_uri": "https://localhost:8080/"
        },
        "id": "a-MPMFFFAzF3",
        "outputId": "dc1461b9-23e6-42d6-ddf7-d0bf087df7c9"
      },
      "source": [
        "\r\n",
        "ts = api.load.timescale()\r\n",
        "eph = api.load('de421.bsp')"
      ],
      "execution_count": 204,
      "outputs": [
        {
          "output_type": "stream",
          "text": [
            "[#################################] 100% de421.bsp\n"
          ],
          "name": "stderr"
        }
      ]
    },
    {
      "cell_type": "code",
      "metadata": {
        "colab": {
          "base_uri": "https://localhost:8080/"
        },
        "id": "Uz_QAMWGAxuO",
        "outputId": "9b7505b4-922e-4b1b-9f67-a7aa2e122d2f"
      },
      "source": [
        "latitude = 49.264703\r\n",
        "longitude = -123.148943\r\n",
        "\r\n",
        "def change_coords(lat,lon):\r\n",
        "  if lat >= 0:\r\n",
        "    lat_dir = 'N'\r\n",
        "  else:\r\n",
        "    lat_dir = 'S'\r\n",
        "  if lon >= 0:\r\n",
        "    lon_dir = 'E'\r\n",
        "  else:\r\n",
        "    lon_dir = 'W'\r\n",
        "\r\n",
        "location = api.Topos(latitude, longitude)\r\n",
        "location"
      ],
      "execution_count": 203,
      "outputs": [
        {
          "output_type": "execute_result",
          "data": {
            "text/plain": [
              "<Topos Earth latitude 49deg 15' 52.9\" N longitude -123deg 08' 56.2\" E>"
            ]
          },
          "metadata": {
            "tags": []
          },
          "execution_count": 203
        }
      ]
    },
    {
      "cell_type": "code",
      "metadata": {
        "colab": {
          "base_uri": "https://localhost:8080/"
        },
        "id": "i441IEZfI7vi",
        "outputId": "5d673e50-42fe-46ce-95db-942f6a44ad0b"
      },
      "source": [
        "t0 = ts.utc(2021, 1, 1, 0)\r\n",
        "t1 = ts.utc(2021, 1, 1, 23)\r\n",
        "\r\n",
        "f = almanac.dark_twilight_day(eph, location)\r\n",
        "t, y = almanac.find_discrete(t0, t1, f)\r\n",
        "\r\n",
        "# print(t.utc_iso()[4], y[4]) #start of day\r\n",
        "\r\n",
        "# print(t.utc_iso()[0], y[0]) #start of night\r\n",
        "\r\n",
        "# t.utc_datetime()[4] + timedelta(hours=-8, minutes=0)\r\n",
        "# t.utc_datetime()[0] + timedelta(hours=-8, minutes=0)\r\n",
        "for ti, yi in zip(t, y):\r\n",
        "    print(yi, '<>', ti.utc_iso(), '<>', almanac.TWILIGHTS[yi])"
      ],
      "execution_count": 334,
      "outputs": [
        {
          "output_type": "stream",
          "text": [
            "3 <> 2021-01-01T00:24:15Z <> Civil twilight\n",
            "2 <> 2021-01-01T01:01:41Z <> Nautical twilight\n",
            "1 <> 2021-01-01T01:42:20Z <> Astronomical twilight\n",
            "0 <> 2021-01-01T02:21:03Z <> Night\n",
            "1 <> 2021-01-01T14:11:09Z <> Astronomical twilight\n",
            "2 <> 2021-01-01T14:49:50Z <> Nautical twilight\n",
            "3 <> 2021-01-01T15:30:26Z <> Civil twilight\n",
            "4 <> 2021-01-01T16:07:48Z <> Day\n"
          ],
          "name": "stdout"
        }
      ]
    },
    {
      "cell_type": "code",
      "metadata": {
        "id": "_XKS6hdgTA8r"
      },
      "source": [
        "for i in list(range(1,23+1,1)):\r\n",
        "  print(i)\r\n",
        "  t0 = ts.utc(2021, 1, 1, i)\r\n",
        "  t1 = ts.utc(2021, 1, 1, i+1)\r\n",
        "\r\n",
        "  f = almanac.dark_twilight_day(eph, location)\r\n",
        "  t, y = almanac.find_discrete(t0, t1, f)\r\n",
        "  \r\n",
        "  if y.size == 0:\r\n",
        "    print('No')\r\n",
        "    pass\r\n",
        "  else:\r\n",
        "    if almanac.TWILIGHTS[y[0]]=='Day':\r\n",
        "      print('Yes')\r\n",
        "      rise = t.utc_datetime()[0] + timedelta(hours=-8, minutes=0)\r\n",
        "      print('Sunrise is at {HOUR}:{MIN}'.format(HOUR=rise.hour,MIN=rise.minute))\r\n",
        "    else:\r\n",
        "      print('No')\r\n",
        "\r\n"
      ],
      "execution_count": null,
      "outputs": []
    },
    {
      "cell_type": "code",
      "metadata": {
        "id": "ei_76sPjUkJn"
      },
      "source": [
        "for i in list(range(1,23+1,1)):\r\n",
        "  print(i)\r\n",
        "  t0 = ts.utc(2021, 1, 1, i)\r\n",
        "  t1 = ts.utc(2021, 1, 1, i+1)\r\n",
        "\r\n",
        "  f = almanac.dark_twilight_day(eph, location)\r\n",
        "  t, y = almanac.find_discrete(t0, t1, f)\r\n",
        "  \r\n",
        "  if y.size == 0:\r\n",
        "    print('No')\r\n",
        "    pass\r\n",
        "  else:\r\n",
        "    if almanac.TWILIGHTS[y[0]]=='Night':\r\n",
        "      print('Yes')\r\n",
        "      sunset = t.utc_datetime()[0] + timedelta(hours=-8, minutes=0)\r\n",
        "      print('Sunset is at {HOUR}:{MIN}'.format(HOUR=sunset.hour,MIN=sunset.minute))\r\n",
        "    else:\r\n",
        "      print('No')"
      ],
      "execution_count": null,
      "outputs": []
    },
    {
      "cell_type": "code",
      "metadata": {
        "id": "m-inN7PpQeHH"
      },
      "source": [
        "# this was super innefficient \r\n",
        "\r\n",
        "def (year, month, day, hour):\r\n",
        "  t0 = ts.utc(year, month, day, hour)\r\n",
        "  t1 = ts.utc(year, month, day, hour+1)\r\n",
        "\r\n",
        "  f = almanac.dark_twilight_day(eph, location)\r\n",
        "  t, y = almanac.find_discrete(t0, t1, f)\r\n",
        "  \r\n",
        "  if y.size == 0:\r\n",
        "    return 'FALSE'\r\n",
        "  elif almanac.TWILIGHTS[y[0]]=='Day':\r\n",
        "    return 'TRUE'\r\n",
        "  else:\r\n",
        "    return 'FALSE'\r\n",
        "\r\n",
        "idx = df.index + timedelta(hours=-8, minutes=0)\r\n",
        "solar_df = pd.DataFrame()\r\n",
        "solar_df['datetimes'] = idx\r\n",
        "solar_df = solar_df.set_index(solar_df['datetimes'])\r\n",
        "solar_df['year'] = solar_df['datetimes'].dt.year\r\n",
        "solar_df['month'] = solar_df['datetimes'].dt.month\r\n",
        "solar_df['day'] = solar_df['datetimes'].dt.day\r\n",
        "solar_df['hour'] = solar_df['datetimes'].dt.hour\r\n",
        "solar_df['minute'] = solar_df['datetimes'].dt.minute\r\n",
        "solar_df['sunrise'] = solar_df.apply(lambda x: check_sunrise(x['year'],x['month'],x['day'],x['hour']),axis=1)"
      ],
      "execution_count": null,
      "outputs": []
    },
    {
      "cell_type": "code",
      "metadata": {
        "colab": {
          "base_uri": "https://localhost:8080/"
        },
        "id": "BzYFu7tjO3rm",
        "outputId": "71b8840c-79ae-4a1a-f8ac-c0225ed09abf"
      },
      "source": [
        "t.utc_datetime()[0].hour + 1\r\n",
        "\r\n",
        "def check_sunset(year,month,day,hour):\r\n",
        "  t0 = ts.utc(year, month, day, hour)\r\n",
        "  t1 = ts.utc(year, month, day, hour+1)\r\n",
        "\r\n",
        "  f = almanac.dark_twilight_day(eph, location)\r\n",
        "  t, y = almanac.find_discrete(t0, t1, f)"
      ],
      "execution_count": 272,
      "outputs": [
        {
          "output_type": "execute_result",
          "data": {
            "text/plain": [
              "1"
            ]
          },
          "metadata": {
            "tags": []
          },
          "execution_count": 272
        }
      ]
    },
    {
      "cell_type": "markdown",
      "metadata": {
        "id": "8yGBh6M_CP-x"
      },
      "source": [
        "## Direct Normal Radiation (dnor)"
      ]
    },
    {
      "cell_type": "code",
      "metadata": {
        "id": "NRChI50eDEvg"
      },
      "source": [
        ""
      ],
      "execution_count": null,
      "outputs": []
    }
  ]
}