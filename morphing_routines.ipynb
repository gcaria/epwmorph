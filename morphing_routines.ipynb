{
  "nbformat": 4,
  "nbformat_minor": 0,
  "metadata": {
    "colab": {
      "name": "morphing routines.ipynb",
      "provenance": [],
      "authorship_tag": "ABX9TyPlkaErKl+VcblmpH74edOI",
      "include_colab_link": true
    },
    "kernelspec": {
      "name": "python3",
      "display_name": "Python 3"
    }
  },
  "cells": [
    {
      "cell_type": "markdown",
      "metadata": {
        "id": "view-in-github",
        "colab_type": "text"
      },
      "source": [
        "<a href=\"https://colab.research.google.com/github/justinfmccarty/epwmorph/blob/main/morphing_routines.ipynb\" target=\"_parent\"><img src=\"https://colab.research.google.com/assets/colab-badge.svg\" alt=\"Open In Colab\"/></a>"
      ]
    },
    {
      "cell_type": "code",
      "metadata": {
        "id": "vGQFSSvZiYKn"
      },
      "source": [
        "!pip install metpy"
      ],
      "execution_count": null,
      "outputs": []
    },
    {
      "cell_type": "code",
      "metadata": {
        "id": "o85pRyq8VxJI"
      },
      "source": [
        "import pandas as pd\r\n",
        "import metpy.calc as mpcalc\r\n",
        "from metpy.units import units\r\n",
        "import numpy as np\r\n",
        "import datetime as dt"
      ],
      "execution_count": 3,
      "outputs": []
    },
    {
      "cell_type": "code",
      "metadata": {
        "id": "8sGoqCpHVfFz"
      },
      "source": [
        "def epw_to_dataframe(weather_path):\r\n",
        "    epw_labels = ['year', 'month', 'day', 'hour', 'minute', 'datasource', 'drybulb_C', 'dewpoint_C', 'relhum_percent',\r\n",
        "                  'atmos_Pa', 'exthorrad_Whm2', 'extdirrad_Whm2', 'horirsky_Whm2', 'glohorrad_Whm2',\r\n",
        "                  'dirnorrad_Whm2', 'difhorrad_Whm2', 'glohorillum_lux', 'dirnorillum_lux', 'difhorillum_lux',\r\n",
        "                  'zenlum_lux', 'winddir_deg', 'windspd_ms', 'totskycvr_tenths', 'opaqskycvr_tenths', 'visibility_km',\r\n",
        "                  'ceiling_hgt_m', 'presweathobs', 'presweathcodes', 'precip_wtr_mm', 'aerosol_opt_thousandths',\r\n",
        "                  'snowdepth_cm', 'days_last_snow', 'Albedo', 'liq_precip_depth_mm', 'liq_precip_rate_Hour']\r\n",
        "\r\n",
        "    df = pd.DataFrame(pd.read_csv(weather_path, skiprows=8, header=None, names=epw_labels).drop('datasource', axis=1))\r\n",
        "    return df\r\n",
        "\r\n"
      ],
      "execution_count": 4,
      "outputs": []
    },
    {
      "cell_type": "code",
      "metadata": {
        "colab": {
          "base_uri": "https://localhost:8080/",
          "height": 313
        },
        "id": "dYy-eLcYVkon",
        "outputId": "d0c21c4b-bef7-42d8-fab7-34ca65c1437d"
      },
      "source": [
        "df = epw_to_dataframe('/content/CAN_BC_Vancouver.Intl.AP.718920_CWEC2016.epw')\r\n",
        "# returns datetime objects\r\n",
        "df.index = pd.to_datetime(df.apply(lambda row: dt.datetime(2016, \r\n",
        "                                                           int(row.month), \r\n",
        "                                                           int(row.day), \r\n",
        "                                                           int(row.hour)-1,\r\n",
        "                                                           int(row.minute)), axis=1))\r\n",
        "df.head()"
      ],
      "execution_count": 5,
      "outputs": [
        {
          "output_type": "execute_result",
          "data": {
            "text/html": [
              "<div>\n",
              "<style scoped>\n",
              "    .dataframe tbody tr th:only-of-type {\n",
              "        vertical-align: middle;\n",
              "    }\n",
              "\n",
              "    .dataframe tbody tr th {\n",
              "        vertical-align: top;\n",
              "    }\n",
              "\n",
              "    .dataframe thead th {\n",
              "        text-align: right;\n",
              "    }\n",
              "</style>\n",
              "<table border=\"1\" class=\"dataframe\">\n",
              "  <thead>\n",
              "    <tr style=\"text-align: right;\">\n",
              "      <th></th>\n",
              "      <th>year</th>\n",
              "      <th>month</th>\n",
              "      <th>day</th>\n",
              "      <th>hour</th>\n",
              "      <th>minute</th>\n",
              "      <th>drybulb_C</th>\n",
              "      <th>dewpoint_C</th>\n",
              "      <th>relhum_percent</th>\n",
              "      <th>atmos_Pa</th>\n",
              "      <th>exthorrad_Whm2</th>\n",
              "      <th>extdirrad_Whm2</th>\n",
              "      <th>horirsky_Whm2</th>\n",
              "      <th>glohorrad_Whm2</th>\n",
              "      <th>dirnorrad_Whm2</th>\n",
              "      <th>difhorrad_Whm2</th>\n",
              "      <th>glohorillum_lux</th>\n",
              "      <th>dirnorillum_lux</th>\n",
              "      <th>difhorillum_lux</th>\n",
              "      <th>zenlum_lux</th>\n",
              "      <th>winddir_deg</th>\n",
              "      <th>windspd_ms</th>\n",
              "      <th>totskycvr_tenths</th>\n",
              "      <th>opaqskycvr_tenths</th>\n",
              "      <th>visibility_km</th>\n",
              "      <th>ceiling_hgt_m</th>\n",
              "      <th>presweathobs</th>\n",
              "      <th>presweathcodes</th>\n",
              "      <th>precip_wtr_mm</th>\n",
              "      <th>aerosol_opt_thousandths</th>\n",
              "      <th>snowdepth_cm</th>\n",
              "      <th>days_last_snow</th>\n",
              "      <th>Albedo</th>\n",
              "      <th>liq_precip_depth_mm</th>\n",
              "      <th>liq_precip_rate_Hour</th>\n",
              "    </tr>\n",
              "  </thead>\n",
              "  <tbody>\n",
              "    <tr>\n",
              "      <th>2016-01-01 00:00:00</th>\n",
              "      <td>2011</td>\n",
              "      <td>1</td>\n",
              "      <td>1</td>\n",
              "      <td>1</td>\n",
              "      <td>0</td>\n",
              "      <td>-1.8</td>\n",
              "      <td>-4.5</td>\n",
              "      <td>80</td>\n",
              "      <td>102160</td>\n",
              "      <td>0</td>\n",
              "      <td>0</td>\n",
              "      <td>238</td>\n",
              "      <td>0</td>\n",
              "      <td>0</td>\n",
              "      <td>0</td>\n",
              "      <td>0</td>\n",
              "      <td>0</td>\n",
              "      <td>0</td>\n",
              "      <td>0</td>\n",
              "      <td>0</td>\n",
              "      <td>0.0</td>\n",
              "      <td>0</td>\n",
              "      <td>0</td>\n",
              "      <td>48.3</td>\n",
              "      <td>77770</td>\n",
              "      <td>0</td>\n",
              "      <td>999999990</td>\n",
              "      <td>0</td>\n",
              "      <td>0.085</td>\n",
              "      <td>0</td>\n",
              "      <td>88</td>\n",
              "      <td>0.2</td>\n",
              "      <td>0.0</td>\n",
              "      <td>0.0</td>\n",
              "    </tr>\n",
              "    <tr>\n",
              "      <th>2016-01-01 01:00:00</th>\n",
              "      <td>2011</td>\n",
              "      <td>1</td>\n",
              "      <td>1</td>\n",
              "      <td>2</td>\n",
              "      <td>0</td>\n",
              "      <td>-3.0</td>\n",
              "      <td>-5.3</td>\n",
              "      <td>82</td>\n",
              "      <td>102010</td>\n",
              "      <td>0</td>\n",
              "      <td>0</td>\n",
              "      <td>233</td>\n",
              "      <td>0</td>\n",
              "      <td>0</td>\n",
              "      <td>0</td>\n",
              "      <td>0</td>\n",
              "      <td>0</td>\n",
              "      <td>0</td>\n",
              "      <td>0</td>\n",
              "      <td>0</td>\n",
              "      <td>0.0</td>\n",
              "      <td>0</td>\n",
              "      <td>0</td>\n",
              "      <td>48.3</td>\n",
              "      <td>77770</td>\n",
              "      <td>0</td>\n",
              "      <td>999999990</td>\n",
              "      <td>0</td>\n",
              "      <td>0.085</td>\n",
              "      <td>0</td>\n",
              "      <td>88</td>\n",
              "      <td>0.2</td>\n",
              "      <td>0.0</td>\n",
              "      <td>0.0</td>\n",
              "    </tr>\n",
              "    <tr>\n",
              "      <th>2016-01-01 02:00:00</th>\n",
              "      <td>2011</td>\n",
              "      <td>1</td>\n",
              "      <td>1</td>\n",
              "      <td>3</td>\n",
              "      <td>0</td>\n",
              "      <td>-4.0</td>\n",
              "      <td>-6.0</td>\n",
              "      <td>84</td>\n",
              "      <td>101920</td>\n",
              "      <td>0</td>\n",
              "      <td>0</td>\n",
              "      <td>229</td>\n",
              "      <td>0</td>\n",
              "      <td>0</td>\n",
              "      <td>0</td>\n",
              "      <td>0</td>\n",
              "      <td>0</td>\n",
              "      <td>0</td>\n",
              "      <td>0</td>\n",
              "      <td>0</td>\n",
              "      <td>0.0</td>\n",
              "      <td>0</td>\n",
              "      <td>0</td>\n",
              "      <td>48.3</td>\n",
              "      <td>77770</td>\n",
              "      <td>0</td>\n",
              "      <td>999999990</td>\n",
              "      <td>0</td>\n",
              "      <td>0.085</td>\n",
              "      <td>0</td>\n",
              "      <td>88</td>\n",
              "      <td>0.2</td>\n",
              "      <td>0.0</td>\n",
              "      <td>0.0</td>\n",
              "    </tr>\n",
              "    <tr>\n",
              "      <th>2016-01-01 03:00:00</th>\n",
              "      <td>2011</td>\n",
              "      <td>1</td>\n",
              "      <td>1</td>\n",
              "      <td>4</td>\n",
              "      <td>0</td>\n",
              "      <td>-4.7</td>\n",
              "      <td>-6.4</td>\n",
              "      <td>86</td>\n",
              "      <td>101880</td>\n",
              "      <td>0</td>\n",
              "      <td>0</td>\n",
              "      <td>226</td>\n",
              "      <td>0</td>\n",
              "      <td>0</td>\n",
              "      <td>0</td>\n",
              "      <td>0</td>\n",
              "      <td>0</td>\n",
              "      <td>0</td>\n",
              "      <td>0</td>\n",
              "      <td>0</td>\n",
              "      <td>0.0</td>\n",
              "      <td>0</td>\n",
              "      <td>0</td>\n",
              "      <td>48.3</td>\n",
              "      <td>77770</td>\n",
              "      <td>0</td>\n",
              "      <td>999999990</td>\n",
              "      <td>0</td>\n",
              "      <td>0.085</td>\n",
              "      <td>0</td>\n",
              "      <td>88</td>\n",
              "      <td>0.2</td>\n",
              "      <td>0.0</td>\n",
              "      <td>0.0</td>\n",
              "    </tr>\n",
              "    <tr>\n",
              "      <th>2016-01-01 04:00:00</th>\n",
              "      <td>2011</td>\n",
              "      <td>1</td>\n",
              "      <td>1</td>\n",
              "      <td>5</td>\n",
              "      <td>0</td>\n",
              "      <td>-5.2</td>\n",
              "      <td>-6.7</td>\n",
              "      <td>88</td>\n",
              "      <td>101880</td>\n",
              "      <td>0</td>\n",
              "      <td>0</td>\n",
              "      <td>224</td>\n",
              "      <td>0</td>\n",
              "      <td>0</td>\n",
              "      <td>0</td>\n",
              "      <td>0</td>\n",
              "      <td>0</td>\n",
              "      <td>0</td>\n",
              "      <td>0</td>\n",
              "      <td>0</td>\n",
              "      <td>0.0</td>\n",
              "      <td>0</td>\n",
              "      <td>0</td>\n",
              "      <td>48.3</td>\n",
              "      <td>77770</td>\n",
              "      <td>0</td>\n",
              "      <td>999999990</td>\n",
              "      <td>0</td>\n",
              "      <td>0.085</td>\n",
              "      <td>0</td>\n",
              "      <td>88</td>\n",
              "      <td>0.2</td>\n",
              "      <td>0.0</td>\n",
              "      <td>0.0</td>\n",
              "    </tr>\n",
              "  </tbody>\n",
              "</table>\n",
              "</div>"
            ],
            "text/plain": [
              "                     year  month  ...  liq_precip_depth_mm  liq_precip_rate_Hour\n",
              "2016-01-01 00:00:00  2011      1  ...                  0.0                   0.0\n",
              "2016-01-01 01:00:00  2011      1  ...                  0.0                   0.0\n",
              "2016-01-01 02:00:00  2011      1  ...                  0.0                   0.0\n",
              "2016-01-01 03:00:00  2011      1  ...                  0.0                   0.0\n",
              "2016-01-01 04:00:00  2011      1  ...                  0.0                   0.0\n",
              "\n",
              "[5 rows x 34 columns]"
            ]
          },
          "metadata": {
            "tags": []
          },
          "execution_count": 5
        }
      ]
    },
    {
      "cell_type": "markdown",
      "metadata": {
        "id": "Bzr4OLlGmp0X"
      },
      "source": [
        "Dry Bulb"
      ]
    },
    {
      "cell_type": "code",
      "metadata": {
        "id": "V2L6prVtmzFe"
      },
      "source": [
        "\r\n",
        "\r\n",
        "fut_tas = pd.Series([-5,3,5,9,13,15,17,19,24,15,11,-1])\r\n",
        "fut_tmax = pd.Series([3,13,15,19,22,25,27,29,33,25,19,10])\r\n",
        "fut_tmin = pd.Series([-6,1,3,6,9,10,11,10,18,13,8,-4])\r\n",
        "hist_tas = pd.Series([-7,0,2,6,10,12,15,18,21,14,6,-3])\r\n",
        "hist_tmax = pd.Series([2,11,10,14,20,22,25,27,26,18,13,5])\r\n",
        "hist_tmin = pd.Series([-12,-5,-3,0,1,5,6,10,12,11,0,-10])\r\n",
        "\r\n",
        "\r\n",
        "def means(series):\r\n",
        "  max = series.resample('D').max().resample('M').mean().reset_index(drop=True)\r\n",
        "  min = series.resample('D').min().resample('M').mean().reset_index(drop=True)\r\n",
        "  mean = series.resample('D').mean().resample('M').mean().reset_index(drop=True)\r\n",
        "  return max, min, mean\r\n",
        "\r\n",
        "def change(fut_tas,hist_tas,fut_tmax,hist_tmax,fut_tmin,hist_tmin):\r\n",
        "  tas = fut_tas-hist_tas\r\n",
        "  tmax = fut_tmax-hist_tmax\r\n",
        "  tmin = fut_tmin-hist_tmin\r\n",
        "  return tas, tmax, tmin\r\n",
        "\r\n",
        "def morph_dbt(df, fut_tas,hist_tas,fut_tmax,hist_tmax,fut_tmin,hist_tmin):\r\n",
        "  months = list(range(1, 12 + 1, 1))\r\n",
        "  dbt_max_mean, dbt_min_mean, dbt_mean = means(df['drybulb_C'])\r\n",
        "  tas_change, tmax_change, tmin_change = change(fut_tas, hist_tas,\r\n",
        "                                                fut_tmax, hist_tmax,\r\n",
        "                                                fut_tmin, hist_tmin)\r\n",
        "  tas_change = dict(zip(months, tas_change)) \r\n",
        "  dbt_scale = dict(zip(months, (tmax_change - tmin_change) / (dbt_max_mean - dbt_min_mean)))\r\n",
        "  dbt_mean = dict(zip(months, dbt_mean))\r\n",
        "  return df.apply(lambda x: x['drybulb_C'] + tas_change[x['month']] + dbt_scale[x['month']] * (x['drybulb_C'] - dbt_mean[x['month']]),axis=1)\r\n",
        "\r\n",
        "new_dbt = morph_dbt(df, fut_tas,hist_tas,fut_tmax,hist_tmax,fut_tmin,hist_tmin).rename(\"drybulb_C\")\r\n"
      ],
      "execution_count": 45,
      "outputs": []
    },
    {
      "cell_type": "markdown",
      "metadata": {
        "id": "dlWMtesNjRRw"
      },
      "source": [
        "Relative Humidity"
      ]
    },
    {
      "cell_type": "code",
      "metadata": {
        "id": "S36kWTnJjSde"
      },
      "source": [
        "fut_rh = pd.Series([35,45,55,55,78,77,95,65,70,60,80,70])\r\n",
        "hist_rh = pd.Series([40,60,54,50,76,70,88,61,72,64,85,75])\r\n",
        "\r\n",
        "def morph_relhum(df, fut_relhum, hist_relhum):\r\n",
        "    # requires fut_ and hist_ inputs to be monthly climatologies\r\n",
        "    months = list(range(1,12+1,1))\r\n",
        "    relhum_change = dict(zip(months, fut_relhum - hist_relhum))\r\n",
        "    return df.apply(lambda x: x['relhum_percent'] + relhum_change[x['month']],axis=1)\r\n",
        "\r\n",
        "new_rh = morph_relhum(df, fut_rh, hist_rh).rename(\"relhum_percent\")"
      ],
      "execution_count": 51,
      "outputs": []
    },
    {
      "cell_type": "markdown",
      "metadata": {
        "id": "aXOV0YhXZF3Q"
      },
      "source": [
        "Pressure"
      ]
    },
    {
      "cell_type": "code",
      "metadata": {
        "id": "W3pjGO3IZGp8"
      },
      "source": [
        "fut_pr = pd.Series([101860,101865,101880,101880,102160,102230,101890,101950,102110,101890,101980,102380])\r\n",
        "hist_pr = pd.Series([101890,101855,101870,101830,102100,101880,101880,101890,102160,101880,101865,102180])\r\n",
        "\r\n",
        "def morph_pr(df, fut_pr, hist_pr):\r\n",
        "    # requires fut_ and hist_ inputs to be monthly climatologies\r\n",
        "    months = list(range(1,12+1,1))\r\n",
        "    pr_change = dict(zip(months, fut_pr - hist_pr))\r\n",
        "    return df.apply(lambda x: x['atmos_Pa'] + pr_change[x['month']],axis=1)\r\n",
        "\r\n",
        "new_pr = morph_pr(df, fut_pr, hist_pr).rename(\"atmos_Pa\")\r\n"
      ],
      "execution_count": 47,
      "outputs": []
    },
    {
      "cell_type": "markdown",
      "metadata": {
        "id": "UpHOC7_yic4J"
      },
      "source": [
        "Dew Point"
      ]
    },
    {
      "cell_type": "code",
      "metadata": {
        "id": "Wd8KKR-Zid_Y"
      },
      "source": [
        "def calc_sat_pr(pressure, dbt, rel_hum):\r\n",
        "    # pressure units in in Pa\r\n",
        "    # pressure units out in Pa\r\n",
        "    # temp units in C\r\n",
        "    mixing = mpcalc.mixing_ratio_from_relative_humidity(pressure*units.Pa,\r\n",
        "                                                        dbt*units.degC,\r\n",
        "                                                        rel_hum*units.percent)\r\n",
        "    return mixing\r\n",
        "\r\n",
        "def calc_partial_water_pr(pressure, dbt, rel_hum):\r\n",
        "    # pressure units in in Pa\r\n",
        "    # pressure units out in kPa\r\n",
        "    # temp units in C\r\n",
        "    # rel hum in %\r\n",
        "    return (rel_hum * calc_sat_pr(pressure, dbt, rel_hum)) / 1000\r\n",
        "\r\n",
        "def morph_dewpt(epw_dewpt, epw_pressure, epw_dbt, epw_rh):\r\n",
        "    pw = calc_partial_water_pr(epw_pressure, epw_dbt, epw_rh)\r\n",
        "    if epw_dewpt>=0:\r\n",
        "        epw_dewpt_fut = 6.54 + 14.526 + np.log(pw) + 0.7389 * np.log(pw)**2 + 0.09486 * np.log(pw)**3 + 0.4569 * pw**0.1984\r\n",
        "    else:\r\n",
        "        epw_dewpt_fut = 6.09 + 12.608 * np.log(pw) + 0.4959 * np.log(pw)**2\r\n",
        "    return epw_dewpt_fut\r\n",
        "\r\n",
        "# df.apply(lambda x: morph_dewpt(x['dewpoint_C'], \r\n",
        "#                                x['atmos_Pa'], \r\n",
        "#                                x['drybulb_C'], \r\n",
        "#                                x['relhum_percent']), axis=1)"
      ],
      "execution_count": 56,
      "outputs": []
    },
    {
      "cell_type": "code",
      "metadata": {
        "id": "O5WERFIWcO0Z"
      },
      "source": [
        "df_new = pd.concat([new_dbt,new_rh,new_pr],axis=1)\r\n",
        "df_new['partial'] = df_new.apply(lambda x: calc_partial_water_pr(x['atmos_Pa'], x['drybulb_C'], x['relhum_percent']),axis=1)\r\n",
        "df_new"
      ],
      "execution_count": null,
      "outputs": []
    },
    {
      "cell_type": "code",
      "metadata": {
        "id": "Mxz27DJzilh2"
      },
      "source": [
        "def morph_dewpt(df,new_dbt,new_pr,new_rh):\r\n",
        "  return calc_partial_water_pr(new_pr, new_dbt, new_rh)\r\n",
        "\r\n",
        "df_new = pd.DataFrame([new_dbt,new_rh,new_pr])\r\n",
        "\r\n",
        "df.apply(lambda x: calc_sat_pr()"
      ],
      "execution_count": null,
      "outputs": []
    },
    {
      "cell_type": "code",
      "metadata": {
        "colab": {
          "base_uri": "https://localhost:8080/"
        },
        "id": "zBWhWKyoboXL",
        "outputId": "9aa2340d-eeda-4d3f-9ee2-8462ef0a08eb"
      },
      "source": [
        "new_pr[2]"
      ],
      "execution_count": 37,
      "outputs": [
        {
          "output_type": "execute_result",
          "data": {
            "text/plain": [
              "101890.0"
            ]
          },
          "metadata": {
            "tags": []
          },
          "execution_count": 37
        }
      ]
    },
    {
      "cell_type": "code",
      "metadata": {
        "colab": {
          "base_uri": "https://localhost:8080/",
          "height": 34
        },
        "id": "ReWsUeMRbOcg",
        "outputId": "77c375e5-dd71-4c7c-f19b-507642ef1097"
      },
      "source": [
        "temperature = 73.2 * units.degF\r\n",
        "rh = 64 * units.percent\r\n",
        "dewpoint = mpcalc.dewpoint_from_relative_humidity(temperature, rh)\r\n",
        "\r\n",
        "pressure = new_pr[2]\r\n",
        "dbt = new_dbt[2]\r\n",
        "rh = new_rh[2]\r\n",
        "mpcalc.mixing_ratio_from_relative_humidity(pressure*units.Pa,\r\n",
        "                                            dbt*units.degC,\r\n",
        "                                            rh*units.percent)"
      ],
      "execution_count": 38,
      "outputs": [
        {
          "output_type": "execute_result",
          "data": {
            "text/latex": "$0.004541488181398869\\ dimensionless$",
            "text/html": [
              "0.004541488181398869 dimensionless"
            ],
            "text/plain": [
              "0.004541488181398869 dimensionless"
            ]
          },
          "metadata": {
            "tags": []
          },
          "execution_count": 38
        }
      ]
    }
  ]
}