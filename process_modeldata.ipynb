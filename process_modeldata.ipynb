{
  "nbformat": 4,
  "nbformat_minor": 0,
  "metadata": {
    "colab": {
      "name": "process_modeldata.ipynb",
      "provenance": [],
      "authorship_tag": "ABX9TyOqCVScM9+C65tBiebfP0I2",
      "include_colab_link": true
    },
    "kernelspec": {
      "name": "python3",
      "display_name": "Python 3"
    }
  },
  "cells": [
    {
      "cell_type": "markdown",
      "metadata": {
        "id": "view-in-github",
        "colab_type": "text"
      },
      "source": [
        "<a href=\"https://colab.research.google.com/github/justinfmccarty/epwmorph/blob/main/process_modeldata.ipynb\" target=\"_parent\"><img src=\"https://colab.research.google.com/assets/colab-badge.svg\" alt=\"Open In Colab\"/></a>"
      ]
    },
    {
      "cell_type": "code",
      "metadata": {
        "id": "TM3EqY5Urdsg"
      },
      "source": [
        "import pandas as pd"
      ],
      "execution_count": 1,
      "outputs": []
    },
    {
      "cell_type": "code",
      "metadata": {
        "id": "JCiNunUorjkD"
      },
      "source": [
        "baselinestart = 1976\r\n",
        "baselineend = 2005\r\n",
        "pathway = 'ssp245'\r\n",
        "futurestart = 2035\r\n",
        "futureend = 2065\r\n",
        "percentiles = 5,50,95\r\n",
        "\r\n"
      ],
      "execution_count": 18,
      "outputs": []
    },
    {
      "cell_type": "code",
      "metadata": {
        "id": "EQ1JrhCVwyu7"
      },
      "source": [
        "\r\n",
        "percentile_list = list(percentiles)#parse('percentiles').split(',')\r\n",
        "percentile_list = list(map(int, percentile_list))\r\n",
        "\r\n",
        "varlist = ['clt', 'huss', 'pr', 'psl', 'rsds', 'tas', 'tasmax', 'tasmin', 'uas', 'vas']"
      ],
      "execution_count": 28,
      "outputs": []
    },
    {
      "cell_type": "code",
      "metadata": {
        "id": "r8g6Clglrqn7"
      },
      "source": [
        "def calc_model_climatologies(variable, percentile, config):\r\n",
        "  hist_file = '/content/historical-{}.csv'.format(var)\r\n",
        "  fut_file = '/content/ssp245-{}.csv'.format(var)\r\n",
        "  # hist_uas_vas['Datetime'] = pd.to_datetime(hist_uas_vas['date_hist'])\r\n",
        "\r\n",
        "  climatolgies_hist = {}\r\n",
        "\r\n",
        "  hist_init = pd.DataFrame(pd.read_csv(hist_file, usecols=['5','50','95','date']))\r\n",
        "  hist_init['date'] = pd.to_datetime(hist_init['date'])\r\n",
        "  hist_init = hist_init.set_index('date')\r\n",
        "  hist_init = hist_init['{}-01-01'.format(baselinestart) :'{}-12-01'.format(baselineend)]\r\n",
        "  hist_init = hist_init.groupby(hist_init.index.month).mean()\r\n",
        "\r\n",
        "  for i in list(range(len(percentile_list))):\r\n",
        "    ptile = percentile_list[i]\r\n",
        "    climatolgies_hist[ptile] = pd.DataFrame()\r\n",
        "    climatolgies_hist[ptile][var] = pd.Series(hist_init[str(ptile)]).rename(var)"
      ],
      "execution_count": 42,
      "outputs": []
    },
    {
      "cell_type": "code",
      "metadata": {
        "id": "AuSPti5WyPqj"
      },
      "source": [
        "def calc_model_climatologies(variable, percentile):#, config):\r\n",
        "\r\n",
        "  #will need to pull historical start and future start from the config file\r\n",
        "\r\n",
        "  hist_file = '/content/historical-{}.csv'.format(var)\r\n",
        "  fut_file = '/content/ssp245-{}.csv'.format(var)\r\n",
        "\r\n",
        "  hist_init = pd.DataFrame(pd.read_csv(hist_file, usecols=[percentile,'date']))\r\n",
        "  hist_init['date'] = pd.to_datetime(hist_init['date'])\r\n",
        "  hist_init = hist_init.set_index('date')\r\n",
        "  hist_init = hist_init['{}-01-01'.format(baselinestart) :'{}-12-01'.format(baselineend)]\r\n",
        "  hist_init = hist_init.groupby(hist_init.index.month).mean()\r\n",
        "\r\n",
        "  var_init = pd.DataFrame(pd.read_csv(fut_file, usecols=[percentile,'date']))\r\n",
        "  var_init['date'] = pd.to_datetime(var_init['date'])\r\n",
        "  var_init = var_init.set_index('date')\r\n",
        "  var_init = var_init['{}-01-01'.format(futurestart) :'{}-12-01'.format(futureend)]\r\n",
        "  var_init = var_init.groupby(var_init.index.month).mean()\r\n",
        "\r\n",
        "  return hist_init, var_init"
      ],
      "execution_count": 66,
      "outputs": []
    },
    {
      "cell_type": "code",
      "metadata": {
        "colab": {
          "base_uri": "https://localhost:8080/",
          "height": 457
        },
        "id": "F0VGCxhY0jKp",
        "outputId": "5edbc35d-f290-475b-824d-e7f4577d9575"
      },
      "source": [
        "a, b = calc_model_climatologies('clt', '95')\r\n",
        "# fut_file = '/content/ssp245-{}.csv'.format(var)\r\n",
        "# pd.DataFrame(pd.read_csv(fut_file, usecols=['95','date']))\r\n",
        "\r\n",
        "100*((b - a) / a)"
      ],
      "execution_count": 71,
      "outputs": [
        {
          "output_type": "execute_result",
          "data": {
            "text/html": [
              "<div>\n",
              "<style scoped>\n",
              "    .dataframe tbody tr th:only-of-type {\n",
              "        vertical-align: middle;\n",
              "    }\n",
              "\n",
              "    .dataframe tbody tr th {\n",
              "        vertical-align: top;\n",
              "    }\n",
              "\n",
              "    .dataframe thead th {\n",
              "        text-align: right;\n",
              "    }\n",
              "</style>\n",
              "<table border=\"1\" class=\"dataframe\">\n",
              "  <thead>\n",
              "    <tr style=\"text-align: right;\">\n",
              "      <th></th>\n",
              "      <th>95</th>\n",
              "    </tr>\n",
              "    <tr>\n",
              "      <th>date</th>\n",
              "      <th></th>\n",
              "    </tr>\n",
              "  </thead>\n",
              "  <tbody>\n",
              "    <tr>\n",
              "      <th>1</th>\n",
              "      <td>-1.341735</td>\n",
              "    </tr>\n",
              "    <tr>\n",
              "      <th>2</th>\n",
              "      <td>0.059328</td>\n",
              "    </tr>\n",
              "    <tr>\n",
              "      <th>3</th>\n",
              "      <td>-2.552741</td>\n",
              "    </tr>\n",
              "    <tr>\n",
              "      <th>4</th>\n",
              "      <td>-4.498206</td>\n",
              "    </tr>\n",
              "    <tr>\n",
              "      <th>5</th>\n",
              "      <td>-6.676899</td>\n",
              "    </tr>\n",
              "    <tr>\n",
              "      <th>6</th>\n",
              "      <td>-3.521489</td>\n",
              "    </tr>\n",
              "    <tr>\n",
              "      <th>7</th>\n",
              "      <td>-15.080431</td>\n",
              "    </tr>\n",
              "    <tr>\n",
              "      <th>8</th>\n",
              "      <td>-21.597050</td>\n",
              "    </tr>\n",
              "    <tr>\n",
              "      <th>9</th>\n",
              "      <td>-13.152723</td>\n",
              "    </tr>\n",
              "    <tr>\n",
              "      <th>10</th>\n",
              "      <td>-5.339509</td>\n",
              "    </tr>\n",
              "    <tr>\n",
              "      <th>11</th>\n",
              "      <td>-0.230009</td>\n",
              "    </tr>\n",
              "    <tr>\n",
              "      <th>12</th>\n",
              "      <td>-0.230865</td>\n",
              "    </tr>\n",
              "  </tbody>\n",
              "</table>\n",
              "</div>"
            ],
            "text/plain": [
              "             95\n",
              "date           \n",
              "1     -1.341735\n",
              "2      0.059328\n",
              "3     -2.552741\n",
              "4     -4.498206\n",
              "5     -6.676899\n",
              "6     -3.521489\n",
              "7    -15.080431\n",
              "8    -21.597050\n",
              "9    -13.152723\n",
              "10    -5.339509\n",
              "11    -0.230009\n",
              "12    -0.230865"
            ]
          },
          "metadata": {
            "tags": []
          },
          "execution_count": 71
        }
      ]
    }
  ]
}