{
  "nbformat": 4,
  "nbformat_minor": 0,
  "metadata": {
    "colab": {
      "name": "process_modeldata.ipynb",
      "provenance": [],
      "authorship_tag": "ABX9TyN7R3SgYdTHlxKIB97PNG7n",
      "include_colab_link": true
    },
    "kernelspec": {
      "name": "python3",
      "display_name": "Python 3"
    }
  },
  "cells": [
    {
      "cell_type": "markdown",
      "metadata": {
        "id": "view-in-github",
        "colab_type": "text"
      },
      "source": [
        "<a href=\"https://colab.research.google.com/github/justinfmccarty/epwmorph/blob/main/process_modeldata.ipynb\" target=\"_parent\"><img src=\"https://colab.research.google.com/assets/colab-badge.svg\" alt=\"Open In Colab\"/></a>"
      ]
    },
    {
      "cell_type": "code",
      "metadata": {
        "id": "TM3EqY5Urdsg"
      },
      "source": [
        "import pandas as pd"
      ],
      "execution_count": null,
      "outputs": []
    },
    {
      "cell_type": "code",
      "metadata": {
        "id": "JCiNunUorjkD"
      },
      "source": [
        "baselinestart = 1976\r\n",
        "baselineend = 2005\r\n",
        "pathway = 'ssp245'\r\n",
        "futurestart = 2035\r\n",
        "futureend = 2065\r\n",
        "percentiles = 5,50,95\r\n",
        "\r\n"
      ],
      "execution_count": null,
      "outputs": []
    },
    {
      "cell_type": "code",
      "metadata": {
        "id": "EQ1JrhCVwyu7"
      },
      "source": [
        "\r\n",
        "percentile_list = list(percentiles)#parse('percentiles').split(',')\r\n",
        "percentile_list = list(map(int, percentile_list))\r\n",
        "\r\n",
        "varlist = ['clt', 'huss', 'pr', 'psl', 'rsds', 'tas', 'tasmax', 'tasmin', 'uas', 'vas']"
      ],
      "execution_count": null,
      "outputs": []
    },
    {
      "cell_type": "code",
      "metadata": {
        "id": "r8g6Clglrqn7"
      },
      "source": [
        "def calc_model_climatologies(variable, percentile, config):\r\n",
        "  hist_file = '/content/historical-{}.csv'.format(var)\r\n",
        "  fut_file = '/content/ssp245-{}.csv'.format(var)\r\n",
        "  # hist_uas_vas['Datetime'] = pd.to_datetime(hist_uas_vas['date_hist'])\r\n",
        "\r\n",
        "  climatolgies_hist = {}\r\n",
        "\r\n",
        "  hist_init = pd.DataFrame(pd.read_csv(hist_file, usecols=['5','50','95','date']))\r\n",
        "  hist_init['date'] = pd.to_datetime(hist_init['date'])\r\n",
        "  hist_init = hist_init.set_index('date')\r\n",
        "  hist_init = hist_init['{}-01-01'.format(baselinestart) :'{}-12-01'.format(baselineend)]\r\n",
        "  hist_init = hist_init.groupby(hist_init.index.month).mean()\r\n",
        "\r\n",
        "  for i in list(range(len(percentile_list))):\r\n",
        "    ptile = percentile_list[i]\r\n",
        "    climatolgies_hist[ptile] = pd.DataFrame()\r\n",
        "    climatolgies_hist[ptile][var] = pd.Series(hist_init[str(ptile)]).rename(var)"
      ],
      "execution_count": null,
      "outputs": []
    },
    {
      "cell_type": "code",
      "metadata": {
        "id": "AuSPti5WyPqj"
      },
      "source": [
        "def calc_model_climatologies(variable, percentile):#, config):\r\n",
        "\r\n",
        "  #will need to pull historical start and future start from the config file\r\n",
        "\r\n",
        "  hist_file = '/content/historical-{}.csv'.format(var)\r\n",
        "  fut_file = '/content/ssp245-{}.csv'.format(var)\r\n",
        "\r\n",
        "  hist_init = pd.DataFrame(pd.read_csv(hist_file, usecols=[percentile,'date']))\r\n",
        "  hist_init['date'] = pd.to_datetime(hist_init['date'])\r\n",
        "  hist_init = hist_init.set_index('date')\r\n",
        "  hist_init = hist_init['{}-01-01'.format(baselinestart) :'{}-12-01'.format(baselineend)]\r\n",
        "  hist_init = hist_init.groupby(hist_init.index.month).mean()\r\n",
        "\r\n",
        "  var_init = pd.DataFrame(pd.read_csv(fut_file, usecols=[percentile,'date']))\r\n",
        "  var_init['date'] = pd.to_datetime(var_init['date'])\r\n",
        "  var_init = var_init.set_index('date')\r\n",
        "  var_init = var_init['{}-01-01'.format(futurestart) :'{}-12-01'.format(futureend)]\r\n",
        "  var_init = var_init.groupby(var_init.index.month).mean()\r\n",
        "\r\n",
        "  return hist_init, var_init"
      ],
      "execution_count": null,
      "outputs": []
    },
    {
      "cell_type": "code",
      "metadata": {
        "id": "F0VGCxhY0jKp"
      },
      "source": [
        "a, b = calc_model_climatologies('clt', '95')\r\n",
        "# fut_file = '/content/ssp245-{}.csv'.format(var)\r\n",
        "# pd.DataFrame(pd.read_csv(fut_file, usecols=['95','date']))\r\n",
        "\r\n",
        "100*((b - a) / a)"
      ],
      "execution_count": null,
      "outputs": []
    },
    {
      "cell_type": "markdown",
      "metadata": {
        "id": "vmBy-f2_6EbO"
      },
      "source": [
        "### Read and Write EPW"
      ]
    },
    {
      "cell_type": "code",
      "metadata": {
        "id": "w8IDJRrm6Hj7"
      },
      "source": [
        "!pip install git+https://github.com/building-energy/epw"
      ],
      "execution_count": null,
      "outputs": []
    },
    {
      "cell_type": "code",
      "metadata": {
        "id": "95TBrR3t6jku"
      },
      "source": [
        "from epw import epw"
      ],
      "execution_count": 12,
      "outputs": []
    },
    {
      "cell_type": "code",
      "metadata": {
        "id": "zOhhK1Ik_ACD",
        "outputId": "f581db04-a6d8-4572-fcb2-1842282bf883",
        "colab": {
          "base_uri": "https://localhost:8080/"
        }
      },
      "source": [
        "a = epw()\r\n",
        "a.read('/content/CAN_BC_Vancouver.Intl.AP.718920_CWEC2016.epw')\r\n",
        "a.dataframe.columns"
      ],
      "execution_count": 13,
      "outputs": [
        {
          "output_type": "execute_result",
          "data": {
            "text/plain": [
              "Index(['Year', 'Month', 'Day', 'Hour', 'Minute',\n",
              "       'Data Source and Uncertainty Flags', 'Dry Bulb Temperature',\n",
              "       'Dew Point Temperature', 'Relative Humidity',\n",
              "       'Atmospheric Station Pressure', 'Extraterrestrial Horizontal Radiation',\n",
              "       'Extraterrestrial Direct Normal Radiation',\n",
              "       'Horizontal Infrared Radiation Intensity',\n",
              "       'Global Horizontal Radiation', 'Direct Normal Radiation',\n",
              "       'Diffuse Horizontal Radiation', 'Global Horizontal Illuminance',\n",
              "       'Direct Normal Illuminance', 'Diffuse Horizontal Illuminance',\n",
              "       'Zenith Luminance', 'Wind Direction', 'Wind Speed', 'Total Sky Cover',\n",
              "       'Opaque Sky Cover (used if Horizontal IR Intensity missing)',\n",
              "       'Visibility', 'Ceiling Height', 'Present Weather Observation',\n",
              "       'Present Weather Codes', 'Precipitable Water', 'Aerosol Optical Depth',\n",
              "       'Snow Depth', 'Days Since Last Snowfall', 'Albedo',\n",
              "       'Liquid Precipitation Depth', 'Liquid Precipitation Quantity'],\n",
              "      dtype='object')"
            ]
          },
          "metadata": {
            "tags": []
          },
          "execution_count": 13
        }
      ]
    },
    {
      "cell_type": "code",
      "metadata": {
        "id": "XCK9V79064sT"
      },
      "source": [
        "def out_epw(fut_df):\r\n",
        "  base_epw = ''\r\n",
        "  epw = epw()\r\n",
        "  epw.read(base_epw)\r\n",
        "  epw['Dry Bulb Temperature'] = fut_df['drybulb_C']\r\n",
        "  epw['Relative Humidity'] = fut_df['relhum_percent']\r\n",
        "  epw['Dew Point Temperature'] = fut_df['drybulb_C']\r\n",
        "  epw['Atmospheric Station Pressure'] = fut_df['drybulb_C']\r\n",
        "  epw['Global Horizontal Radiation'] = fut_df['drybulb_C']\r\n",
        "  epw['Direct Normal Radiation'] = fut_df['drybulb_C']\r\n",
        "  epw['Diffuse Horizontal Radiation'] = fut_df['drybulb_C']\r\n",
        "  epw['Wind Speed'] = fut_df['drybulb_C']\r\n",
        "  epw['Total Sky Cover'] = fut_df['drybulb_C']\r\n",
        "  epw['Opaque Sky Cover (used if Horizontal IR Intensity missing)'] = fut_df['drybulb_C']\r\n",
        "  epw['Horizontal Infrared Radiation Intensity'] = fut_df['drybulb_C']\r\n",
        "  epw['Precipitable Water'] = fut_df['drybulb_C']\r\n",
        "  epw['Extraterrestrial Horizontal Radiation'] = fut_df['drybulb_C']\r\n",
        "  epw['Extraterrestrial Direct Normal Radiation'] = fut_df['drybulb_C']\r\n",
        "  epw['Global Horizontal Illuminance'] = fut_df['drybulb_C']\r\n",
        "  epw['Direct Normal Illuminance'] = fut_df['drybulb_C']\r\n",
        "  epw['Diffuse Horizontal Illuminance'] = fut_df['drybulb_C']\r\n",
        "  epw['Zenith Luminance'] = fut_df['drybulb_C']"
      ],
      "execution_count": null,
      "outputs": []
    }
  ]
}