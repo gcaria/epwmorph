{
  "nbformat": 4,
  "nbformat_minor": 0,
  "metadata": {
    "colab": {
      "name": "NOAA Station Data API.ipynb",
      "provenance": [],
      "authorship_tag": "ABX9TyNvFA1uzZTlEYIS8++XgZeK"
    },
    "kernelspec": {
      "display_name": "Python 3",
      "name": "python3"
    }
  },
  "cells": [
    {
      "cell_type": "code",
      "metadata": {
        "id": "1aU46YiF5Fgg",
        "colab": {
          "base_uri": "https://localhost:8080/"
        },
        "outputId": "8f69f3ac-424e-4278-aaa8-4ad9065d7eed"
      },
      "source": [
        "!pip install metpy\r\n",
        "!pip install geopandas"
      ],
      "execution_count": 2,
      "outputs": [
        {
          "output_type": "stream",
          "text": [
            "Collecting metpy\n",
            "\u001b[?25l  Downloading https://files.pythonhosted.org/packages/6c/0e/c63b4a59945259cfc8216135d30f117e277f659461fd2af81d2737d605dc/MetPy-0.12.2-py3-none-any.whl (319kB)\n",
            "\u001b[K     |████████████████████████████████| 327kB 6.7MB/s \n",
            "\u001b[?25hRequirement already satisfied: scipy>=1.0 in /usr/local/lib/python3.6/dist-packages (from metpy) (1.4.1)\n",
            "Requirement already satisfied: xarray>=0.13.0 in /usr/local/lib/python3.6/dist-packages (from metpy) (0.15.1)\n",
            "Collecting pooch>=0.1\n",
            "\u001b[?25l  Downloading https://files.pythonhosted.org/packages/40/b9/9876662636ba451d4406543047c0b45ca5b4e830f931308c8274dad1db43/pooch-1.3.0-py3-none-any.whl (51kB)\n",
            "\u001b[K     |████████████████████████████████| 61kB 7.0MB/s \n",
            "\u001b[?25hRequirement already satisfied: matplotlib>=2.1.0 in /usr/local/lib/python3.6/dist-packages (from metpy) (3.2.2)\n",
            "Collecting pint>=0.10.1\n",
            "\u001b[?25l  Downloading https://files.pythonhosted.org/packages/5f/0e/dd4fb17aed6bfbc168fd767cffb6ec20b634009b75fd8ea699ea244bff3c/Pint-0.16.1-py2.py3-none-any.whl (205kB)\n",
            "\u001b[K     |████████████████████████████████| 215kB 16.9MB/s \n",
            "\u001b[?25hRequirement already satisfied: traitlets>=4.3.0 in /usr/local/lib/python3.6/dist-packages (from metpy) (4.3.3)\n",
            "Requirement already satisfied: pandas>=0.22.0 in /usr/local/lib/python3.6/dist-packages (from metpy) (1.1.4)\n",
            "Requirement already satisfied: numpy>=1.16.0 in /usr/local/lib/python3.6/dist-packages (from metpy) (1.18.5)\n",
            "Requirement already satisfied: setuptools>=41.2 in /usr/local/lib/python3.6/dist-packages (from xarray>=0.13.0->metpy) (50.3.2)\n",
            "Requirement already satisfied: requests in /usr/local/lib/python3.6/dist-packages (from pooch>=0.1->metpy) (2.23.0)\n",
            "Requirement already satisfied: packaging in /usr/local/lib/python3.6/dist-packages (from pooch>=0.1->metpy) (20.4)\n",
            "Collecting appdirs\n",
            "  Downloading https://files.pythonhosted.org/packages/3b/00/2344469e2084fb287c2e0b57b72910309874c3245463acd6cf5e3db69324/appdirs-1.4.4-py2.py3-none-any.whl\n",
            "Requirement already satisfied: python-dateutil>=2.1 in /usr/local/lib/python3.6/dist-packages (from matplotlib>=2.1.0->metpy) (2.8.1)\n",
            "Requirement already satisfied: kiwisolver>=1.0.1 in /usr/local/lib/python3.6/dist-packages (from matplotlib>=2.1.0->metpy) (1.3.1)\n",
            "Requirement already satisfied: pyparsing!=2.0.4,!=2.1.2,!=2.1.6,>=2.0.1 in /usr/local/lib/python3.6/dist-packages (from matplotlib>=2.1.0->metpy) (2.4.7)\n",
            "Requirement already satisfied: cycler>=0.10 in /usr/local/lib/python3.6/dist-packages (from matplotlib>=2.1.0->metpy) (0.10.0)\n",
            "Requirement already satisfied: importlib-metadata; python_version < \"3.8\" in /usr/local/lib/python3.6/dist-packages (from pint>=0.10.1->metpy) (2.0.0)\n",
            "Requirement already satisfied: importlib-resources; python_version < \"3.7\" in /usr/local/lib/python3.6/dist-packages (from pint>=0.10.1->metpy) (3.3.0)\n",
            "Requirement already satisfied: ipython-genutils in /usr/local/lib/python3.6/dist-packages (from traitlets>=4.3.0->metpy) (0.2.0)\n",
            "Requirement already satisfied: decorator in /usr/local/lib/python3.6/dist-packages (from traitlets>=4.3.0->metpy) (4.4.2)\n",
            "Requirement already satisfied: six in /usr/local/lib/python3.6/dist-packages (from traitlets>=4.3.0->metpy) (1.15.0)\n",
            "Requirement already satisfied: pytz>=2017.2 in /usr/local/lib/python3.6/dist-packages (from pandas>=0.22.0->metpy) (2018.9)\n",
            "Requirement already satisfied: idna<3,>=2.5 in /usr/local/lib/python3.6/dist-packages (from requests->pooch>=0.1->metpy) (2.10)\n",
            "Requirement already satisfied: certifi>=2017.4.17 in /usr/local/lib/python3.6/dist-packages (from requests->pooch>=0.1->metpy) (2020.11.8)\n",
            "Requirement already satisfied: urllib3!=1.25.0,!=1.25.1,<1.26,>=1.21.1 in /usr/local/lib/python3.6/dist-packages (from requests->pooch>=0.1->metpy) (1.24.3)\n",
            "Requirement already satisfied: chardet<4,>=3.0.2 in /usr/local/lib/python3.6/dist-packages (from requests->pooch>=0.1->metpy) (3.0.4)\n",
            "Requirement already satisfied: zipp>=0.5 in /usr/local/lib/python3.6/dist-packages (from importlib-metadata; python_version < \"3.8\"->pint>=0.10.1->metpy) (3.4.0)\n",
            "Installing collected packages: appdirs, pooch, pint, metpy\n",
            "Successfully installed appdirs-1.4.4 metpy-0.12.2 pint-0.16.1 pooch-1.3.0\n",
            "Collecting geopandas\n",
            "\u001b[?25l  Downloading https://files.pythonhosted.org/packages/f7/a4/e66aafbefcbb717813bf3a355c8c4fc3ed04ea1dd7feb2920f2f4f868921/geopandas-0.8.1-py2.py3-none-any.whl (962kB)\n",
            "\u001b[K     |████████████████████████████████| 972kB 6.9MB/s \n",
            "\u001b[?25hRequirement already satisfied: shapely in /usr/local/lib/python3.6/dist-packages (from geopandas) (1.7.1)\n",
            "Collecting fiona\n",
            "\u001b[?25l  Downloading https://files.pythonhosted.org/packages/37/94/4910fd55246c1d963727b03885ead6ef1cd3748a465f7b0239ab25dfc9a3/Fiona-1.8.18-cp36-cp36m-manylinux1_x86_64.whl (14.8MB)\n",
            "\u001b[K     |████████████████████████████████| 14.8MB 321kB/s \n",
            "\u001b[?25hCollecting pyproj>=2.2.0\n",
            "\u001b[?25l  Downloading https://files.pythonhosted.org/packages/e4/ab/280e80a67cfc109d15428c0ec56391fc03a65857b7727cf4e6e6f99a4204/pyproj-3.0.0.post1-cp36-cp36m-manylinux2010_x86_64.whl (6.4MB)\n",
            "\u001b[K     |████████████████████████████████| 6.5MB 39.8MB/s \n",
            "\u001b[?25hRequirement already satisfied: pandas>=0.23.0 in /usr/local/lib/python3.6/dist-packages (from geopandas) (1.1.4)\n",
            "Requirement already satisfied: click<8,>=4.0 in /usr/local/lib/python3.6/dist-packages (from fiona->geopandas) (7.1.2)\n",
            "Requirement already satisfied: six>=1.7 in /usr/local/lib/python3.6/dist-packages (from fiona->geopandas) (1.15.0)\n",
            "Requirement already satisfied: attrs>=17 in /usr/local/lib/python3.6/dist-packages (from fiona->geopandas) (20.3.0)\n",
            "Collecting munch\n",
            "  Downloading https://files.pythonhosted.org/packages/cc/ab/85d8da5c9a45e072301beb37ad7f833cd344e04c817d97e0cc75681d248f/munch-2.5.0-py2.py3-none-any.whl\n",
            "Collecting click-plugins>=1.0\n",
            "  Downloading https://files.pythonhosted.org/packages/e9/da/824b92d9942f4e472702488857914bdd50f73021efea15b4cad9aca8ecef/click_plugins-1.1.1-py2.py3-none-any.whl\n",
            "Collecting cligj>=0.5\n",
            "  Downloading https://files.pythonhosted.org/packages/42/1e/947eadf10d6804bf276eb8a038bd5307996dceaaa41cfd21b7a15ec62f5d/cligj-0.7.1-py3-none-any.whl\n",
            "Requirement already satisfied: certifi in /usr/local/lib/python3.6/dist-packages (from fiona->geopandas) (2020.11.8)\n",
            "Requirement already satisfied: python-dateutil>=2.7.3 in /usr/local/lib/python3.6/dist-packages (from pandas>=0.23.0->geopandas) (2.8.1)\n",
            "Requirement already satisfied: numpy>=1.15.4 in /usr/local/lib/python3.6/dist-packages (from pandas>=0.23.0->geopandas) (1.18.5)\n",
            "Requirement already satisfied: pytz>=2017.2 in /usr/local/lib/python3.6/dist-packages (from pandas>=0.23.0->geopandas) (2018.9)\n",
            "Installing collected packages: munch, click-plugins, cligj, fiona, pyproj, geopandas\n",
            "Successfully installed click-plugins-1.1.1 cligj-0.7.1 fiona-1.8.18 geopandas-0.8.1 munch-2.5.0 pyproj-3.0.0.post1\n"
          ],
          "name": "stdout"
        }
      ]
    },
    {
      "cell_type": "code",
      "metadata": {
        "id": "3o1Q-LNI6wde"
      },
      "source": [
        "import pandas as pd\n",
        "import metpy\n",
        "import requests\n",
        "import json\n",
        "import matplotlib.pyplot as plt\n",
        "import numpy as np\n",
        "from datetime import datetime as dt\n",
        "import geopandas as gpd\n",
        "\n",
        "from math import radians, cos, sin, asin, sqrt\n",
        "\n",
        "def haversine(lon1, lat1, lon2, lat2):\n",
        "    \"\"\"\n",
        "    Calculate the great circle distance between two points \n",
        "    on the earth (specified in decimal degrees)\n",
        "    \"\"\"\n",
        "    # convert decimal degrees to radians \n",
        "    lon1, lat1, lon2, lat2 = map(radians, [lon1, lat1, lon2, lat2])\n",
        "\n",
        "    # haversine formula \n",
        "    dlon = lon2 - lon1 \n",
        "    dlat = lat2 - lat1 \n",
        "    a = sin(dlat/2)**2 + cos(lat1) * cos(lat2) * sin(dlon/2)**2\n",
        "    c = 2 * asin(sqrt(a)) \n",
        "    r = 3956 # Radius of earth in miles. Use 6371 for kilometers\n",
        "    return c * r"
      ],
      "execution_count": 3,
      "outputs": []
    },
    {
      "cell_type": "code",
      "metadata": {
        "id": "Oucm3XtE8DXc"
      },
      "source": [
        "stations_inventory = pd.read_csv('https://www1.ncdc.noaa.gov/pub/data/noaa/isd-inventory.csv',dtype='str')\n",
        "stations_list = pd.read_csv('https://www1.ncdc.noaa.gov/pub/data/noaa/isd-history.csv',dtype='str')\n",
        "stations_list['STATION NAME'] = stations_list['STATION NAME'].astype(str)"
      ],
      "execution_count": 201,
      "outputs": []
    },
    {
      "cell_type": "code",
      "metadata": {
        "id": "xYsBUgbLpPzt",
        "outputId": "7583aaff-b31d-4c3e-ceff-e94b952b59e1",
        "colab": {
          "base_uri": "https://localhost:8080/",
          "height": 332
        }
      },
      "source": [
        "# stations_list[stations_list['USAF']==718920]\r\n",
        "stations_list[stations_list['STATION NAME'].str.contains('VANCOUVER', regex=False)]\r\n",
        "# mask = stations_list['STATION NAME'].str.contains('VAN')\r\n"
      ],
      "execution_count": 203,
      "outputs": [
        {
          "output_type": "execute_result",
          "data": {
            "text/html": [
              "<div>\n",
              "<style scoped>\n",
              "    .dataframe tbody tr th:only-of-type {\n",
              "        vertical-align: middle;\n",
              "    }\n",
              "\n",
              "    .dataframe tbody tr th {\n",
              "        vertical-align: top;\n",
              "    }\n",
              "\n",
              "    .dataframe thead th {\n",
              "        text-align: right;\n",
              "    }\n",
              "</style>\n",
              "<table border=\"1\" class=\"dataframe\">\n",
              "  <thead>\n",
              "    <tr style=\"text-align: right;\">\n",
              "      <th></th>\n",
              "      <th>USAF</th>\n",
              "      <th>WBAN</th>\n",
              "      <th>STATION NAME</th>\n",
              "      <th>CTRY</th>\n",
              "      <th>STATE</th>\n",
              "      <th>ICAO</th>\n",
              "      <th>LAT</th>\n",
              "      <th>LON</th>\n",
              "      <th>ELEV(M)</th>\n",
              "      <th>BEGIN</th>\n",
              "      <th>END</th>\n",
              "    </tr>\n",
              "  </thead>\n",
              "  <tbody>\n",
              "    <tr>\n",
              "      <th>15860</th>\n",
              "      <td>712010</td>\n",
              "      <td>99999</td>\n",
              "      <td>VANCOUVER HARBOUR CS  BC</td>\n",
              "      <td>CA</td>\n",
              "      <td>NaN</td>\n",
              "      <td>CWHC</td>\n",
              "      <td>+49.283</td>\n",
              "      <td>-123.117</td>\n",
              "      <td>+0003.0</td>\n",
              "      <td>19800301</td>\n",
              "      <td>20201206</td>\n",
              "    </tr>\n",
              "    <tr>\n",
              "      <th>15861</th>\n",
              "      <td>712013</td>\n",
              "      <td>99999</td>\n",
              "      <td>VANCOUVER INTL</td>\n",
              "      <td>CA</td>\n",
              "      <td>NaN</td>\n",
              "      <td>WHC</td>\n",
              "      <td>+49.183</td>\n",
              "      <td>-123.167</td>\n",
              "      <td>+0003.0</td>\n",
              "      <td>19880105</td>\n",
              "      <td>19881208</td>\n",
              "    </tr>\n",
              "    <tr>\n",
              "      <th>16351</th>\n",
              "      <td>716080</td>\n",
              "      <td>99999</td>\n",
              "      <td>VANCOUVER SEA ISLAND CCG</td>\n",
              "      <td>CA</td>\n",
              "      <td>NaN</td>\n",
              "      <td>CVVR</td>\n",
              "      <td>+49.183</td>\n",
              "      <td>-123.183</td>\n",
              "      <td>+0002.1</td>\n",
              "      <td>19820102</td>\n",
              "      <td>20201206</td>\n",
              "    </tr>\n",
              "    <tr>\n",
              "      <th>16587</th>\n",
              "      <td>717840</td>\n",
              "      <td>99999</td>\n",
              "      <td>WEST VANCOUVER (AUT)</td>\n",
              "      <td>CA</td>\n",
              "      <td>NaN</td>\n",
              "      <td>CWWA</td>\n",
              "      <td>+49.350</td>\n",
              "      <td>-123.200</td>\n",
              "      <td>+0168.0</td>\n",
              "      <td>19950423</td>\n",
              "      <td>20201206</td>\n",
              "    </tr>\n",
              "    <tr>\n",
              "      <th>16831</th>\n",
              "      <td>718920</td>\n",
              "      <td>99999</td>\n",
              "      <td>VANCOUVER INTL</td>\n",
              "      <td>CA</td>\n",
              "      <td>NaN</td>\n",
              "      <td>CYVR</td>\n",
              "      <td>+49.194</td>\n",
              "      <td>-123.184</td>\n",
              "      <td>+0004.3</td>\n",
              "      <td>19550702</td>\n",
              "      <td>20201206</td>\n",
              "    </tr>\n",
              "    <tr>\n",
              "      <th>16832</th>\n",
              "      <td>718925</td>\n",
              "      <td>99999</td>\n",
              "      <td>VANCOUVER HARBOUR</td>\n",
              "      <td>CA</td>\n",
              "      <td>NaN</td>\n",
              "      <td>NaN</td>\n",
              "      <td>+49.300</td>\n",
              "      <td>-123.117</td>\n",
              "      <td>+0005.0</td>\n",
              "      <td>19770701</td>\n",
              "      <td>19800227</td>\n",
              "    </tr>\n",
              "    <tr>\n",
              "      <th>16833</th>\n",
              "      <td>718926</td>\n",
              "      <td>99999</td>\n",
              "      <td>VANCOUVER HARBOUR &amp;</td>\n",
              "      <td>CA</td>\n",
              "      <td>NaN</td>\n",
              "      <td>YHC</td>\n",
              "      <td>+49.300</td>\n",
              "      <td>-123.117</td>\n",
              "      <td>+0005.0</td>\n",
              "      <td>19790131</td>\n",
              "      <td>19790604</td>\n",
              "    </tr>\n",
              "    <tr>\n",
              "      <th>21296</th>\n",
              "      <td>728920</td>\n",
              "      <td>99999</td>\n",
              "      <td>VANCOUVER INTL</td>\n",
              "      <td>CA</td>\n",
              "      <td>NaN</td>\n",
              "      <td>NaN</td>\n",
              "      <td>+49.183</td>\n",
              "      <td>-123.167</td>\n",
              "      <td>+0003.0</td>\n",
              "      <td>19730101</td>\n",
              "      <td>19770630</td>\n",
              "    </tr>\n",
              "    <tr>\n",
              "      <th>21297</th>\n",
              "      <td>728925</td>\n",
              "      <td>99999</td>\n",
              "      <td>VANCOUVER HARBOUR &amp;</td>\n",
              "      <td>CA</td>\n",
              "      <td>NaN</td>\n",
              "      <td>NaN</td>\n",
              "      <td>+49.300</td>\n",
              "      <td>-123.117</td>\n",
              "      <td>+0005.0</td>\n",
              "      <td>19760212</td>\n",
              "      <td>19770630</td>\n",
              "    </tr>\n",
              "  </tbody>\n",
              "</table>\n",
              "</div>"
            ],
            "text/plain": [
              "         USAF   WBAN              STATION NAME  ...  ELEV(M)     BEGIN       END\n",
              "15860  712010  99999  VANCOUVER HARBOUR CS  BC  ...  +0003.0  19800301  20201206\n",
              "15861  712013  99999            VANCOUVER INTL  ...  +0003.0  19880105  19881208\n",
              "16351  716080  99999  VANCOUVER SEA ISLAND CCG  ...  +0002.1  19820102  20201206\n",
              "16587  717840  99999      WEST VANCOUVER (AUT)  ...  +0168.0  19950423  20201206\n",
              "16831  718920  99999            VANCOUVER INTL  ...  +0004.3  19550702  20201206\n",
              "16832  718925  99999         VANCOUVER HARBOUR  ...  +0005.0  19770701  19800227\n",
              "16833  718926  99999       VANCOUVER HARBOUR &  ...  +0005.0  19790131  19790604\n",
              "21296  728920  99999            VANCOUVER INTL  ...  +0003.0  19730101  19770630\n",
              "21297  728925  99999       VANCOUVER HARBOUR &  ...  +0005.0  19760212  19770630\n",
              "\n",
              "[9 rows x 11 columns]"
            ]
          },
          "metadata": {
            "tags": []
          },
          "execution_count": 203
        }
      ]
    },
    {
      "cell_type": "code",
      "metadata": {
        "colab": {
          "base_uri": "https://localhost:8080/"
        },
        "id": "Ghl8XuFNgt7c",
        "outputId": "bf0d33a3-0d70-43d3-ab3e-1438b0a2a442"
      },
      "source": [
        "ds = pd.DataFrame()\r\n",
        "ds['station'] = stations_list['STATION NAME']\r\n",
        "ds['begin'] = pd.to_datetime(stations_list['BEGIN'], format='%Y%m%d')\r\n",
        "ds['end'] = pd.to_datetime(stations_list['END'], format='%Y%m%d')\r\n",
        "ds['latitude'] = stations_list['LAT']\r\n",
        "ds['longitude'] = stations_list['LON']\r\n",
        "\r\n",
        "start = pd.Timestamp(1975,12,31)\r\n",
        "end = pd.Timestamp(2005,12,31)\r\n",
        "\r\n",
        "ds = ds[ds['begin'] < start]\r\n",
        "ds = ds[ds['end'] > end]\r\n",
        "\r\n",
        "gdf = gpd.GeoDataFrame(\r\n",
        "    ds, geometry=gpd.points_from_xy(\r\n",
        "        ds.longitude, ds.latitude)).set_crs(epsg=3857)\r\n",
        "\r\n",
        "gdf['distance'] = gdf['geometry'].apply(lambda x : haversine(x.x,\r\n",
        "                                                              x.y,\r\n",
        "                                                              -123.177,\r\n",
        "                                                              49.283))\r\n",
        "match = stations_list[stations_list.index==\r\n",
        "                      gdf[gdf['distance']==gdf['distance'].min()]['station'].index.values[0]]\r\n",
        "usaf = match['USAF'].values[0]\r\n",
        "wban = match['WBAN'].values[0]\r\n",
        "ext = str(usaf)+str(wban)\r\n",
        "print(gdf[gdf['distance']==gdf['distance'].min()]['station'].values[0])\r\n",
        "print(ext)"
      ],
      "execution_count": 175,
      "outputs": [
        {
          "output_type": "stream",
          "text": [
            "VANCOUVER INTL\n",
            "71892099999\n"
          ],
          "name": "stdout"
        }
      ]
    },
    {
      "cell_type": "code",
      "metadata": {
        "id": "bIbOLTtu9XLm",
        "outputId": "682bd335-fc59-423d-ce20-896ddda0c124",
        "colab": {
          "base_uri": "https://localhost:8080/"
        }
      },
      "source": [
        "r = 'https://www.ncei.noaa.gov/data/global-hourly/access/1976/71892099999.csv'\r\n",
        "\r\n",
        "from urllib.request import Request, urlopen\r\n",
        "from urllib.error import URLError, HTTPError\r\n",
        "allweather = pd.DataFrame()\r\n",
        "missingyears = []\r\n",
        "yearrange = range(1976-3,2005+3,1)\r\n",
        "ext = 71892099999\r\n",
        "for year in yearrange:\r\n",
        "  print(year)\r\n",
        "  url = 'https://www.ncei.noaa.gov/data/global-hourly/access/{y}/{e}.csv'.format(y=year,e=ext)\r\n",
        "  req = Request(url)\r\n",
        "  try:\r\n",
        "      response = urlopen(req)\r\n",
        "  except HTTPError as e:\r\n",
        "      print('For '+str(year)+' the server couldn\\'t fulfill the request.')\r\n",
        "      # print('Error code: ', e.code)\r\n",
        "      missingyears.append(year)\r\n",
        "  except URLError as e:\r\n",
        "      print('For '+str(year)+' the server couldn\\'t fulfill the request.')\r\n",
        "      # print('Reason: ', e.reason)\r\n",
        "      missingyears.append(year)\r\n",
        "      continue\r\n",
        "  else:\r\n",
        "      df = pd.read_csv(url)\r\n",
        "      allweather = allweather.append(df,ignore_index=True)\r\n",
        "      print('Website is working fine. Adding data to the dataframe.')"
      ],
      "execution_count": 261,
      "outputs": [
        {
          "output_type": "stream",
          "text": [
            "1973\n",
            "For 1973 the server couldn't fulfill the request.\n",
            "1974\n",
            "For 1974 the server couldn't fulfill the request.\n",
            "1975\n",
            "For 1975 the server couldn't fulfill the request.\n",
            "1976\n",
            "For 1976 the server couldn't fulfill the request.\n",
            "1977\n",
            "Website is working fine. Adding data to the dataframe.\n",
            "1978\n",
            "Website is working fine. Adding data to the dataframe.\n",
            "1979\n",
            "Website is working fine. Adding data to the dataframe.\n",
            "1980\n",
            "Website is working fine. Adding data to the dataframe.\n",
            "1981\n",
            "Website is working fine. Adding data to the dataframe.\n",
            "1982\n",
            "Website is working fine. Adding data to the dataframe.\n",
            "1983\n",
            "Website is working fine. Adding data to the dataframe.\n",
            "1984\n",
            "Website is working fine. Adding data to the dataframe.\n",
            "1985\n",
            "Website is working fine. Adding data to the dataframe.\n",
            "1986\n",
            "Website is working fine. Adding data to the dataframe.\n",
            "1987\n",
            "Website is working fine. Adding data to the dataframe.\n",
            "1988\n",
            "Website is working fine. Adding data to the dataframe.\n",
            "1989\n",
            "Website is working fine. Adding data to the dataframe.\n",
            "1990\n",
            "Website is working fine. Adding data to the dataframe.\n",
            "1991\n",
            "Website is working fine. Adding data to the dataframe.\n",
            "1992\n",
            "Website is working fine. Adding data to the dataframe.\n",
            "1993\n",
            "Website is working fine. Adding data to the dataframe.\n",
            "1994\n",
            "Website is working fine. Adding data to the dataframe.\n",
            "1995\n",
            "Website is working fine. Adding data to the dataframe.\n",
            "1996\n",
            "Website is working fine. Adding data to the dataframe.\n",
            "1997\n",
            "Website is working fine. Adding data to the dataframe.\n",
            "1998\n",
            "Website is working fine. Adding data to the dataframe.\n",
            "1999\n",
            "Website is working fine. Adding data to the dataframe.\n",
            "2000\n",
            "Website is working fine. Adding data to the dataframe.\n",
            "2001\n",
            "Website is working fine. Adding data to the dataframe.\n",
            "2002\n",
            "Website is working fine. Adding data to the dataframe.\n",
            "2003\n",
            "Website is working fine. Adding data to the dataframe.\n",
            "2004\n",
            "Website is working fine. Adding data to the dataframe.\n",
            "2005\n",
            "For 2005 the server couldn't fulfill the request.\n",
            "2006\n",
            "Website is working fine. Adding data to the dataframe.\n",
            "2007\n",
            "Website is working fine. Adding data to the dataframe.\n"
          ],
          "name": "stdout"
        }
      ]
    },
    {
      "cell_type": "code",
      "metadata": {
        "id": "PyxOgXib6yUJ",
        "colab": {
          "base_uri": "https://localhost:8080/",
          "height": 238
        },
        "outputId": "0119a9c8-37be-4f6e-c3fb-9940ad989802"
      },
      "source": [
        "df=allweather\n",
        "wind = df.WND.str.split(pat=',',expand=True).set_index(df.DATE).rename(columns={0:'wind_dir',\n",
        "                                                                            1:'wind_dirqc',\n",
        "                                                                            2:'wind_type',\n",
        "                                                                            3:'wind_spd',\n",
        "                                                                            4:'wind_spdqc'})\n",
        "\n",
        "sky = df.CIG.str.split(pat=',',expand=True).set_index(df.DATE).rename(columns={0:'sky_clg',\n",
        "                                                                               1:'sky_clgqc',\n",
        "                                                                               2:'sky_clgmethod',\n",
        "                                                                               3:'sky_cavok'})\n",
        "\n",
        "vis = df.VIS.str.split(pat=',',expand=True).set_index(df.DATE).rename(columns={0:'vis_dist',\n",
        "                                                                               1:'vis_distqc',\n",
        "                                                                               2:'vis_variable',\n",
        "                                                                               3:'vis_variableqc'})\n",
        "\n",
        "temp = df.TMP.str.split(pat=',',expand=True).set_index(df.DATE).rename(columns={0:'temp_cels',\n",
        "                                                                               1:'temp_cels_qc'})\n",
        "\n",
        "dew = df.DEW.str.split(pat=',',expand=True).set_index(df.DATE).rename(columns={0:'dew_temp',\n",
        "                                                                               1:'dew_tempqc'})\n",
        "\n",
        "psl = df.SLP.str.split(pat=',',expand=True).set_index(df.DATE).rename(columns={0:'psl_hpscal',\n",
        "                                                                               1:'psl_hpscalqc'})\n",
        "\n",
        "\n",
        "# datetime.strptime(d, \"%Y-%m-%dT%H:%M:%S%z\"\n",
        "dfall = pd.concat([wind,sky,vis,temp,dew,psl],axis=1)\n",
        "dfall = dfall.replace(['999','9','9999','99999','999999'],np.nan)\n",
        "dfall.index = pd.to_datetime(dfall.index)#, \"%Y-%m-%dT%H:%M:%S\")\n",
        "del dfall['wind_type']\n",
        "del dfall['sky_clgmethod']\n",
        "del dfall['sky_cavok']\n",
        "del dfall['vis_variable']\n",
        "\n",
        "def check(x):\n",
        "  if '+' in x:\n",
        "    x.replace('+','')\n",
        "    x = float(x)/10\n",
        "  elif '-' in x:\n",
        "    x.replace('-','')\n",
        "    x = float(x)*-1\n",
        "    x = x/10\n",
        "  else:\n",
        "    x = x/10\n",
        "  if x>100 or x<-100:\n",
        "    x = np.nan\n",
        "  else:\n",
        "    x=x\n",
        "  return x\n",
        "\n",
        "dfall['temp_cels'] = dfall.apply(lambda x: check(x['temp_cels']), axis=1)\n",
        "dfall['dew_temp'] = dfall.apply(lambda x: check(x['dew_temp']), axis=1)\n",
        "\n",
        "dfall = dfall.fillna(method='bfill').fillna(method='ffill').astype(float)\n",
        "dfall['wind_spd'] = dfall['wind_spd']/10\n",
        "dfall['psl_hpscal'] = dfall['psl_hpscal']/10\n",
        "dfobs = dfall[['wind_dir','wind_spd','sky_clg',\n",
        "               'temp_cels','dew_temp','psl_hpscal']].resample('1H').mean()\n",
        "def rhcalc(temp,dew): #magnus approximation\n",
        "  return 100*(np.exp((17.625*dew)/(243.04+dew))/np.exp((17.625*temp)/(243.04+temp)))\n",
        "\n",
        "dfobs['hurs'] = dfobs.apply(lambda x: rhcalc(x['temp_cels'],x['dew_temp']),axis=1)\n",
        "dfobs = dfobs.round(1)\n",
        "dfobs.head()"
      ],
      "execution_count": 262,
      "outputs": [
        {
          "output_type": "execute_result",
          "data": {
            "text/html": [
              "<div>\n",
              "<style scoped>\n",
              "    .dataframe tbody tr th:only-of-type {\n",
              "        vertical-align: middle;\n",
              "    }\n",
              "\n",
              "    .dataframe tbody tr th {\n",
              "        vertical-align: top;\n",
              "    }\n",
              "\n",
              "    .dataframe thead th {\n",
              "        text-align: right;\n",
              "    }\n",
              "</style>\n",
              "<table border=\"1\" class=\"dataframe\">\n",
              "  <thead>\n",
              "    <tr style=\"text-align: right;\">\n",
              "      <th></th>\n",
              "      <th>wind_dir</th>\n",
              "      <th>wind_spd</th>\n",
              "      <th>sky_clg</th>\n",
              "      <th>temp_cels</th>\n",
              "      <th>dew_temp</th>\n",
              "      <th>psl_hpscal</th>\n",
              "      <th>hurs</th>\n",
              "    </tr>\n",
              "    <tr>\n",
              "      <th>DATE</th>\n",
              "      <th></th>\n",
              "      <th></th>\n",
              "      <th></th>\n",
              "      <th></th>\n",
              "      <th></th>\n",
              "      <th></th>\n",
              "      <th></th>\n",
              "    </tr>\n",
              "  </thead>\n",
              "  <tbody>\n",
              "    <tr>\n",
              "      <th>1977-07-01 00:00:00</th>\n",
              "      <td>240.0</td>\n",
              "      <td>2.5</td>\n",
              "      <td>22000.0</td>\n",
              "      <td>21.0</td>\n",
              "      <td>11.0</td>\n",
              "      <td>1016.4</td>\n",
              "      <td>52.8</td>\n",
              "    </tr>\n",
              "    <tr>\n",
              "      <th>1977-07-01 01:00:00</th>\n",
              "      <td>230.0</td>\n",
              "      <td>1.0</td>\n",
              "      <td>22000.0</td>\n",
              "      <td>22.0</td>\n",
              "      <td>13.0</td>\n",
              "      <td>1015.2</td>\n",
              "      <td>56.7</td>\n",
              "    </tr>\n",
              "    <tr>\n",
              "      <th>1977-07-01 02:00:00</th>\n",
              "      <td>NaN</td>\n",
              "      <td>NaN</td>\n",
              "      <td>NaN</td>\n",
              "      <td>NaN</td>\n",
              "      <td>NaN</td>\n",
              "      <td>NaN</td>\n",
              "      <td>NaN</td>\n",
              "    </tr>\n",
              "    <tr>\n",
              "      <th>1977-07-01 03:00:00</th>\n",
              "      <td>170.0</td>\n",
              "      <td>0.0</td>\n",
              "      <td>9000.0</td>\n",
              "      <td>21.0</td>\n",
              "      <td>14.0</td>\n",
              "      <td>1013.9</td>\n",
              "      <td>64.3</td>\n",
              "    </tr>\n",
              "    <tr>\n",
              "      <th>1977-07-01 04:00:00</th>\n",
              "      <td>170.0</td>\n",
              "      <td>0.0</td>\n",
              "      <td>22000.0</td>\n",
              "      <td>21.0</td>\n",
              "      <td>11.0</td>\n",
              "      <td>1013.2</td>\n",
              "      <td>52.8</td>\n",
              "    </tr>\n",
              "  </tbody>\n",
              "</table>\n",
              "</div>"
            ],
            "text/plain": [
              "                     wind_dir  wind_spd  sky_clg  ...  dew_temp  psl_hpscal  hurs\n",
              "DATE                                              ...                            \n",
              "1977-07-01 00:00:00     240.0       2.5  22000.0  ...      11.0      1016.4  52.8\n",
              "1977-07-01 01:00:00     230.0       1.0  22000.0  ...      13.0      1015.2  56.7\n",
              "1977-07-01 02:00:00       NaN       NaN      NaN  ...       NaN         NaN   NaN\n",
              "1977-07-01 03:00:00     170.0       0.0   9000.0  ...      14.0      1013.9  64.3\n",
              "1977-07-01 04:00:00     170.0       0.0  22000.0  ...      11.0      1013.2  52.8\n",
              "\n",
              "[5 rows x 7 columns]"
            ]
          },
          "metadata": {
            "tags": []
          },
          "execution_count": 262
        }
      ]
    },
    {
      "cell_type": "code",
      "metadata": {
        "id": "aNV8flZGH2E4",
        "outputId": "2cc839f3-81a0-4db3-a2ac-e633082f15c5",
        "colab": {
          "base_uri": "https://localhost:8080/",
          "height": 745
        }
      },
      "source": [
        "dfobs['date'] = dfobs.index\r\n",
        "ax1 = dfobs.plot.scatter(x='date',\r\n",
        "                      y='temp_cels',\r\n",
        "                      c='DarkBlue')"
      ],
      "execution_count": 268,
      "outputs": [
        {
          "output_type": "error",
          "ename": "KeyError",
          "evalue": "ignored",
          "traceback": [
            "\u001b[0;31m---------------------------------------------------------------------------\u001b[0m",
            "\u001b[0;31mKeyError\u001b[0m                                  Traceback (most recent call last)",
            "\u001b[0;32m<ipython-input-268-16b02899ae6b>\u001b[0m in \u001b[0;36m<module>\u001b[0;34m()\u001b[0m\n\u001b[1;32m      2\u001b[0m ax1 = dfobs.plot.scatter(x=dfobs.index,\n\u001b[1;32m      3\u001b[0m                       \u001b[0my\u001b[0m\u001b[0;34m=\u001b[0m\u001b[0;34m'temp_cels'\u001b[0m\u001b[0;34m,\u001b[0m\u001b[0;34m\u001b[0m\u001b[0;34m\u001b[0m\u001b[0m\n\u001b[0;32m----> 4\u001b[0;31m                       c='DarkBlue')\n\u001b[0m",
            "\u001b[0;32m/usr/local/lib/python3.6/dist-packages/pandas/plotting/_core.py\u001b[0m in \u001b[0;36mscatter\u001b[0;34m(self, x, y, s, c, **kwargs)\u001b[0m\n\u001b[1;32m   1611\u001b[0m             ...                       colormap='viridis')\n\u001b[1;32m   1612\u001b[0m         \"\"\"\n\u001b[0;32m-> 1613\u001b[0;31m         \u001b[0;32mreturn\u001b[0m \u001b[0mself\u001b[0m\u001b[0;34m(\u001b[0m\u001b[0mkind\u001b[0m\u001b[0;34m=\u001b[0m\u001b[0;34m\"scatter\"\u001b[0m\u001b[0;34m,\u001b[0m \u001b[0mx\u001b[0m\u001b[0;34m=\u001b[0m\u001b[0mx\u001b[0m\u001b[0;34m,\u001b[0m \u001b[0my\u001b[0m\u001b[0;34m=\u001b[0m\u001b[0my\u001b[0m\u001b[0;34m,\u001b[0m \u001b[0ms\u001b[0m\u001b[0;34m=\u001b[0m\u001b[0ms\u001b[0m\u001b[0;34m,\u001b[0m \u001b[0mc\u001b[0m\u001b[0;34m=\u001b[0m\u001b[0mc\u001b[0m\u001b[0;34m,\u001b[0m \u001b[0;34m**\u001b[0m\u001b[0mkwargs\u001b[0m\u001b[0;34m)\u001b[0m\u001b[0;34m\u001b[0m\u001b[0;34m\u001b[0m\u001b[0m\n\u001b[0m\u001b[1;32m   1614\u001b[0m \u001b[0;34m\u001b[0m\u001b[0m\n\u001b[1;32m   1615\u001b[0m     \u001b[0;32mdef\u001b[0m \u001b[0mhexbin\u001b[0m\u001b[0;34m(\u001b[0m\u001b[0mself\u001b[0m\u001b[0;34m,\u001b[0m \u001b[0mx\u001b[0m\u001b[0;34m,\u001b[0m \u001b[0my\u001b[0m\u001b[0;34m,\u001b[0m \u001b[0mC\u001b[0m\u001b[0;34m=\u001b[0m\u001b[0;32mNone\u001b[0m\u001b[0;34m,\u001b[0m \u001b[0mreduce_C_function\u001b[0m\u001b[0;34m=\u001b[0m\u001b[0;32mNone\u001b[0m\u001b[0;34m,\u001b[0m \u001b[0mgridsize\u001b[0m\u001b[0;34m=\u001b[0m\u001b[0;32mNone\u001b[0m\u001b[0;34m,\u001b[0m \u001b[0;34m**\u001b[0m\u001b[0mkwargs\u001b[0m\u001b[0;34m)\u001b[0m\u001b[0;34m:\u001b[0m\u001b[0;34m\u001b[0m\u001b[0;34m\u001b[0m\u001b[0m\n",
            "\u001b[0;32m/usr/local/lib/python3.6/dist-packages/pandas/plotting/_core.py\u001b[0m in \u001b[0;36m__call__\u001b[0;34m(self, *args, **kwargs)\u001b[0m\n\u001b[1;32m    892\u001b[0m         \u001b[0;32mif\u001b[0m \u001b[0mkind\u001b[0m \u001b[0;32min\u001b[0m \u001b[0mself\u001b[0m\u001b[0;34m.\u001b[0m\u001b[0m_dataframe_kinds\u001b[0m\u001b[0;34m:\u001b[0m\u001b[0;34m\u001b[0m\u001b[0;34m\u001b[0m\u001b[0m\n\u001b[1;32m    893\u001b[0m             \u001b[0;32mif\u001b[0m \u001b[0misinstance\u001b[0m\u001b[0;34m(\u001b[0m\u001b[0mdata\u001b[0m\u001b[0;34m,\u001b[0m \u001b[0mABCDataFrame\u001b[0m\u001b[0;34m)\u001b[0m\u001b[0;34m:\u001b[0m\u001b[0;34m\u001b[0m\u001b[0;34m\u001b[0m\u001b[0m\n\u001b[0;32m--> 894\u001b[0;31m                 \u001b[0;32mreturn\u001b[0m \u001b[0mplot_backend\u001b[0m\u001b[0;34m.\u001b[0m\u001b[0mplot\u001b[0m\u001b[0;34m(\u001b[0m\u001b[0mdata\u001b[0m\u001b[0;34m,\u001b[0m \u001b[0mx\u001b[0m\u001b[0;34m=\u001b[0m\u001b[0mx\u001b[0m\u001b[0;34m,\u001b[0m \u001b[0my\u001b[0m\u001b[0;34m=\u001b[0m\u001b[0my\u001b[0m\u001b[0;34m,\u001b[0m \u001b[0mkind\u001b[0m\u001b[0;34m=\u001b[0m\u001b[0mkind\u001b[0m\u001b[0;34m,\u001b[0m \u001b[0;34m**\u001b[0m\u001b[0mkwargs\u001b[0m\u001b[0;34m)\u001b[0m\u001b[0;34m\u001b[0m\u001b[0;34m\u001b[0m\u001b[0m\n\u001b[0m\u001b[1;32m    895\u001b[0m             \u001b[0;32melse\u001b[0m\u001b[0;34m:\u001b[0m\u001b[0;34m\u001b[0m\u001b[0;34m\u001b[0m\u001b[0m\n\u001b[1;32m    896\u001b[0m                 \u001b[0;32mraise\u001b[0m \u001b[0mValueError\u001b[0m\u001b[0;34m(\u001b[0m\u001b[0;34mf\"plot kind {kind} can only be used for data frames\"\u001b[0m\u001b[0;34m)\u001b[0m\u001b[0;34m\u001b[0m\u001b[0;34m\u001b[0m\u001b[0m\n",
            "\u001b[0;32m/usr/local/lib/python3.6/dist-packages/pandas/plotting/_matplotlib/__init__.py\u001b[0m in \u001b[0;36mplot\u001b[0;34m(data, kind, **kwargs)\u001b[0m\n\u001b[1;32m     59\u001b[0m             \u001b[0mkwargs\u001b[0m\u001b[0;34m[\u001b[0m\u001b[0;34m\"ax\"\u001b[0m\u001b[0;34m]\u001b[0m \u001b[0;34m=\u001b[0m \u001b[0mgetattr\u001b[0m\u001b[0;34m(\u001b[0m\u001b[0max\u001b[0m\u001b[0;34m,\u001b[0m \u001b[0;34m\"left_ax\"\u001b[0m\u001b[0;34m,\u001b[0m \u001b[0max\u001b[0m\u001b[0;34m)\u001b[0m\u001b[0;34m\u001b[0m\u001b[0;34m\u001b[0m\u001b[0m\n\u001b[1;32m     60\u001b[0m     \u001b[0mplot_obj\u001b[0m \u001b[0;34m=\u001b[0m \u001b[0mPLOT_CLASSES\u001b[0m\u001b[0;34m[\u001b[0m\u001b[0mkind\u001b[0m\u001b[0;34m]\u001b[0m\u001b[0;34m(\u001b[0m\u001b[0mdata\u001b[0m\u001b[0;34m,\u001b[0m \u001b[0;34m**\u001b[0m\u001b[0mkwargs\u001b[0m\u001b[0;34m)\u001b[0m\u001b[0;34m\u001b[0m\u001b[0;34m\u001b[0m\u001b[0m\n\u001b[0;32m---> 61\u001b[0;31m     \u001b[0mplot_obj\u001b[0m\u001b[0;34m.\u001b[0m\u001b[0mgenerate\u001b[0m\u001b[0;34m(\u001b[0m\u001b[0;34m)\u001b[0m\u001b[0;34m\u001b[0m\u001b[0;34m\u001b[0m\u001b[0m\n\u001b[0m\u001b[1;32m     62\u001b[0m     \u001b[0mplot_obj\u001b[0m\u001b[0;34m.\u001b[0m\u001b[0mdraw\u001b[0m\u001b[0;34m(\u001b[0m\u001b[0;34m)\u001b[0m\u001b[0;34m\u001b[0m\u001b[0;34m\u001b[0m\u001b[0m\n\u001b[1;32m     63\u001b[0m     \u001b[0;32mreturn\u001b[0m \u001b[0mplot_obj\u001b[0m\u001b[0;34m.\u001b[0m\u001b[0mresult\u001b[0m\u001b[0;34m\u001b[0m\u001b[0;34m\u001b[0m\u001b[0m\n",
            "\u001b[0;32m/usr/local/lib/python3.6/dist-packages/pandas/plotting/_matplotlib/core.py\u001b[0m in \u001b[0;36mgenerate\u001b[0;34m(self)\u001b[0m\n\u001b[1;32m    269\u001b[0m         \u001b[0mself\u001b[0m\u001b[0;34m.\u001b[0m\u001b[0m_compute_plot_data\u001b[0m\u001b[0;34m(\u001b[0m\u001b[0;34m)\u001b[0m\u001b[0;34m\u001b[0m\u001b[0;34m\u001b[0m\u001b[0m\n\u001b[1;32m    270\u001b[0m         \u001b[0mself\u001b[0m\u001b[0;34m.\u001b[0m\u001b[0m_setup_subplots\u001b[0m\u001b[0;34m(\u001b[0m\u001b[0;34m)\u001b[0m\u001b[0;34m\u001b[0m\u001b[0;34m\u001b[0m\u001b[0m\n\u001b[0;32m--> 271\u001b[0;31m         \u001b[0mself\u001b[0m\u001b[0;34m.\u001b[0m\u001b[0m_make_plot\u001b[0m\u001b[0;34m(\u001b[0m\u001b[0;34m)\u001b[0m\u001b[0;34m\u001b[0m\u001b[0;34m\u001b[0m\u001b[0m\n\u001b[0m\u001b[1;32m    272\u001b[0m         \u001b[0mself\u001b[0m\u001b[0;34m.\u001b[0m\u001b[0m_add_table\u001b[0m\u001b[0;34m(\u001b[0m\u001b[0;34m)\u001b[0m\u001b[0;34m\u001b[0m\u001b[0;34m\u001b[0m\u001b[0m\n\u001b[1;32m    273\u001b[0m         \u001b[0mself\u001b[0m\u001b[0;34m.\u001b[0m\u001b[0m_make_legend\u001b[0m\u001b[0;34m(\u001b[0m\u001b[0;34m)\u001b[0m\u001b[0;34m\u001b[0m\u001b[0;34m\u001b[0m\u001b[0m\n",
            "\u001b[0;32m/usr/local/lib/python3.6/dist-packages/pandas/plotting/_matplotlib/core.py\u001b[0m in \u001b[0;36m_make_plot\u001b[0;34m(self)\u001b[0m\n\u001b[1;32m   1009\u001b[0m             \u001b[0mlabel\u001b[0m \u001b[0;34m=\u001b[0m \u001b[0;32mNone\u001b[0m\u001b[0;34m\u001b[0m\u001b[0;34m\u001b[0m\u001b[0m\n\u001b[1;32m   1010\u001b[0m         scatter = ax.scatter(\n\u001b[0;32m-> 1011\u001b[0;31m             \u001b[0mdata\u001b[0m\u001b[0;34m[\u001b[0m\u001b[0mx\u001b[0m\u001b[0;34m]\u001b[0m\u001b[0;34m.\u001b[0m\u001b[0mvalues\u001b[0m\u001b[0;34m,\u001b[0m\u001b[0;34m\u001b[0m\u001b[0;34m\u001b[0m\u001b[0m\n\u001b[0m\u001b[1;32m   1012\u001b[0m             \u001b[0mdata\u001b[0m\u001b[0;34m[\u001b[0m\u001b[0my\u001b[0m\u001b[0;34m]\u001b[0m\u001b[0;34m.\u001b[0m\u001b[0mvalues\u001b[0m\u001b[0;34m,\u001b[0m\u001b[0;34m\u001b[0m\u001b[0;34m\u001b[0m\u001b[0m\n\u001b[1;32m   1013\u001b[0m             \u001b[0mc\u001b[0m\u001b[0;34m=\u001b[0m\u001b[0mc_values\u001b[0m\u001b[0;34m,\u001b[0m\u001b[0;34m\u001b[0m\u001b[0;34m\u001b[0m\u001b[0m\n",
            "\u001b[0;32m/usr/local/lib/python3.6/dist-packages/pandas/core/frame.py\u001b[0m in \u001b[0;36m__getitem__\u001b[0;34m(self, key)\u001b[0m\n\u001b[1;32m   2910\u001b[0m             \u001b[0;32mif\u001b[0m \u001b[0mis_iterator\u001b[0m\u001b[0;34m(\u001b[0m\u001b[0mkey\u001b[0m\u001b[0;34m)\u001b[0m\u001b[0;34m:\u001b[0m\u001b[0;34m\u001b[0m\u001b[0;34m\u001b[0m\u001b[0m\n\u001b[1;32m   2911\u001b[0m                 \u001b[0mkey\u001b[0m \u001b[0;34m=\u001b[0m \u001b[0mlist\u001b[0m\u001b[0;34m(\u001b[0m\u001b[0mkey\u001b[0m\u001b[0;34m)\u001b[0m\u001b[0;34m\u001b[0m\u001b[0;34m\u001b[0m\u001b[0m\n\u001b[0;32m-> 2912\u001b[0;31m             \u001b[0mindexer\u001b[0m \u001b[0;34m=\u001b[0m \u001b[0mself\u001b[0m\u001b[0;34m.\u001b[0m\u001b[0mloc\u001b[0m\u001b[0;34m.\u001b[0m\u001b[0m_get_listlike_indexer\u001b[0m\u001b[0;34m(\u001b[0m\u001b[0mkey\u001b[0m\u001b[0;34m,\u001b[0m \u001b[0maxis\u001b[0m\u001b[0;34m=\u001b[0m\u001b[0;36m1\u001b[0m\u001b[0;34m,\u001b[0m \u001b[0mraise_missing\u001b[0m\u001b[0;34m=\u001b[0m\u001b[0;32mTrue\u001b[0m\u001b[0;34m)\u001b[0m\u001b[0;34m[\u001b[0m\u001b[0;36m1\u001b[0m\u001b[0;34m]\u001b[0m\u001b[0;34m\u001b[0m\u001b[0;34m\u001b[0m\u001b[0m\n\u001b[0m\u001b[1;32m   2913\u001b[0m \u001b[0;34m\u001b[0m\u001b[0m\n\u001b[1;32m   2914\u001b[0m         \u001b[0;31m# take() does not accept boolean indexers\u001b[0m\u001b[0;34m\u001b[0m\u001b[0;34m\u001b[0m\u001b[0;34m\u001b[0m\u001b[0m\n",
            "\u001b[0;32m/usr/local/lib/python3.6/dist-packages/pandas/core/indexing.py\u001b[0m in \u001b[0;36m_get_listlike_indexer\u001b[0;34m(self, key, axis, raise_missing)\u001b[0m\n\u001b[1;32m   1252\u001b[0m             \u001b[0mkeyarr\u001b[0m\u001b[0;34m,\u001b[0m \u001b[0mindexer\u001b[0m\u001b[0;34m,\u001b[0m \u001b[0mnew_indexer\u001b[0m \u001b[0;34m=\u001b[0m \u001b[0max\u001b[0m\u001b[0;34m.\u001b[0m\u001b[0m_reindex_non_unique\u001b[0m\u001b[0;34m(\u001b[0m\u001b[0mkeyarr\u001b[0m\u001b[0;34m)\u001b[0m\u001b[0;34m\u001b[0m\u001b[0;34m\u001b[0m\u001b[0m\n\u001b[1;32m   1253\u001b[0m \u001b[0;34m\u001b[0m\u001b[0m\n\u001b[0;32m-> 1254\u001b[0;31m         \u001b[0mself\u001b[0m\u001b[0;34m.\u001b[0m\u001b[0m_validate_read_indexer\u001b[0m\u001b[0;34m(\u001b[0m\u001b[0mkeyarr\u001b[0m\u001b[0;34m,\u001b[0m \u001b[0mindexer\u001b[0m\u001b[0;34m,\u001b[0m \u001b[0maxis\u001b[0m\u001b[0;34m,\u001b[0m \u001b[0mraise_missing\u001b[0m\u001b[0;34m=\u001b[0m\u001b[0mraise_missing\u001b[0m\u001b[0;34m)\u001b[0m\u001b[0;34m\u001b[0m\u001b[0;34m\u001b[0m\u001b[0m\n\u001b[0m\u001b[1;32m   1255\u001b[0m         \u001b[0;32mreturn\u001b[0m \u001b[0mkeyarr\u001b[0m\u001b[0;34m,\u001b[0m \u001b[0mindexer\u001b[0m\u001b[0;34m\u001b[0m\u001b[0;34m\u001b[0m\u001b[0m\n\u001b[1;32m   1256\u001b[0m \u001b[0;34m\u001b[0m\u001b[0m\n",
            "\u001b[0;32m/usr/local/lib/python3.6/dist-packages/pandas/core/indexing.py\u001b[0m in \u001b[0;36m_validate_read_indexer\u001b[0;34m(self, key, indexer, axis, raise_missing)\u001b[0m\n\u001b[1;32m   1296\u001b[0m             \u001b[0;32mif\u001b[0m \u001b[0mmissing\u001b[0m \u001b[0;34m==\u001b[0m \u001b[0mlen\u001b[0m\u001b[0;34m(\u001b[0m\u001b[0mindexer\u001b[0m\u001b[0;34m)\u001b[0m\u001b[0;34m:\u001b[0m\u001b[0;34m\u001b[0m\u001b[0;34m\u001b[0m\u001b[0m\n\u001b[1;32m   1297\u001b[0m                 \u001b[0maxis_name\u001b[0m \u001b[0;34m=\u001b[0m \u001b[0mself\u001b[0m\u001b[0;34m.\u001b[0m\u001b[0mobj\u001b[0m\u001b[0;34m.\u001b[0m\u001b[0m_get_axis_name\u001b[0m\u001b[0;34m(\u001b[0m\u001b[0maxis\u001b[0m\u001b[0;34m)\u001b[0m\u001b[0;34m\u001b[0m\u001b[0;34m\u001b[0m\u001b[0m\n\u001b[0;32m-> 1298\u001b[0;31m                 \u001b[0;32mraise\u001b[0m \u001b[0mKeyError\u001b[0m\u001b[0;34m(\u001b[0m\u001b[0;34mf\"None of [{key}] are in the [{axis_name}]\"\u001b[0m\u001b[0;34m)\u001b[0m\u001b[0;34m\u001b[0m\u001b[0;34m\u001b[0m\u001b[0m\n\u001b[0m\u001b[1;32m   1299\u001b[0m \u001b[0;34m\u001b[0m\u001b[0m\n\u001b[1;32m   1300\u001b[0m             \u001b[0;31m# We (temporarily) allow for some missing keys with .loc, except in\u001b[0m\u001b[0;34m\u001b[0m\u001b[0;34m\u001b[0m\u001b[0;34m\u001b[0m\u001b[0m\n",
            "\u001b[0;31mKeyError\u001b[0m: \"None of [DatetimeIndex(['1977-07-01 00:00:00', '1977-07-01 01:00:00',\\n               '1977-07-01 02:00:00', '1977-07-01 03:00:00',\\n               '1977-07-01 04:00:00', '1977-07-01 05:00:00',\\n               '1977-07-01 06:00:00', '1977-07-01 07:00:00',\\n               '1977-07-01 08:00:00', '1977-07-01 09:00:00',\\n               ...\\n               '2007-12-31 14:00:00', '2007-12-31 15:00:00',\\n               '2007-12-31 16:00:00', '2007-12-31 17:00:00',\\n               '2007-12-31 18:00:00', '2007-12-31 19:00:00',\\n               '2007-12-31 20:00:00', '2007-12-31 21:00:00',\\n               '2007-12-31 22:00:00', '2007-12-31 23:00:00'],\\n              dtype='datetime64[ns]', name='DATE', length=267384, freq='H')] are in the [columns]\""
          ]
        },
        {
          "output_type": "display_data",
          "data": {
            "image/png": "[encoded data removed]",
            "text/plain": [
              "<Figure size 432x288 with 1 Axes>"
            ]
          },
          "metadata": {
            "tags": [],
            "needs_background": "light"
          }
        }
      ]
    },
    {
      "cell_type": "code",
      "metadata": {
        "id": "nmQLILo4czh6",
        "colab": {
          "base_uri": "https://localhost:8080/",
          "height": 344
        },
        "outputId": "789d51d7-e44f-43cc-9c45-41bb81d8a3bc"
      },
      "source": [
        "fig, axs = plt.subplots(1,2,figsize=[13,5])\n",
        "plt.subplots_adjust(wspace=0.2, hspace=0.5)\n",
        "dfall.resample('1H').mean()['temp_cels'].plot(ax=axs[0])\n",
        "dfall['temp_cels'].plot(ax=axs[1])"
      ],
      "execution_count": 257,
      "outputs": [
        {
          "output_type": "execute_result",
          "data": {
            "text/plain": [
              "<matplotlib.axes._subplots.AxesSubplot at 0x7f59e012c470>"
            ]
          },
          "metadata": {
            "tags": []
          },
          "execution_count": 257
        },
        {
          "output_type": "display_data",
          "data": {
            "image/png": "[encoded data removed]",
            "text/plain": [
              "<Figure size 936x360 with 2 Axes>"
            ]
          },
          "metadata": {
            "tags": [],
            "needs_background": "light"
          }
        }
      ]
    },
    {
      "cell_type": "markdown",
      "metadata": {
        "id": "EsLys7kzQkMS"
      },
      "source": [
        "# The CDO API"
      ]
    },
    {
      "cell_type": "markdown",
      "metadata": {
        "id": "dbuG02V_Tkdz"
      },
      "source": [
        "Not really helpful in this situation but will come back to it one day."
      ]
    },
    {
      "cell_type": "code",
      "metadata": {
        "id": "v6dOBmPSQloj"
      },
      "source": [
        "key='DQLkuhyyGAKzyOQlazgSgZLKqawRaQKj'\r\n",
        "\r\n",
        "url = 'http://www.ncdc.noaa.gov/cdo-web/api/v2/datasets/NORMAL_MLY?stationid=COOP:718920'\r\n",
        "\r\n",
        "import requests\r\n",
        "\r\n",
        "headers = {\r\n",
        "    'token': key,\r\n",
        "}\r\n",
        "\r\n",
        "response = requests.get(url, headers=headers)"
      ],
      "execution_count": 288,
      "outputs": []
    },
    {
      "cell_type": "code",
      "metadata": {
        "id": "zHN4V3RdRtIq",
        "outputId": "fc54cf74-0808-47f9-8e75-99a3aea94bf7",
        "colab": {
          "base_uri": "https://localhost:8080/"
        }
      },
      "source": [
        "response.json()"
      ],
      "execution_count": 289,
      "outputs": [
        {
          "output_type": "execute_result",
          "data": {
            "text/plain": [
              "{'datacoverage': 1,\n",
              " 'id': 'NORMAL_MLY',\n",
              " 'maxdate': '2010-12-01',\n",
              " 'mindate': '2010-01-01',\n",
              " 'name': 'Normals Monthly'}"
            ]
          },
          "metadata": {
            "tags": []
          },
          "execution_count": 289
        }
      ]
    }
  ]
}